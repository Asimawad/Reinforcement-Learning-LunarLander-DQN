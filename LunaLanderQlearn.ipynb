{
  "cells": [
    {
      "cell_type": "markdown",
      "metadata": {
        "id": "_xJx85uUXjm7"
      },
      "source": [
        "# **Deep Q-Networks (DQN) Implementation for Lunarlander**\n",
        "## Asim Awad Hussein Osman\n",
        "\n",
        "## OverView:\n",
        "the main changes I made to make it work were:\n",
        "1. Change the batch size to 128\n",
        "2. change the buffer size to 15000 to increase the number of available samples\n",
        "3. Done scaling as I implemented it in Gymnasium on my local machine to allow for very fast experimentaion and trials, as the code runs very fast.\n",
        "4. Made Epsilon Decay over 10,000 steps and increased exploration"
      ]
    },
    {
      "cell_type": "markdown",
      "metadata": {
        "id": "QvHI8ny5Xjm9"
      },
      "source": [
        "## Setup"
      ]
    },
    {
      "cell_type": "code",
      "execution_count": null,
      "metadata": {
        "id": "00XkHUKeXjm9"
      },
      "outputs": [],
      "source": [
        "# @title Import required packages (run me) { display-mode: \"form\" }\n",
        "# Create the environment\n",
        "import copy\n",
        "from IPython.display import HTML\n",
        "from base64 import b64encode\n",
        "import chex\n",
        "import gymnasium as gym\n",
        "import collections # useful data structures\n",
        "import jax\n",
        "import random\n",
        "import haiku as hk # jax neural network library\n",
        "import numpy as np\n",
        "\n",
        "import jax.numpy as jnp # jax numpy\n",
        "import optax # jax optimizer library\n",
        "import matplotlib.pyplot as plt # graph plotting library\n",
        "import warnings\n",
        "warnings.filterwarnings('ignore')\n",
        "from helper import QActorState,select_greedy_action, update_target_params,TransitionMemory,build_network,q_learning_loss,select_epsilon_greedy_action\n",
        "import gymnasium as gym\n",
        "from gymnasium.wrappers import RecordVideo\n",
        "from shutil import rmtree # deleting directories"
      ]
    },
    {
      "cell_type": "code",
      "execution_count": null,
      "metadata": {
        "id": "F5VdzIr9Xjm-",
        "outputId": "ebb8b1ad-cb55-4795-9a8d-2a4e5e85f42a"
      },
      "outputs": [
        {
          "name": "stdout",
          "output_type": "stream",
          "text": [
            "Initial State:: [ 0.00767441  1.4186584   0.7773246   0.34389496 -0.008886   -0.1760757\n",
            "  0.          0.        ]\n",
            "Environment Obs Space Shape: (8,)\n",
            "Environment action space: Discrete(4)\n",
            "Number of actions: 4\n"
          ]
        }
      ],
      "source": [
        "# Instantiate the memory\n",
        "env_name = \"LunarLander-v2\"\n",
        "env = gym.make(env_name)\n",
        "# target_weights\n",
        "# Reset the environment\n",
        "s_0 = env.reset()[0]\n",
        "print(\"Initial State::\", s_0)\n",
        "\n",
        "# Get environment obs space\n",
        "obs_shape = env.observation_space.shape\n",
        "print(\"Environment Obs Space Shape:\", obs_shape)\n",
        "\n",
        "# Get action space - e.g. discrete or continuous\n",
        "print(f\"Environment action space: {env.action_space}\")\n",
        "\n",
        "# Get num actions\n",
        "num_actions = env.action_space.n\n",
        "print(f\"Number of actions: {num_actions}\")"
      ]
    },
    {
      "cell_type": "markdown",
      "metadata": {
        "id": "vPOQDGIsXjm_"
      },
      "source": [
        "## **Q-Learning**"
      ]
    },
    {
      "cell_type": "markdown",
      "metadata": {
        "id": "lDdf3draXjm_"
      },
      "source": [
        "### **Greedy action selection**\n"
      ]
    },
    {
      "cell_type": "code",
      "execution_count": null,
      "metadata": {
        "id": "3NHmBvftXjm_"
      },
      "outputs": [],
      "source": [
        "def select_greedy_action(q_values):\n",
        "\n",
        "  # YOUR CODE\n",
        "  action = jnp.argmax(q_values)\n",
        "  # END YOUR CODE\n",
        "\n",
        "  return action"
      ]
    },
    {
      "cell_type": "markdown",
      "metadata": {
        "id": "3xr7WlEUXjm_"
      },
      "source": [
        "### **Q-Network**\n"
      ]
    },
    {
      "cell_type": "code",
      "execution_count": null,
      "metadata": {
        "id": "GcTBjMhaXjm_"
      },
      "outputs": [],
      "source": [
        "def build_network(num_actions: int, layers=[20, 20]) -> hk.Transformed:\n",
        "  \"\"\"Factory for a simple MLP network for approximating Q-values.\"\"\"\n",
        "\n",
        "  def q_network(obs):\n",
        "    network = hk.Sequential(\n",
        "        [hk.Flatten(),\n",
        "         hk.nets.MLP(layers + [num_actions])])\n",
        "    return network(obs)\n",
        "\n",
        "  return hk.without_apply_rng(hk.transform(q_network))"
      ]
    },
    {
      "cell_type": "markdown",
      "metadata": {
        "id": "eq55VNDjXjnA"
      },
      "source": [
        "Let's initialise our Q-network and get the initial parameters."
      ]
    },
    {
      "cell_type": "code",
      "execution_count": null,
      "metadata": {
        "id": "zvn2Yvt2XjnA",
        "outputId": "09697cf3-849b-45de-b7ff-9af708798988"
      },
      "outputs": [
        {
          "name": "stdout",
          "output_type": "stream",
          "text": [
            "Q-Learning params: dict_keys(['mlp/~/linear_0', 'mlp/~/linear_1', 'mlp/~/linear_2'])\n"
          ]
        }
      ],
      "source": [
        "# Initialise Q-network\n",
        "Q_NETWORK = build_network(num_actions=num_actions, layers=[20, 20]) # two actions\n",
        "dummy_obs = jnp.zeros((1,*obs_shape), jnp.float32) # a dummy observation like the one in CartPole\n",
        "random_key = jax.random.PRNGKey(0) # random key\n",
        "Q_NETWORK_PARAMS = Q_NETWORK.init(random_key, dummy_obs) # Get initial params\n",
        "print(\"Q-Learning params:\", Q_NETWORK_PARAMS.keys())"
      ]
    },
    {
      "cell_type": "markdown",
      "metadata": {
        "id": "CzoQxqZ6XjnA"
      },
      "source": [
        "### **The Bellman Equations**\n"
      ]
    },
    {
      "cell_type": "code",
      "execution_count": null,
      "metadata": {
        "id": "DrolGfrKXjnA"
      },
      "outputs": [],
      "source": [
        "\n",
        "def compute_squared_error(pred, target):\n",
        "\n",
        "  return  jnp.square(pred-target)\n"
      ]
    },
    {
      "cell_type": "markdown",
      "metadata": {
        "id": "50m9eTzTXjnA"
      },
      "source": [
        "### **Target Q-network**\n"
      ]
    },
    {
      "cell_type": "code",
      "execution_count": null,
      "metadata": {
        "id": "KU6ljPMvXjnA"
      },
      "outputs": [],
      "source": [
        "# Store online and target parameters\n",
        "QLearnParams = collections.namedtuple(\"Params\", [\"online\", \"target\"])\n",
        "\n",
        "# Q-learn-state\n",
        "QLearnState = collections.namedtuple(\"LearnerState\", [\"count\", \"optim_state\"])\n"
      ]
    },
    {
      "cell_type": "markdown",
      "metadata": {
        "id": "25Lm2QWaXjnB"
      },
      "source": [
        "We will be using **Optax** to optimize our neural network. We store the state of the optimizer in the `learn_state` above. Lets now instantiate the optimizer and add the initial Q-network parameters to a `QLearnParams` object."
      ]
    },
    {
      "cell_type": "code",
      "execution_count": null,
      "metadata": {
        "id": "7yPlhzNgXjnB"
      },
      "outputs": [],
      "source": [
        "# Initialise Q-network optimizer\n",
        "Q_LEARN_OPTIMIZER = optax.adam(1e-3) # learning rate\n",
        "Q_LEARN_OPTIM_STATE = Q_LEARN_OPTIMIZER.init(Q_NETWORK_PARAMS) # initial optim state\n",
        "# Create Learn State\n",
        "Q_LEARNING_LEARN_STATE = QLearnState(0, Q_LEARN_OPTIM_STATE) # count set to zero initially\n",
        "# Add initial Q-network weights to QLearnParams object\n",
        "Q_LEARNING_PARAMS = QLearnParams(online=Q_NETWORK_PARAMS, target=Q_NETWORK_PARAMS) # target equal to online\n"
      ]
    },
    {
      "cell_type": "code",
      "execution_count": null,
      "metadata": {
        "id": "z637k6d1XjnB"
      },
      "outputs": [],
      "source": [
        "def update_target_params(learn_state, online_weights, target_weights, update_frequency=100):\n",
        "  \"\"\"A function to update target params every 100 training steps\"\"\"\n",
        "\n",
        "  target = jax.lax.cond(\n",
        "      jnp.mod(learn_state.count, update_frequency) == 0,\n",
        "      lambda x, y: x,\n",
        "      lambda x, y: y,\n",
        "      online_weights,\n",
        "      target_weights\n",
        "  )\n",
        "\n",
        "  params = QLearnParams(online_weights, target)\n",
        "\n",
        "  return params"
      ]
    },
    {
      "cell_type": "markdown",
      "metadata": {
        "id": "JyIMintDXjnB"
      },
      "source": [
        "### **Q-learning loss**\n",
        "\n"
      ]
    },
    {
      "cell_type": "code",
      "execution_count": null,
      "metadata": {
        "id": "q8VF3RKNXjnB"
      },
      "outputs": [],
      "source": [
        "def batched_q_learning_loss(online_params, target_params, obs, actions, rewards, next_obs, dones):\n",
        "    q_values = Q_NETWORK.apply(online_params, obs) # use the online parameters\n",
        "    next_q_values = Q_NETWORK.apply(target_params, next_obs) # use the target parameters\n",
        "    squared_error = jax.vmap(q_learning_loss)(q_values, actions, rewards, dones, next_q_values) # vmap q_learning_loss\n",
        "    mean_squared_error = jnp.mean(squared_error) # mean squared error over batch\n",
        "    return mean_squared_error"
      ]
    },
    {
      "cell_type": "markdown",
      "metadata": {
        "id": "nPidoeLEXjnB"
      },
      "source": [
        "Now we can create the `q_learn` function which computes the gradient of the `batched_q_learning_loss` and then uses an Optax optimizer to update the network weights and then finally (maybe) updates the target parameters."
      ]
    },
    {
      "cell_type": "code",
      "execution_count": null,
      "metadata": {
        "id": "go_KcyhFXjnB"
      },
      "outputs": [],
      "source": [
        "def q_learn(rng, params, learner_state, memory):\n",
        "  # Compute gradients\n",
        "  grad_loss = jax.grad(batched_q_learning_loss)(params.online, params.target, memory.obs,\n",
        "                                          memory.action, memory.reward,\n",
        "                                          memory.next_obs, memory.done,\n",
        "                                          ) # jax.grad\n",
        "\n",
        "  # Get updates\n",
        "  updates, opt_state = Q_LEARN_OPTIMIZER.update(grad_loss, learner_state.optim_state)\n",
        "\n",
        "  # Apply them\n",
        "  new_weights = optax.apply_updates(params.online, updates)\n",
        "\n",
        "  # Maybe update target network\n",
        "  params = update_target_params(learner_state, new_weights, params.target)\n",
        "\n",
        "  # Increment learner step counter\n",
        "  learner_state = QLearnState(learner_state.count + 1, opt_state)\n",
        "\n",
        "  return params, learner_state"
      ]
    },
    {
      "cell_type": "markdown",
      "metadata": {
        "id": "qmaqLZtGXjnB"
      },
      "source": [
        "### **A General Purpose RL Training Loop**\n"
      ]
    },
    {
      "cell_type": "code",
      "execution_count": null,
      "metadata": {
        "id": "gv9Vy_EVXjnC"
      },
      "outputs": [],
      "source": [
        "#@title Training loop (run me) { display-mode: \"form\" }\n",
        "\n",
        "# NamedTuple to store transitions\n",
        "Transition = collections.namedtuple(\"Transition\", [\"obs\", \"action\", \"reward\", \"next_obs\", \"done\"])\n",
        "\n",
        "def run_training_loop(env_name, agent_params, agent_select_action_func,\n",
        "\n",
        "    agent_actor_state=None, agent_learn_func=None, agent_learner_state=None,\n",
        "    agent_memory=None, num_episodes=1000, evaluator_period=10,\n",
        "    evaluation_episodes=8, learn_steps_per_episode=1,\n",
        "    train_every_timestep=False, video_subdir=\"\",):\n",
        "\n",
        "\n",
        "    # Setup Cartpole environment and recorder\n",
        "    env = gym.make(env_name, render_mode=\"rgb_array\") # training environment\n",
        "    eval_env = gym.make(env_name, render_mode=\"rgb_array\") # evaluation environment\n",
        "\n",
        "    # Video dir\n",
        "    video_dir = \"./video\"+\"/\"+video_subdir\n",
        "\n",
        "    # Clear video dir\n",
        "    try:\n",
        "      rmtree(video_dir)\n",
        "    except:\n",
        "      pass\n",
        "\n",
        "    # Wrap in recorder\n",
        "    env = RecordVideo(env, video_dir+\"/train\", episode_trigger=lambda x: (x % evaluator_period) == 0,disable_logger=True)\n",
        "    eval_env = RecordVideo(eval_env, video_dir+\"/eval\", episode_trigger=lambda x: (x % evaluation_episodes) == 0,disable_logger=True)\n",
        "\n",
        "    # JAX random number generator\n",
        "    rng = hk.PRNGSequence(jax.random.PRNGKey(0))\n",
        "    # env.seed(0) # seed environment for reproducability\n",
        "    random.seed(0)\n",
        "\n",
        "    episode_returns = [] # List to store history of episode returns.\n",
        "    evaluator_episode_returns = [] # List to store history of evaluator returns.\n",
        "    timesteps = 0\n",
        "    for episode in range(num_episodes):\n",
        "\n",
        "        # Reset environment.\n",
        "        obs = env.reset()[0]\n",
        "        episode_return = 0\n",
        "        done = False\n",
        "        # print(f\"Observation: {obs}, Shape: {np.shape(obs)}\")\n",
        "\n",
        "        while not done:\n",
        "\n",
        "            # Agent select action.\n",
        "            action, agent_actor_state = agent_select_action_func(\n",
        "                                            next(rng),\n",
        "                                            agent_params,\n",
        "                                            agent_actor_state,\n",
        "                                            np.array(obs)\n",
        "                                        )\n",
        "\n",
        "            # Step environment.\n",
        "            next_obs, reward, terminated, truncated,_ = env.step(int(action))\n",
        "            done =  terminated or truncated\n",
        "            # Pack into transition.\n",
        "            transition = Transition(obs, action, reward, next_obs, done)\n",
        "\n",
        "            # Add transition to memory.\n",
        "            if agent_memory: # check if agent has memory\n",
        "              agent_memory.push(transition)\n",
        "\n",
        "            # Add reward to episode return.\n",
        "            episode_return += reward\n",
        "\n",
        "            # Set obs to next obs before next environment step. CRITICAL!!!\n",
        "            obs = next_obs\n",
        "\n",
        "            # Increment timestep counter\n",
        "            timesteps += 1\n",
        "\n",
        "            # Maybe learn every timestep\n",
        "            if train_every_timestep and (timesteps % 4 == 0) and agent_memory and agent_memory.is_ready(): # Make sure memory is ready\n",
        "                # First sample memory and then pass the result to the learn function\n",
        "                memory = agent_memory.sample()\n",
        "                agent_params, agent_learner_state = agent_learn_func(\n",
        "                                                        next(rng),\n",
        "                                                        agent_params,\n",
        "                                                        agent_learner_state,\n",
        "                                                        memory\n",
        "                                                    )\n",
        "\n",
        "        episode_returns.append(episode_return)\n",
        "\n",
        "        # At the end of every episode we do a learn step.\n",
        "        if agent_memory and agent_memory.is_ready(): # Make sure memory is ready\n",
        "\n",
        "            for _ in range(learn_steps_per_episode):\n",
        "                # First sample memory and then pass the result to the learn function\n",
        "                memory = agent_memory.sample()\n",
        "                agent_params, agent_learner_state = agent_learn_func(\n",
        "                                                        next(rng),\n",
        "                                                        agent_params,\n",
        "                                                        agent_learner_state,\n",
        "                                                        memory\n",
        "                                                    )\n",
        "\n",
        "        if (episode % evaluator_period) == 0: # Do evaluation\n",
        "\n",
        "            evaluator_episode_return = 0\n",
        "            for eval_episode in range(evaluation_episodes):\n",
        "                obs = eval_env.reset()[0]\n",
        "                done = False\n",
        "                while not done:\n",
        "                    action, _ = agent_select_action_func(\n",
        "                                    next(rng),\n",
        "                                    agent_params,\n",
        "                                    agent_actor_state,\n",
        "                                    np.array(obs),\n",
        "                                    evaluation=True\n",
        "                                )\n",
        "\n",
        "                    obs, reward,  terminated, truncated, _ = eval_env.step(int(action))\n",
        "                    done =  terminated or truncated\n",
        "                    evaluator_episode_return += reward\n",
        "\n",
        "            evaluator_episode_return /= evaluation_episodes\n",
        "\n",
        "            evaluator_episode_returns.append(evaluator_episode_return)\n",
        "\n",
        "            logs = [\n",
        "                    f\"Episode: {episode}\",\n",
        "                    f\"Epsilon: {get_epsilon(timesteps)}\",\n",
        "                    f\"Episode Return: {episode_return}\",\n",
        "                    f\"Average Episode Return: {np.mean(episode_returns[-20:])}\",\n",
        "                    f\"Evaluator Episode Return: {evaluator_episode_return}\"\n",
        "            ]\n",
        "\n",
        "            print(*logs, sep=\"\\t\") # Print the logs\n",
        "\n",
        "    env.close()\n",
        "    eval_env.close()\n",
        "\n",
        "    return episode_returns, evaluator_episode_returns\n"
      ]
    },
    {
      "cell_type": "markdown",
      "metadata": {
        "id": "mlWYchgHXjnC"
      },
      "source": [
        "### **Replay Buffer**\n"
      ]
    },
    {
      "cell_type": "code",
      "execution_count": null,
      "metadata": {
        "id": "ZgyA8pqaXjnC"
      },
      "outputs": [],
      "source": [
        "class TransitionMemory(object):\n",
        "  \"\"\"A simple Python replay buffer.\"\"\"\n",
        "\n",
        "  def __init__(self, max_size=10_000, batch_size=256):\n",
        "    self.batch_size = batch_size\n",
        "    self.buffer = collections.deque(maxlen=max_size)\n",
        "\n",
        "  def push(self, transition):\n",
        "\n",
        "    # add transition to the replay buffer\n",
        "    self.buffer.append(\n",
        "        (transition.obs, transition.action, transition.reward,\n",
        "          transition.next_obs, transition.done)\n",
        "    )\n",
        "  def is_ready(self):\n",
        "    return self.batch_size <= len(self.buffer)\n",
        "\n",
        "  def sample(self):\n",
        "    # Randomly sample a batch of transitions from the buffer\n",
        "    random_replay_sample = random.sample(self.buffer, self.batch_size)\n",
        "\n",
        "    # Batch the transitions together\n",
        "    obs_batch, action_batch, reward_batch, next_obs_batch, done_batch = zip(*random_replay_sample)\n",
        "\n",
        "    return Transition(\n",
        "        np.stack(obs_batch).astype(\"float32\"),\n",
        "        np.asarray(action_batch).astype(\"int32\"),\n",
        "        np.asarray(reward_batch).astype(\"float32\"),\n",
        "        np.stack(next_obs_batch).astype(\"float32\"),\n",
        "        np.asarray(done_batch).astype(\"float32\")\n",
        "    )\n",
        "# Instantiate the memory\n",
        "Q_LEARNING_MEMORY = TransitionMemory(max_size=15_000, batch_size=128)"
      ]
    },
    {
      "cell_type": "markdown",
      "metadata": {
        "id": "5TuD4_HsXjnC"
      },
      "source": [
        "### **Random exploration**\n"
      ]
    },
    {
      "cell_type": "code",
      "execution_count": null,
      "metadata": {
        "id": "lmigOTLUXjnC"
      },
      "outputs": [],
      "source": [
        "def select_random_action(key, num_actions):\n",
        "    # YOUR CODE\n",
        "    action = jax.random.randint(\n",
        "        key,\n",
        "        shape=(),\n",
        "        minval=0,\n",
        "        maxval=num_actions\n",
        "    )\n",
        "    # END YOUR CODE\n",
        "\n",
        "    return action"
      ]
    },
    {
      "cell_type": "markdown",
      "metadata": {
        "id": "1tPcKNLxXjnC"
      },
      "source": [
        "### **$\\varepsilon$-greedy action selection**"
      ]
    },
    {
      "cell_type": "code",
      "execution_count": null,
      "metadata": {
        "id": "I9w62xomXjnC"
      },
      "outputs": [],
      "source": [
        "EPSILON_DECAY_TIMESTEPS = 10000 # decay epsilon over 3000 timesteps\n",
        "EPSILON_MIN = 0.15 # 10% exploration"
      ]
    },
    {
      "cell_type": "code",
      "execution_count": null,
      "metadata": {
        "id": "UGU_jATRXjnD"
      },
      "outputs": [],
      "source": [
        "def get_epsilon(num_timesteps):\n",
        "\n",
        "  # YOUR CODE\n",
        "  epsilon = 1.0 - num_timesteps / EPSILON_DECAY_TIMESTEPS\n",
        "\n",
        "  epsilon = jax.lax.select(\n",
        "      epsilon < EPSILON_MIN,\n",
        "      EPSILON_MIN,\n",
        "      epsilon\n",
        "  )\n",
        "  # END CODE\n",
        "\n",
        "  return epsilon\n"
      ]
    },
    {
      "cell_type": "code",
      "execution_count": null,
      "metadata": {
        "id": "c90q47tIXjnD"
      },
      "outputs": [],
      "source": [
        "def select_epsilon_greedy_action(key, q_values, num_timesteps):\n",
        "    num_actions = len(q_values) # number of available actions\n",
        "\n",
        "    # YOUR CODE HERE\n",
        "    epsilon = get_epsilon(num_timesteps) # get epsilon value\n",
        "\n",
        "    should_explore = jax.random.uniform(key, minval=0.0, maxval=1.0) <= epsilon  # hint: a boolean expression to check if some random number is less than epsilon\n",
        "\n",
        "    action = jax.lax.select(\n",
        "        should_explore,\n",
        "        select_random_action(key, num_actions) , # if should explore\n",
        "        select_greedy_action(q_values) # if should be greedy\n",
        "    )\n",
        "    # END YOUR CODE\n",
        "\n",
        "    return action\n",
        "\n"
      ]
    },
    {
      "cell_type": "markdown",
      "metadata": {
        "id": "bF5L86zLXjnD"
      },
      "source": [
        "### **Q-learning select action**\n"
      ]
    },
    {
      "cell_type": "code",
      "execution_count": null,
      "metadata": {
        "id": "QJR0JMZdXjnD"
      },
      "outputs": [],
      "source": [
        "# Actor state stores the current number of timesteps\n",
        "QActorState = collections.namedtuple(\"ActorState\", [\"count\"])\n",
        "\n",
        "def q_learning_select_action(key, params, actor_state, obs, evaluation=False):\n",
        "    obs = jnp.expand_dims(obs, axis=0) # add dummy batch dim\n",
        "    q_values = Q_NETWORK.apply(params.online, obs)[0] # remove batch dim\n",
        "\n",
        "    action = select_epsilon_greedy_action(key, q_values, actor_state.count)\n",
        "    greedy_action = select_greedy_action(q_values)\n",
        "\n",
        "    action = jax.lax.select(\n",
        "        evaluation,\n",
        "        greedy_action,\n",
        "        action\n",
        "    )\n",
        "\n",
        "    next_actor_state = QActorState(actor_state.count + 1) # increment timestep counter\n",
        "\n",
        "    return action, next_actor_state\n",
        "\n",
        "Q_LEARNING_ACTOR_STATE = QActorState(0) # counter set to zero"
      ]
    },
    {
      "cell_type": "markdown",
      "metadata": {
        "id": "zBAtXdM5XjnD"
      },
      "source": [
        "### **Training**\n",
        "We can now put everything together using the agent-environment loop. We also `jit` the select action function and the learn function for some extra speed!"
      ]
    },
    {
      "cell_type": "code",
      "execution_count": null,
      "metadata": {
        "id": "Xqx5K1pRXjnE"
      },
      "outputs": [],
      "source": [
        "# Jit functions\n",
        "q_learning_select_action_jit = jax.jit(q_learning_select_action)\n",
        "q_learn_jit = jax.jit(q_learn)"
      ]
    },
    {
      "cell_type": "code",
      "execution_count": null,
      "metadata": {
        "id": "2yX7ExwfXjnE",
        "outputId": "02237d85-5997-4504-a0ee-8b01fc0d0bd4"
      },
      "outputs": [
        {
          "name": "stdout",
          "output_type": "stream",
          "text": [
            "Starting training. This may take a few minutes to complete.\n",
            "Episode: 0\tEpsilon: 0.9911999702453613\tEpisode Return: -380.2207727231641\tAverage Episode Return: -380.2207727231641\tEvaluator Episode Return: -641.2400995210653\n",
            "Episode: 10\tEpsilon: 0.8906000256538391\tEpisode Return: -159.05279369818902\tAverage Episode Return: -271.7338259906496\tEvaluator Episode Return: -745.8984534666253\n",
            "Episode: 20\tEpsilon: 0.7878000140190125\tEpisode Return: -320.2003378562764\tAverage Episode Return: -227.9111434301163\tEvaluator Episode Return: -853.9897708178642\n",
            "Episode: 30\tEpsilon: 0.6890000104904175\tEpisode Return: -201.45022887445242\tAverage Episode Return: -170.2429736860377\tEvaluator Episode Return: -719.457024624039\n",
            "Episode: 40\tEpsilon: 0.5649999976158142\tEpisode Return: -50.86362746882925\tAverage Episode Return: -154.3750480353623\tEvaluator Episode Return: -142.48056879806822\n",
            "Episode: 50\tEpsilon: 0.3698999881744385\tEpisode Return: -80.48673015010905\tAverage Episode Return: -168.79883021463615\tEvaluator Episode Return: -87.17535623334197\n",
            "Episode: 60\tEpsilon: 0.15000000596046448\tEpisode Return: -109.63423454067097\tAverage Episode Return: -137.06515032458725\tEvaluator Episode Return: -78.16604291592049\n",
            "Episode: 70\tEpsilon: 0.15000000596046448\tEpisode Return: -29.100104987676474\tAverage Episode Return: -87.11190515448604\tEvaluator Episode Return: -80.33158937122947\n",
            "Episode: 80\tEpsilon: 0.15000000596046448\tEpisode Return: -75.4569070901839\tAverage Episode Return: -89.11136063833247\tEvaluator Episode Return: -70.70969689751627\n",
            "Episode: 90\tEpsilon: 0.15000000596046448\tEpisode Return: -79.92973674513354\tAverage Episode Return: -89.44495070160471\tEvaluator Episode Return: -56.860161853949506\n",
            "Episode: 100\tEpsilon: 0.15000000596046448\tEpisode Return: -109.1989012321325\tAverage Episode Return: -65.09074450274503\tEvaluator Episode Return: -59.71603803527592\n",
            "Episode: 110\tEpsilon: 0.15000000596046448\tEpisode Return: 256.82759823711865\tAverage Episode Return: -0.2571756280636265\tEvaluator Episode Return: 117.61499178762318\n",
            "Episode: 120\tEpsilon: 0.15000000596046448\tEpisode Return: 140.94750032956352\tAverage Episode Return: 96.9779488983999\tEvaluator Episode Return: -12.768236744359616\n",
            "Episode: 130\tEpsilon: 0.15000000596046448\tEpisode Return: 251.62036226818887\tAverage Episode Return: 148.33580462620836\tEvaluator Episode Return: -11.999821443798373\n",
            "Episode: 140\tEpsilon: 0.15000000596046448\tEpisode Return: 177.81446949032608\tAverage Episode Return: 143.47710524751986\tEvaluator Episode Return: 153.38690769044695\n",
            "Episode: 150\tEpsilon: 0.15000000596046448\tEpisode Return: 148.50192043686798\tAverage Episode Return: 107.02199075011897\tEvaluator Episode Return: 156.70378738851844\n",
            "Episode: 160\tEpsilon: 0.15000000596046448\tEpisode Return: 101.82546177302689\tAverage Episode Return: 40.942282449483095\tEvaluator Episode Return: 171.18591286621736\n",
            "Episode: 170\tEpsilon: 0.15000000596046448\tEpisode Return: -93.0628478812135\tAverage Episode Return: 53.24511962987132\tEvaluator Episode Return: -89.11560114960533\n",
            "Episode: 180\tEpsilon: 0.15000000596046448\tEpisode Return: 14.898023298385397\tAverage Episode Return: 85.78147380886875\tEvaluator Episode Return: -20.569206772507126\n",
            "Episode: 190\tEpsilon: 0.15000000596046448\tEpisode Return: -563.5911662047557\tAverage Episode Return: 48.87457334809777\tEvaluator Episode Return: 25.775909585536365\n",
            "Episode: 200\tEpsilon: 0.15000000596046448\tEpisode Return: 49.00431385416147\tAverage Episode Return: 82.78322138609674\tEvaluator Episode Return: 147.48561608971667\n",
            "Episode: 210\tEpsilon: 0.15000000596046448\tEpisode Return: -181.76297128752577\tAverage Episode Return: 115.6428461298677\tEvaluator Episode Return: 59.647736023598206\n",
            "Episode: 220\tEpsilon: 0.15000000596046448\tEpisode Return: 37.94074837684491\tAverage Episode Return: 83.24969966248099\tEvaluator Episode Return: 103.97563549725959\n",
            "Episode: 230\tEpsilon: 0.15000000596046448\tEpisode Return: 114.93015785060136\tAverage Episode Return: 73.8364623955038\tEvaluator Episode Return: 68.69148172854614\n",
            "Episode: 240\tEpsilon: 0.15000000596046448\tEpisode Return: 131.941893677857\tAverage Episode Return: 98.86384936519963\tEvaluator Episode Return: -120.16287559984616\n",
            "Episode: 250\tEpsilon: 0.15000000596046448\tEpisode Return: 171.09174618139969\tAverage Episode Return: 71.61588583592912\tEvaluator Episode Return: 191.62145963968297\n",
            "Episode: 260\tEpsilon: 0.15000000596046448\tEpisode Return: 107.07726977372492\tAverage Episode Return: 92.82165745490764\tEvaluator Episode Return: 120.69561313271426\n",
            "Episode: 270\tEpsilon: 0.15000000596046448\tEpisode Return: 224.6748363007694\tAverage Episode Return: 161.65619111891567\tEvaluator Episode Return: 206.55643007184244\n",
            "Episode: 280\tEpsilon: 0.15000000596046448\tEpisode Return: 254.52574378884162\tAverage Episode Return: 168.17424702446428\tEvaluator Episode Return: 228.35752146493908\n",
            "Episode: 290\tEpsilon: 0.15000000596046448\tEpisode Return: 109.05115577088664\tAverage Episode Return: 173.56882448978186\tEvaluator Episode Return: 165.75687226176092\n",
            "Episode: 300\tEpsilon: 0.15000000596046448\tEpisode Return: 282.69309426166\tAverage Episode Return: 165.72516890364327\tEvaluator Episode Return: 162.12019884936817\n",
            "Episode: 310\tEpsilon: 0.15000000596046448\tEpisode Return: 18.928203994293753\tAverage Episode Return: 190.17178120713237\tEvaluator Episode Return: 144.04449801549146\n",
            "Episode: 320\tEpsilon: 0.15000000596046448\tEpisode Return: 112.0118416898537\tAverage Episode Return: 186.40540786474287\tEvaluator Episode Return: 193.36246780434084\n",
            "Episode: 330\tEpsilon: 0.15000000596046448\tEpisode Return: 220.39746772710146\tAverage Episode Return: 182.6088055266192\tEvaluator Episode Return: 233.30231775448013\n",
            "Episode: 340\tEpsilon: 0.15000000596046448\tEpisode Return: 235.90273644161275\tAverage Episode Return: 196.56634991902064\tEvaluator Episode Return: 173.6936384649745\n",
            "Episode: 350\tEpsilon: 0.15000000596046448\tEpisode Return: 210.02497693527545\tAverage Episode Return: 168.24360528193898\tEvaluator Episode Return: 175.24444356946697\n",
            "Episode: 360\tEpsilon: 0.15000000596046448\tEpisode Return: 179.44281018379488\tAverage Episode Return: 176.7071986799162\tEvaluator Episode Return: 200.69467084577497\n",
            "Episode: 370\tEpsilon: 0.15000000596046448\tEpisode Return: 185.46751611156247\tAverage Episode Return: 161.1397028920996\tEvaluator Episode Return: 155.77952673894498\n",
            "Episode: 380\tEpsilon: 0.15000000596046448\tEpisode Return: 171.41905856229045\tAverage Episode Return: 125.12605550325593\tEvaluator Episode Return: 108.68373724501996\n",
            "Episode: 390\tEpsilon: 0.15000000596046448\tEpisode Return: 196.66286917346943\tAverage Episode Return: 150.45797418535608\tEvaluator Episode Return: 80.01130268218942\n",
            "Episode: 400\tEpsilon: 0.15000000596046448\tEpisode Return: 160.54177838190827\tAverage Episode Return: 147.08349052621858\tEvaluator Episode Return: 178.19277326114104\n",
            "Episode: 410\tEpsilon: 0.15000000596046448\tEpisode Return: 178.27570805688458\tAverage Episode Return: 122.84976430330497\tEvaluator Episode Return: 179.42246950915947\n",
            "Episode: 420\tEpsilon: 0.15000000596046448\tEpisode Return: 260.6753069748692\tAverage Episode Return: 140.64095323740463\tEvaluator Episode Return: 207.86325450559704\n",
            "Episode: 430\tEpsilon: 0.15000000596046448\tEpisode Return: -31.075324531244302\tAverage Episode Return: 147.0974711264017\tEvaluator Episode Return: 137.41399553358207\n",
            "Episode: 440\tEpsilon: 0.15000000596046448\tEpisode Return: -62.70799243616755\tAverage Episode Return: 99.6355801327362\tEvaluator Episode Return: -54.845240871072384\n",
            "Episode: 450\tEpsilon: 0.15000000596046448\tEpisode Return: 252.03821728969163\tAverage Episode Return: 68.8884068233199\tEvaluator Episode Return: 110.26124342093196\n",
            "Episode: 460\tEpsilon: 0.15000000596046448\tEpisode Return: -129.9300050212473\tAverage Episode Return: 117.1725358749439\tEvaluator Episode Return: -17.29378460912298\n",
            "Episode: 470\tEpsilon: 0.15000000596046448\tEpisode Return: -42.98098767665947\tAverage Episode Return: 51.055755071578076\tEvaluator Episode Return: -53.43344950593292\n",
            "Episode: 480\tEpsilon: 0.15000000596046448\tEpisode Return: 196.87054534893494\tAverage Episode Return: 24.93585644241144\tEvaluator Episode Return: 212.0177320071925\n",
            "Episode: 490\tEpsilon: 0.15000000596046448\tEpisode Return: 277.699341687667\tAverage Episode Return: 131.43984036992\tEvaluator Episode Return: 146.59832374006652\n",
            "Episode: 500\tEpsilon: 0.15000000596046448\tEpisode Return: 180.44492794518953\tAverage Episode Return: 184.28173365569756\tEvaluator Episode Return: 228.53868264172598\n",
            "Episode: 510\tEpsilon: 0.15000000596046448\tEpisode Return: 219.42517049022752\tAverage Episode Return: 217.66863782588212\tEvaluator Episode Return: 223.61388956945504\n",
            "Episode: 520\tEpsilon: 0.15000000596046448\tEpisode Return: 252.63232467790402\tAverage Episode Return: 214.23015801079268\tEvaluator Episode Return: 212.2302868808952\n",
            "Episode: 530\tEpsilon: 0.15000000596046448\tEpisode Return: -218.0985660386508\tAverage Episode Return: 93.19988530477742\tEvaluator Episode Return: -103.72014264200666\n",
            "Episode: 540\tEpsilon: 0.15000000596046448\tEpisode Return: -94.62571502211281\tAverage Episode Return: 47.63040420457767\tEvaluator Episode Return: 138.48427137486652\n",
            "Episode: 550\tEpsilon: 0.15000000596046448\tEpisode Return: 220.49197667186277\tAverage Episode Return: 151.49247688725524\tEvaluator Episode Return: 227.72648136830884\n",
            "Episode: 560\tEpsilon: 0.15000000596046448\tEpisode Return: 256.93747832428306\tAverage Episode Return: 172.16735116574287\tEvaluator Episode Return: 201.93912051944773\n",
            "Episode: 570\tEpsilon: 0.15000000596046448\tEpisode Return: 222.28438719337584\tAverage Episode Return: 163.5600759950577\tEvaluator Episode Return: 237.64768004406662\n",
            "Episode: 580\tEpsilon: 0.15000000596046448\tEpisode Return: 261.59153302871346\tAverage Episode Return: 157.06424538195003\tEvaluator Episode Return: 212.29205890394456\n",
            "Episode: 590\tEpsilon: 0.15000000596046448\tEpisode Return: 242.8727194485604\tAverage Episode Return: 185.51187866944426\tEvaluator Episode Return: 216.9895318680517\n",
            "Episode: 600\tEpsilon: 0.15000000596046448\tEpisode Return: 228.8169180172531\tAverage Episode Return: 230.16504316779728\tEvaluator Episode Return: 256.8433553174352\n",
            "Episode: 610\tEpsilon: 0.15000000596046448\tEpisode Return: 248.56430004395332\tAverage Episode Return: 206.39438924376776\tEvaluator Episode Return: 241.01974858287463\n",
            "Episode: 620\tEpsilon: 0.15000000596046448\tEpisode Return: 226.81577918389536\tAverage Episode Return: 202.67648509789393\tEvaluator Episode Return: 248.4927784647515\n",
            "Episode: 630\tEpsilon: 0.15000000596046448\tEpisode Return: 225.56437298352034\tAverage Episode Return: 231.67496750997066\tEvaluator Episode Return: 257.90338522220503\n",
            "Episode: 640\tEpsilon: 0.15000000596046448\tEpisode Return: 236.93652334914006\tAverage Episode Return: 245.02955573808367\tEvaluator Episode Return: 252.94855561433877\n",
            "Episode: 650\tEpsilon: 0.15000000596046448\tEpisode Return: 245.6729099818669\tAverage Episode Return: 241.78402237365003\tEvaluator Episode Return: 254.067545118295\n",
            "Episode: 660\tEpsilon: 0.15000000596046448\tEpisode Return: 296.3498351069992\tAverage Episode Return: 248.15126787179037\tEvaluator Episode Return: 217.93179631836784\n",
            "Episode: 670\tEpsilon: 0.15000000596046448\tEpisode Return: 283.1838913318348\tAverage Episode Return: 257.35186080393225\tEvaluator Episode Return: 247.00665411925326\n",
            "Episode: 680\tEpsilon: 0.15000000596046448\tEpisode Return: -93.3170917087597\tAverage Episode Return: 137.35758838358132\tEvaluator Episode Return: 60.96490762975511\n",
            "Episode: 690\tEpsilon: 0.15000000596046448\tEpisode Return: 296.9619790145929\tAverage Episode Return: 96.29631977358258\tEvaluator Episode Return: 232.55202624813757\n"
          ]
        },
        {
          "data": {
            "image/png": "[encoded data removed]",
            "text/plain": [
              "<Figure size 640x480 with 1 Axes>"
            ]
          },
          "metadata": {},
          "output_type": "display_data"
        }
      ],
      "source": [
        "# Run environment loop\n",
        "print(\"Starting training. This may take a few minutes to complete.\")\n",
        "episode_returns, evaluator_returns = run_training_loop(\n",
        "                                        env_name,\n",
        "                                        Q_LEARNING_PARAMS,\n",
        "                                        q_learning_select_action_jit,\n",
        "                                        Q_LEARNING_ACTOR_STATE,\n",
        "                                        q_learn_jit,\n",
        "                                        Q_LEARNING_LEARN_STATE,\n",
        "                                        Q_LEARNING_MEMORY,\n",
        "                                        num_episodes=700,\n",
        "                                        train_every_timestep=True, # do learning after every timestep\n",
        "                                        video_subdir=\"q_learning\"\n",
        "                                    )\n",
        "\n",
        "plt.plot(episode_returns)\n",
        "plt.xlabel(\"Episodes\")\n",
        "plt.ylabel(\"Episode Return\")\n",
        "plt.title(\"Deep Q-Learning\")\n",
        "plt.show()"
      ]
    },
    {
      "cell_type": "markdown",
      "metadata": {
        "id": "xIsHF0Y3XjnE"
      },
      "source": [
        "#### Comment\n",
        "As you can see from the log, the increase of exploratino makes the agent learn very fast, but its drayback is the large variance, somthing common in such vanilla implementation for DQN. but overall the algorithm converges to the optimal policy."
      ]
    },
    {
      "cell_type": "code",
      "source": [
        "import copy\n",
        "from IPython.display import HTML\n",
        "from base64 import b64encode"
      ],
      "metadata": {
        "id": "UpnJfXYOX0Ov"
      },
      "execution_count": 2,
      "outputs": []
    },
    {
      "cell_type": "code",
      "execution_count": 3,
      "metadata": {
        "cellView": "form",
        "colab": {
          "base_uri": "https://localhost:8080/",
          "height": 287
        },
        "id": "RolFga69XjnE",
        "outputId": "e2f4dd25-eebd-438a-a808-79915a15bfaa"
      },
      "outputs": [
        {
          "output_type": "execute_result",
          "data": {
            "text/plain": [
              "<IPython.core.display.HTML object>"
            ],
            "text/html": [
              "\n",
              "<video width=400 controls>\n",
              "      <source src=\"data:video/mp4;base64,AAAAIGZ0eXBpc29tAAACAGlzb21pc28yYXZjMW1wNDEAAAAIZnJlZQAA+JhtZGF0AAACrwYF//+r3EXpvebZSLeWLNgg2SPu73gyNjQgLSBjb3JlIDE1OSByMjk5MSAxNzcxYjU1IC0gSC4yNjQvTVBFRy00IEFWQyBjb2RlYyAtIENvcHlsZWZ0IDIwMDMtMjAxOSAtIGh0dHA6Ly93d3cudmlkZW9sYW4ub3JnL3gyNjQuaHRtbCAtIG9wdGlvbnM6IGNhYmFjPTEgcmVmPTMgZGVibG9jaz0xOjA6MCBhbmFseXNlPTB4MzoweDExMyBtZT1oZXggc3VibWU9NyBwc3k9MSBwc3lfcmQ9MS4wMDowLjAwIG1peGVkX3JlZj0xIG1lX3JhbmdlPTE2IGNocm9tYV9tZT0xIHRyZWxsaXM9MSA4eDhkY3Q9MSBjcW09MCBkZWFkem9uZT0yMSwxMSBmYXN0X3Bza2lwPTEgY2hyb21hX3FwX29mZnNldD0tMiB0aHJlYWRzPTEyIGxvb2thaGVhZF90aHJlYWRzPTIgc2xpY2VkX3RocmVhZHM9MCBucj0wIGRlY2ltYXRlPTEgaW50ZXJsYWNlZD0wIGJsdXJheV9jb21wYXQ9MCBjb25zdHJhaW5lZF9pbnRyYT0wIGJmcmFtZXM9MyBiX3B5cmFtaWQ9MiBiX2FkYXB0PTEgYl9iaWFzPTAgZGlyZWN0PTEgd2VpZ2h0Yj0xIG9wZW5fZ29wPTAgd2VpZ2h0cD0yIGtleWludD0yNTAga2V5aW50X21pbj0yNSBzY2VuZWN1dD00MCBpbnRyYV9yZWZyZXNoPTAgcmNfbG9va2FoZWFkPTQwIHJjPWNyZiBtYnRyZWU9MSBjcmY9MjMuMCBxY29tcD0wLjYwIHFwbWluPTAgcXBtYXg9NjkgcXBzdGVwPTQgaXBfcmF0aW89MS40MCBhcT0xOjEuMDAAgAAABq9liIQAM//+9uy+BTYUyFCXESzF2kpwPiqkgIB3NNq/w8U+rAC2tRC13yuJbpLGi6EFDEdUpIdnmlhaIYVvTmY/RaGq+CAlc65+ccvL20EYm5r+GtvkLdURZBIwfG1cOTNfTsxG/63af3x/HSMobKHUk5KjvV1f3vEOIcFVxBnASHMHigjVdYyvjQ7YcnjejbMa3ellJ1bJ1GdpIP2yJ7KERKCqB9/6dmYOeRE9d7haitFs4zrH7Zli2HrjlWqasG5uFwqwyo8aTF3WNi36HiHbptecHseRzzgo5pJd/NWdfsObILrgIQTVrRIWAAADAAAIdjvBXAq3xb9cH+Wglp3U4AAFICOykwxQnQqg4BFR4DaHANggxbAXMLSIddszxi9dHyuDRtxCZZ8lp+IC3qDRfHIaZlTC4d42rD/weKOFn8uVTL29Dp0hDXhYN2RsPW/8Cz3QYGYGIJFV66HcWqbEdlqUHRNTwHQ8hFyEBOQfHIhz9HQmYApRwRyjhNXKaVsuOFZAQ7H+dzOQE+LonJj6M7IJJiUGB/r3ZE9JHAhfE4I8+TJ6bgwhZThKIHrQrlQRX4019FQ5nTJdhq9Sm0d56Mm0QVzbCN3Vihb5YpDI3kEH/LZOqsba47KBvKXIsrhfTbEAAeT3RaMndvUOQb8VgKSsI72UWpbQiHkfo67ky/NBqJCgp+/V+WEK9Heeo89bhvviTQISUP6ONMt/COvu8UQIA6b3OHjWn+XnqS/YQQQ39BNyhqyy/z6PqujI23mfC/m8/yuE/AmkDP3BpPHSUeT6trWfsKMd9qvpIBJlRjPoLa+2pnoSqGvlTFfx/20/qIMYdVO8SGuM8Xi5ObAT7WCyKxFmLw9ImUp6FZP/4Keqw+HCgAiKCRW7RITj4etwUqe15hI8bngebYpmw50CeG9rJRztFg0WaZM/JBkJSZ/+JNu6ZeRttthtORIMi6zt9YwXXbSn8vl/n152Kb2ye6Dz/57EWqP2CnfBz/Zx6kdHGB5aN2hCth+JEklg5EqvuiEdQyvBSA7A50fTOnxIsoxWy61AD3UlFUZKwPkr2Lmf/TEPVBj1LZeNxyHfYdNDMJSl2zf+jbj+EQ2/jw1lTmWlT4pKlGUNYqlL9+GJaB3szcZyz71NHxHGqf6VSrJxzRWfp/hq8Mg13JjzXnmdogIHoNJg6IJFmLI3IAKX6/lCgUx/eTDcUpZP4d9wYQnGYiUBESlQjrznuc8Y1qVrF49DnDpMhcj5YqjT1+9Po33rxBT6ypfSFi2LFyYXMdf7pcQa4ZHyuTgZiILYvgOwYCp3JO9p7JAAYo/8eoN3F5//RjfVqjaT8IYcYxhGPYN4Rtyt41IQY6ODjppt1/aOJ1CwEXXj0wGOvkgi5IFmnoX5cCeZTjjIGeyqr+7UwIZNeLCA6eF4FpMG8wdLAyHQVwJUcFhqydsqBpr1Of2yIaGkL0RZCEZouzQYT8W0iHnlZllHTFOR4+t4t5dVS0veNLTw8tT0ZJfTZ8uObTGmXQvbgP8dsZSxO1x/XQkRMSBJLfc/YQIxg2UpBD85aA/Up7Ee/pPu8V87WIcrt9xczbV8qtnmytY4uDyIe5LRdj+M7J9XZZxDBHMQ52umDtrD1kmvP3zR3eKoBeTLbYxF9pjUSWi2rNHFf6HTmFrKgDUDxnW5O2uiETDloh3SZCPVQIJ9QO1dtdziWbQtdEyAHcgMzK6kFg9jiK2xtndNAPzGBNec8vVvC12HCRHd0CKSklMtZaK+suKXlQhFJ03WwegZI7GAvtrWYvyabjTqHct+v3eG7QXf+43+5+bRjvfDSltUUGfv7QX+zpbb+syZ87Mv5daPp0GtX0dKfFGG25autAJUQuFPaR01AjN7QFojdJLSY9u4LOpIfSXXKXzqSQvwpVbL3NTaw2kvIi1fE86zW7xKjvSJs4B+Wl8i1nQPqwCJiXQzIc46/tkV7ai9F0OCccq8KStep816FAciew/5p3iM3Sp55gbOYyouwkQOhgzF7m2SELySlrGIsPyeujhzO03jtKbneb2oVFw3x8dTCwCdIkipH2JLHgJ6yTWueK+iGh8koeB4SScVhWEJ1LzKjqhT/tZ8SRoLLcV2NFyWYOoiTMV/jgCXUohLacIToCLyvnqfuVNrQNC1OJBXOhMSxpGGYGIGz++UyZVIcNiJtGxa7wsYPlp69k327QR4u2WchI1wjEYM6Nk7T8Zmd6LGQAJET5Uh4+H9NsspuM/lYdiyJ91OLeLJeQPJ6Rj8VEPh5HvXE6kSAAADAAL/AAABxUGaJGxC//6M0zN/n4+900UKdAUjgA9huFt6ibS5trJQghvUiFlAayH/NINf2N/uz385tTIpgAnvWMGvYwfzxl5EDQ4Voim9jwIA2NT2PV9TqxQzugYeT3/e4i+IxYFB1V0Y0mloVly3yHmWdXFS102wY2A4KUARAAAP7MX9Xu4DNcHwayG9vWaVjo6B0+1PYrp8vNnkIszl4HVlBpHf3Sl69u2qZfgOWZhpAPb1Gm7nGqX+mjLkddCM9PGPod0Lodb0vAWgeaJw2fmi55E+Ljn0A4ezQQBgaY3dMKT2hdX/Rg81gz46vnH2cW/V+Kz4cibxln4P9EfHjuBZ3H0v7DEd2OPbpt8XpuyExRHjmh2VbfUC3E+DzmW5xaxFnKBbBkaSKk/R2cEVuFu/tf/A52q4dcfOh8xBq+VQ13yzuyAlnqUx+eEWsyFOTROlEic2evyw48+21+SaF4NnTT8Lz/DMWRW3am4RoP016K2LhRp6HJ4GLQOuGRxMW8RJirUWv5TxU5LuaGytMLTCDDIAJ9xmRR7yfGCDBE9b7QKDQ72jQ/5J2dFBuTKTEH7BA3fw7X774AknHKr3Q70RZnanf+M2WFAKSAAAAHZBnkJ4hH8PaIp6hphxj/uP3oSkAFhgtdIwspYVN6zyOoH0tZoAY3cypD0LeOpGtVBJ2smgugGcCYoOyEOYAHwtIIQTAX3w0EZX476O9WPwU/CvUwCIyhtl3su4weMjOT/RH3BhwMyxfZDkQKcUIrbqfr4NekFDAAAAWgGeYXRH/xSk9/HBx3ER6EUwVVlZo7KDH5v0hEAJXXsC//xiFEqzWHX2yUgAt08d39CbTpWTwHl687axt/wv6tJu575fkPJFAUH3jXv1QLXL3cCuslmh6fcDPgAAAFIBnmNqR/8U/OtNwBwdno9gZCNxcAJgEGA86annXb4Gf3N4udgwi24RQ6Sv8MAJJrqGRGgh6WZ5NOKr6orJzpRBlrIk5NBBT0iD3GL905pl42NTAAAA+EGaZ0moQWiZTAhn//6eIj71RMpQ2QATKazG+BniFnieacjKui4SBfKjMYZOU7/7YmJwLLg7ZSJEUTNIL6Q0Mv3UI11T7evR9tNHWHSathpaFsZvByCNuxTkedBv4fWShn4VXEo2L399kimNLuwjCRmvdxuJJtbAAAAFYTqhmegf+E7WOSo47m47BoSe4Hdv6hhEvXu3egCKPrfCpaQ8Mf+1ERlUoqGp++7apl2vFTDEx85LgIpZoRVOdZnCFNDMFuNVP4JQsEx6RkqVMQ/zylOeayBoAblh7STOK+TdhK0XgEwHu2N6uJ9UsBpwT9u1roYfWe/O3nIfAAAAW0GehUURLCP/DQBlj7pClfIywAJ25Mv0l8wDB4OiyfcLKMItlSUjsea3UunsUz27pUALqPi+o8VtznAuckvqy63Tg4Li5K9yFjQonwaStIaJvU5MA2i5ABM2DjkAAAA/AZ6makf/EqzNNh1rv35bz1FiXVolKlw5gXFVgZITUpsYrbSCgAcSMb5NiYKqrRPYRo+J10CzheXYW+UGlwOnAAABA0Gaq0moQWyZTAhf//6MxqZfwMNNGAluyACwVSCkkgwrGhm4EXBK2gei5GUu7hqZt8rT7uOwPFtQaF0etHUQbYaV/sZZiMlTaFc6QeGdkXjPfZfyGgkKSVGdIAAAtuYD9DtqvXanUxl5WNFyQgrd7ASK/DQkaxuBXNc+K0dgdHQD5qn/xkuUytYC5uvIr9RBUN0yJvqqPge+7WpYBI5KWv2Cx410BPGQmZp292kh9TF+vdEd/0OrxEl7kQY+73HxHBz2PXgIaFzGyV7fDgFBpawo8A0aVpymDjn6xyKq7Dq8Zl2W8adVOmSQ0B20C7bMit6FW1mmNRyXW5YeR2b7fFgOqfMAAABlQZ7JRRUsI/8N+5HK/wcE2+JFiXFOnLfSAEkruP0EVkQei1iuN4mm/ism7jucumUBwSStG3o317LngDZJdQweBgeVu9q9zPF0JvdcWvc9ZZFnhTgILIpoQxHV1y1P+PBTx/pspoAAAAA7AZ7odEf/ExZBwp0imVVamauWbdPoILCnT3BZxlZEmJIUqgBGi+RXTf+rZDbBq+m3hoWL0Nz4rHSoKmEAAABVAZ7qakf/EuBYSGGsA37S6eAErZQKv32NyD/FZdThucDAtsvVd0WlUJjgsxfUxGca68lACsOyqjCJo6mLauezJ0JPrRKsvsovibLhx4SNDnriiUx/gAAAAThBmu9JqEFsmUwIX//+jMamX8VKe0jvIc5FAAIqDsW4Eb+sl64dQuIXxWoH6Cz1ww+o6diellfvlLKm8CR1s70w5VXwDtb/+lvUDunD28pNJgAAAwFNxWP5aZ5+IG95W26h6iwHOsnBFj9q8kq/t9m2zZrHZMmkCykinlVgwhYhO0D0x8PIq5jyVPS44YyS0aFm++7apni7xhB8+7AnTWr5n9vGXGd6u+ymFVES0w8jrSyCb1Iy0xQD01TOmpBBXcERMmWROz2CeC1tW+6hiN8/A9Fjhrx/+BkraP0G8VqAIP41P7RItIyXPsIDfSh0kewlgIePkYYXj2pbUqTpKSmvLX5gBSpASKfA3HGpK3U1m+jDUJZzp/gIPfCUpT4P+cvWLyTwnhB+aBqfQHAa8CNLZiD5q0tAUkAAAACPQZ8NRRUsI/8N8MTDDXFEwADe5DD4bB4rWz7ga2I2nedAoZjI93ANVbjuetEy5uMC2KK+wQncDvOk9qS7kX+6l+TL6vs5llP228tZvKW5cnnK2w59L0l/9BuayQOSiPu3NsLt9dSL8cyovzOfZA1B7NObW+35S1MZjvkTFp3V3RvOs29Mdc3O5r/yo4fMW1UAAABhAZ8sdEf/EwQwQanZ++v2Gl4pFxZTxNMv5qbAPHctYLnLFJSJomLkzvz6YN8O2jABwVWXdeLv+TCKpzGAb/sDdyuyJcs+B8967+cwhwDc5qYFu+1Ij/X9tlhEC+nxjwKj5wAAAI8Bny5qR/8RWr08VWGkhLjzEKJ68RFBU6i/kPLAATfKs9Fu2VqYNkCDyzJnryIfDHqbdb9V5eEhf8bh9WAVSr79Hd9vhOVa45LeqWDh1FAlo1pIsKgmrfA+I9rHYhgsM5C2t97E+yGOsk1aRTdtYOUJ0AbhTJAoDYpZXbb2WICZ0RnG671OzcyHNhwvfQ7iZwAAATZBmzNJqEFsmUwIX//+jL9gn9FDjfQiGAC1hoP/98xCP2mvMbhl8Y/vc2WX3JHNz6vfOM+VW2+67pUllCwl3NMKjb7H3C+5mquxakLZKWFA3zlDHswzUKv+kKCKoq21d9JOY/2FAAADAcj+6INVrqR5AS0LO5XrDRvak4QjgxnEZz1FH+QUViD9ivTbo1w4K0PsJMW3TBIEnFAJQaewOCa3RjYKFpHWf6TnZ77tqm2RuLojZ9l6dZfMSPyWDwl3oX87UZ55DdZ6SKEwYFMlIIRvgIGtPpuTlcniV/d8qBGbAR4/5bTgQeP9yXwgaQ/nndI9xASFZQZMdRjmNTfR0OpmzdrHRYrNWtyfVnTzTjFqWauWG9L2hskH2nRYFXLCbkTO6ICi61oqL+/67Locpvn6/9ByggMqAAAAekGfUUUVLCP/DAL/uTNMtFu21wh5XxW5XLnXZ4WsdDLQ3lGPedAAg42mwnEHI82uGEazbRN2XBBJ2N/iSp4GPTmntU3B4ECF78y51l3RTNiz59ryBhGxSu+WXxbfUEzAA97C/8/4eUqHHNNAzjhuic0PbXznll5JnrJOAAAAmQGfcHRH/xFdiKo8GZX8s1xi957Dm2JliOAPsv7AAEs2ZT30lyYVdJduiy9htQvuf4jX7ReAzbJQgkV+xCqeFx0L4WSfYvTJYcmwuxItHA4/QFOm1xYSIj2jcBAzEeASNyR7OegkhWZoOdi2zFxnvGkNOjuDDfV30gPblNGFjiJ2TVFJ8J3jc/hqj/m+NgFOsMwv+MO18Vd5mQAAAIgBn3JqR/8Rm13T50EglV/zRDRXcGyVTAPX8Qncvwi9zu3OYQUY2fRkp0ca9SH/OLROP2kWoIPlS8+LFDGR7RiXJtAuqxCN2jV70h6ikxW8y7eCw+E4XA1bGRPY4LDsJbQB+fvYjUi0phndeA/Ulkf27rk2p95JaynDCF9gTEIeTTU9FAbbWoOAAAAA+EGbdUmoQWyZTBRML//+jLl5HnXL7/mfHonefkoTpTNxQ1djQepVKs2Eh1BgAAJNWRBV8XJgAh/adeM85BCmkvtBiqxbJ/c4EDb3hgm8D29N6fwjB73VXfdtU0eT+Wmknxu92Ylof+erYSsbuQAOxVaLAFKy0Q4TSENpgolCtsvADskWjJTyZdes7IjUNG1VLykUO9QoBVjmD25HpQGc6qrERKz0hZ6ZVWy0lxUMCy5n4kAeeRX5qPE9xOgrVeWcFvMnldvqVkF3c+r8jR5kIj/CMg7njBHUCQ6vA5eoIayje8kLwwS1WMgJSftzDsrmCmL8R/3YgmGzAAAAfwGflGpH/xGn9ZuKlQxtQSifJIACz5au29ghr87Ao8tSb4JAJTVHven3AYwNaselSLIKMoKsx8Fkcs+8gVSpSqWVh8kroG4WpT4IW8BJwCHc2uC2itCOe60XblYDh9UJvOumk3WdwAIbFA+XNt0VIs08LkzwKZPAsXVtOi4ZoW0AAADIQZuXSeEKUmUwUsL//oy5lilTfwXS3och0w/R9Nmw14XeAAADAPns9imABtoglhgUuxsXP/r39GX/8OI9X5mgqQ5fuT8uawT33bVNNvPhTeSa5AqthnJaU+s3v/6KVJ+/C1dix55Jd5kOsBJfzKCF12c2po8Kc0koOtH38OdLMRysvqbxzJPqKXVXUOG56xrZq+kIkE6stIovgUFMsoaI483B3C+l62yxjjLkOIKBj6oWVKKgPdiuw4ZGhlrms/ZScoGB4PLcDZgAAACAAZ+2akf/EBaZy2WPZMUVulr0BAAt2f1Z63S3zSGoLdsWtsMLePlYjD77MN86RLtVQ1jJN3QqQdqVJrukUiK+yfrb9mVnu9hNiDbcR8atna51X1cUefKL+2pNeQjD0mOqpt+Y3QTAGUwVRinUd6iRPfRLaZQVfPHtN2SMjlLYfMEAAAEZQZu7SeEOiZTAhf/+jLmzPlSlf66oFACx0PPrDwo1KPqDHLejX5+DAAADAKtPOCSeBJ2R2HCTTy7myJn8MNZA+zyVPHmHorATyYk+U/NQxL4E0qzve7aprTxR9n7iXu13UT/syjLpwlRJSxPlY/jUhqX1orUNWzR0Al0BHZcqALjZonLA25JgH6JxlBOLqMoRSLnXRoJDHh60MOiQ1trvVXkJ5reVkfm1WX6h7fuq2TXLlbZwxn9XJkTq8f8kVNsJDzayqu/BY0xnOi/o2RvL53o7D9vHIzgUPNbaP3d8ZwzcLImDo9WI4zwBPmDQOnPHuH25Kx9a6J4at8rI+KJm6g2cJjjdTq9T3v1mrTdObwJNqB5U4dagbMEAAACZQZ/ZRRU8I/8L+Ihh5iI9dT1VSlys0/QEItpHvd8cu3r7VfFPE0/Ha/tUVn6WbHYAQSQMeohzW4Po8IXX8zx3+My3v/6fd/zron5P22/jRmqGum0Q90i+eBw/8AxghyUiJrLpK1AOwluLetMn8FipZ8ObkLNJxbokvpT0M1plXPH4iv/ZrxShR69H1jrZ+s3i/K/4ZzCq+RFDAAAAcAGf+HRH/xF9Uko98iy3CkfPtCf1gWXwL0Y1HDgE7ORzBMb9oLa/wh3Vlm/Sg0kCDqVKMXIVOAAI0+g8vhqXvDIaH+sGSpQYzpW5TOzEko6/Lm5W+kx21z09Jsz+Ss0vxxVSVNue3MzIH2cMZT80ccEAAABuAZ/6akf/EZtY9CKvPBeR1JHpSEyk5nuMv0ATUrUGg8wBzC51umhll+YhYG9dyeReONJKuTvjW3l67JoozXauXBhlDPLCi0RahWfdUfmhYUxer8DsWGeVtYCVKlYmz0KlfxiRXT0pPdrOUEKMTcAAAADuQZv/SahBaJlMCFf//jhaJP+ck7rz4HjpxG/C8/qBVN5jdVm2iLBi+kHU/iqI51WQ2bacRgIMUlmp89L8cxOS2iJqLBu+vNRX+3EyOobN5fzl6TQQWC5cAoJ8DBqhftQOPytFhlhYlWQWTT1V9fzO6ykQOIUxx5x64+0PXqFS0aVBfPrRAvaUj/VapSxhZY8KhDG/6vuFfJw1ORckOZI4Z+N97p2hbwVy0L+1KmU1nDIC2shNKxP+UjgdVYqmvn3tjjAirOSZpZC15Jw3A5rgDTsY/i6oqi+Ne5anbWl2AdQXXRrVhCxalTzCocjE3QAAAI9Bnh1FESwj/wysQf9iQAoW5NjxfPUMqihBdukvcbYtYeCjFbvMck8u4+HZfFy3lPK1K/HXGrlafyeJpv4xvc1IWPxJ1sjbi9QKykQVkaam6fQdS4QZGebDGdvtBL+9yE4k0WIh+oDpZu7n/DPrjfepCxvpQoASrj5fzFgePjAEwFH/k9boY849seTD5jMJeQAAAIQBnjx0R/8RfWwbSoVc8aGh16SsO15Rysf+MdM86HADbhK+rJG0n2AfG9RSEb10znvli+blAONKf9dXxwPhDoWKvdHtTIhVtvpQuyQOSk+6yT4asd8tAvwCM7jqaDss39T4kSUT8qLa89B95gnibvGQHlmc047a/MYop/xRUdyQIvJpRQwAAACIAZ4+akf/EZtbBL8uMWe98DeL4cR81nIFAB34uO22Guxl1RC7esfk0ZWVCtiuct7Vni5C8RQsfWYPYyGuI/H7wnnrUE+uHUni5gQcfH65addjDsQS1yONgV7/sg6jXbi0GbYNZCo9RyxWYFmpb5sDW5tGvW41JmWPx7fB9tR1MkfRjsW43OKTcAAAAMhBmiNJqEFsmUwIT//98SgYfvrO+I8zqiuVmvuPgRM6mCyPmeQBzDPCPWHZOkTHI0WC/iYCqFGfi5y1+ZYICg8BW5mwaOx1fnCYWLiA9mjfqEHvuo/mmMRFR8daQtn/CCG81RzJjOAEevDqSuWcxsk/tmCcUIWylqBf03C58VXCnJvUySf+bZ63ceICqJTsceLY3hgzaupY+8OWCJerkCd5bRYnkwerb2fTB+r+l+n4TqVIBvqdp+PER/plDB7NCGFmXknvnvyKGQAAAG1BnkFFFSwj/wysSPPHgGqnrSpyBZMe6kkmR8FUVL/7GQMt5ojhJNsaqTxrPxuA6D9ZgBGjxYlSQAV03+4F4lqooDMBrgBl/NyL219v20lZQXVcDe8D2Bl0hXttt/nETWEkhkJaFlIQ7gD1AAZUAAAAcwGeYHRH/xF9VCIo6LXO/dV1x5kQyWstTqSX9b1yCOUGumXgVHq3zsAAK9ob1cLNdmw3eRHmZH6cE5+pi2K1b8mwc0eedg7KYyrtdhQ82IFhPa3GZv7kAk9RzSDWAsBMRXLTASdR5gE0rFM4CB5VzR1EBQ0AAABtAZ5iakf/EZtbKY2iaEo/bt5lx93/WHAFMqZeFA7ZhuZ4AWF+A6pLwJ/8n3LHHz4r5F9oClBtSFQzifrX+C/N5W+mf9HDa/BPj7RauyY8kJpmj+MedK6aB7GdhrFAu5Ds647H7qECY/P8GhAUMAAAAVlBmmdJqEFsmUwIX//+jLAHblS6S9YAOM5LTvYpEfdBlGgsiLgO6HEKkLgAH9kpgZKDyfob4UusrlP9zwHZFN0gF+pXFk19sGaEklju+8211SKGCE9MJ33bz39mdqEuvWzxJzdOtSGKLXv600ul3pUJujeGxgK3xU9Pj++ElnrFN5X3jpmrhHGbUME/mJ/ZGPZGNqxHDEQmYzqE17C85zozvWI63b2gr0VQ1wMah4PaqscraDYOgHusu9RDYS9VM0WY7cxBWnMz6slPbQjWZ8Kwrj24d+B2lHYMBptrmxjpmL+DF6gdbXBBwaPakeJMa25pRWLHUuTgXrxt9WWQlfZYO8OOHyCJHCsEF8GJRXg9a6NPH/UIwZ9IUmeqUnFXQEefUwGcKLs1KAKXp9PewSe7vqImPxYc6Rh6jDj5atdwtfeoLLxdETRYsjl/DpSZywYAgeqC0f+cPmEAAAClQZ6FRRUsI/8MrES2KvJFw/4BsD4a+qjIdk+JZamv6czlYANSfqZCLG0whQ6O6rM38kX1cFoRdQ9yRlFCML2IhhuKk+gB8YAGmwp6+XZeOocL0F/MutvXjJh5cr9LxBM5DfLbcUqT/qbI1nhuNUrYEvjMTvdodlqyrXDLu2PSPnQNVjXRfmnEQyD1gA0Yf3wDfq/BFYOIr2qzoWxOy1xr5sctAI+BAAAAYAGepHRH/xF9VDI2tUt+EpmoqWx8+dLP2RSa1C5UFHYoABN2124k6PqiijR4PAVyejb/5k72OPEETc7wh9wrZ6WllsCPX+Ca15d1m83dOjq+/i7uTXHh0BrEbxL/4icCPwAAAHQBnqZqR/8Rm1spjaJn19CzUSY3uk6z605pbi0e8MmUXN4jnl3NWHMPfIwlS52NvADWG9BCLxHZsN3kR5mRJqsM/uwltqSRAKWjQsHCtR/hJVHvlo1gxQXERpYARKvhZhiFLMUteV1tsfMOzvo+qCq8ngBewQAAAQ5BmqtJqEFsmUwIX//+jLAHeH3vUlPABQY+K3eOLSL44xmMXldIZYtGRAYzjnaX0oDFZdh53fj1qwEAvGUs3uwJLPmGPvHE36FQasGnkW4JbMQSrt/IDdZyRdxk7FVifIeADtC/dqbZtg/KvnE9RvVf2F4MP42RXD8pQ8SiuOb/fTOSnXhAseACUBRH3LAAA7+92A6FI+Q7rvoVytmq52jyu75nwyl5ZjP4qdluK2d8FyQQsZcAFAQIJ7mqKh/ZXCmy8BG4BFMfBJYEYmoaW5uGd/rhHLfUr3O4TkbfdmVVCH9bsz4wB3iRiBbpQgXADTcOMLN6LVzrRxTgSfD2CHqtWAXXYweee+tR3awhCtgAAADKQZ7JRRUsI/8MrES2OzxizR2TJ/PO/xeAC4PMje/zANNiZxYyR13SN+2XxHVFr4evQq0xgcoBGQmUBaOr6/Vl7h863qpQqFrXah4Uz39eQmALRH3jNHq1MN3U363iIScmKiZGDk5bov7MEhLC1wBesbtZnKo9/PAtMQnqFZyXIb+ZJXneotQe6UdjrvIq0/Y5D9qsHgjbL7SJ4SHkIPWyIdTbfmiVL1gVR/zO+KpBahPDSHL3abbvf6bRD07320loWWY2i6MsxgIBxwAAALMBnuh0R/8RfVQyNrVL5m0a92udjWWpG5Y4VmjmDuqZ9ju1nr+AQAJq7cAJhz0Qpf+FATPY+vH4CuJJNwJHy4IZG/2YW4sEfKhBxLRZmI8t3FCAci7jNamRf6u++m5iqj0JRafHqADBoLTaOYrMjKKj+nWGGlF+iw/PEZ9ZaAYSISttn8uDuSIbrLnzkkAA1hszrA5C0Nr5zjIneqxYc/nbSpYDaYNNHXhfKrrw/P93r5/DAwAAAMQBnupqR/8Rm1spjaJnfiltHt5Y+jAZ2k8n/+PgBuZn70ZfyLqN7qTLua2nPeb//MLQmfq7OSsUjlfyZclmVAS4O6kkWQD0a0L20rLOjw+3WFEpXfaTdJ7n/o4Z/X2m/f9lmh77Kq/y0IMgab2i5GOGr/TAIAXLePY57EDNolXwmAL7gx4AxvZ8ieOakyCTHdtfab3IiCXE2ZD5WeXerIgmaFQDkggzT2ck3GjGwATRRKEiSAT4QkKFpbX6fMGfvOOl1wVcAAAA9UGa70moQWyZTAhf//6MsAeHCc/25FR8JyTZMPrb6jszKnt5ACtqQgZbSBT5IC7LutLDxjyWFzvLObXxEQL12Zgpzo0R8vE/XXghdZWoxIzwgFhOXJFRxMP62nU1Xh4EjfwAt22nuB7Gfdzkxww+xkeiwSQQ90gtIrZD9T/woScDC5xi+99sVBnDgZ5D3ibF/utK/THoD9TYsoyu5Ha52aEAf0hOdrfTmRjdqiBQ0OMqvkgC/DiizrECjH2BDoBM7XLZgiFyVUJuOytGQlnGu38+8HTKXqFeQc3AHJgyc8CXNAXTSSKLxq/iE3c6je8frCwlBQoOAAAAxUGfDUUVLCP/DKxEtev6ID86ZNeO+lq2JKJYbyuMQ/wsWNZg/8nADZbVEDewY1zRz7r0ylPoGk1OPM4+mks3Jcf5arjCeOiv4lZjocjf4v/5HZJA3aD0d86SMpjhfvr47F7+evVyRPeL6u/Qi+zl0CbJjCcbtGshFjD01DZGf1+DT/bF9RS4dBoGCp8ZwhyM9LWVPRFiAy/Oqa9I3N7l0BqXhxvlsqk6RZE1J3F77lY1COBaABAiZuRB7UfjofaycVfIeQaFAAAAvgGfLHRH/xF9VDI2tUsXFN0/gUvxEAAI7FYzZge1anjkBw1NKGqJxn9hiD5WytIeO0QV4ILvzylVYxW1pXlI7+a9jvN9S+S02u7wqAf+h88vHweLO7cjnBZioGdI8m93NSblnP8QzAUAXdGs0lEFL1XiabSVapm5tSAGBAhhR5e24SBYxIXF9UXcRjmRdlLpaV1Vbiq1EJBPJ7+faFUbOK4wfndWaQFiHrV1vc5FhqyCtDs2j5gRNtCDG+zgq4EAAADJAZ8uakf/EZtbKY2iYsXE0YEiXAeEuQAvJX2FMMJYAp3C6xjvNepbyxdTwotZiqiKL1sQAXPMtO8j8f7wsPHPbxTUJ8taGiwitbTBxzLII/8iWZDEwQOvTwtkD3ohL4dUTL39O0su+fygdkandCabuihmhQUQa7Az2qP4I6icepolWl4KdVJI9UgFF7fGy/I7/6/8InKWeojeL0FtMwkm1Kny2XjpUZY1pfAZn2wUjsr3y7RLG0iBhKMjrUtAtXOA1MUZR+AcZCFbAAABXUGbM0moQWyZTAhX//44QBssn1c9a22AzJ8lZonkTI6tu9pLfVhabOAbSuEtuZKq0sEFKFcN9ssBcM1LcDzlMINqzIz6lfQvoHSx6Rdel3o5wyR7TNN02e+5VQA0QvYBBIPOn7yCC5tLh4HeN6ty30XbAJR0OkGbT8EQKDyMPsbGpw6Bako3593Z3Weg5ryCbincJLanswJSukqp2v+yEncDjHk3oRD+gRSZFHoLdUQ2Q+XGOmVZUNpiqvhtqiDm4cN5UuNAbCZ5sWFITdzPiNugzdU4Jw0KgbO1iIxlF9tU+Wab2z5HisOixbMyXYAsCFQ/Grl/1xjVuLJladWgQ/hdvMC4EMLOv7Fr6rcRuKRAY2Rmang8QNRSFhjS3Dm8PCWNSNoP8vaFtGuWhVhK7+kSwQ6bRx6VX0ONlLAUC+FZDJR6vjbMOkMobku2FzteVLpqq8bVOIKWjRR6UUMAAADCQZ9RRRUsI/8MrES1O/na0KqHzEe13tJr2G0PMjHwmysSizqAGgJar70a59igxO2BeRagPcfct4H+7tkTpm/s1R+sH9KB6MumqLzcx2cNf/QNyPTP1IQU6BybUr/O2yYgBCOi997oGQmADU+L5AuSGhnEJH9ozTs4C5gmmw13ET3xVFGkw0VuhQjpsoZF1X2WjMN/x0ABxI2WKflr3Ah8+R/xwDYwtb1oX2HObY82kX2L9LmEktV0p04Z8Kn+kU5AA9IAAADBAZ9wdEf/EX1UMja1RJksCbeCDnUi3TqoOb74zgp5IIkgPsIHYy3FzAAudofpq0Fr7pw+MfLH2wET6exv1M0A2W2Z2abWkt0qfbhD5BtfQ2HoBQq0uEHP0hdtYlZeQ9P4A5TP0NmRr9L4U+NVATEcuhuX5RJFUG831nsgNG07LFMCE/MqV80XQcHNgimcIBTL4LFredvPkmdYVHJPN1xPgihQopfgNg1phrzori/hDECdOG7j7kpZbcg8Cd4QvZsPmQAAAN4Bn3JqR/8Rm1spjaJikWBBDJmxK6XhwIAAVy1U86gg/UGcnQRJSN+nMzfnf8yP/D2RPSZS0wBZYyI0rxAuGpobkhwQv9BO84/3N2E1ANXVgKltvUj+SDRd+cUZBef7BzOSbzVGRAXPsqHyMoCnaiR9CZISW7Y0sNThm/TaxlK2LSSfvPgEZIpOg/L4euC3wm9QVnyPuVU5jZmtrbBbOYOM5DfRMGu6GsF7N7FGd2zP8o3JsZ5QBDAA82xro2NVLnB43QTAGz6P4adR3qJ9p1KQazH6xooGXCrA8x0tD5gAAAFFQZt3SahBbJlMCEf//eEAaHJ8JgAXDggaaAOJ0l4DW5I+VBNetQ0dwohOEEnJSGaXHK8gkc2488o0QofUUuitDGo+BuV/ahR+YxoSIohbmmvLSyZHYHuCEDR+Zq5WJHrl/ZsN1LptRcz8z204RIejiPrunVqMXBYJ6eh30vvfIhMvdpPJXwrdi2pdFwbMhTSh36Lc9PKl5vS54EzkpQIpKaoYlGVpsH+Pfu1ddr0SKrN1X282RYY1mBISzjTweCdAwG3jVSzqSRufM9B1SEhmbYYGqE9LKpsZ73jvVQ7NNGe+3d618muL51zG4igETsoODruybRQIeSY78IVLESEM2jC2pyiq8ZDX7bqDFwXRWdL6hJlNM6jbIHdRz8v71Kc5KO6+2R9ZtTDcN+qqkC6CpeY/Npu2P6DO6O5M/CDwqJFlA0IHjAAAALxBn5VFFSwj/wysRLWM5invj+Ch1FA4Sv0RZt6Z+lTO1NTO2tTm9+fwBFXz/8jwP093mBbgHGP3MuHkCJn2JQ5rkkGuByWJCwoghsa4Nmu9st0TUiN62iyR5E0aLD7p4Ywj0/necPuE2QW5S7NeopBJdQu3L6seoFtxrTjQ5pvTZbkyWSW8hhhLaGf1v8p75MRhprkEef1JzAXaMIIuMG9nkK0/DxD5h/I+Pb7cIcE3yWjiUNgyO24+8CQaEQAAAKsBn7R0R/8RfVQyNrVEngqNLv6fnI2RoVKqqR05YAsRgAIyD3oLZ0aPI37pNx87JixVT1iapHa5y7I+ZVX8NZvu54iV6gKuMrAFeJObX1gGO9V41P5dXwvXFoSNy1/tCcUO6n5+7KpX/zhFle8FpwnBqZC9bt4uetYmHf3VgbPVV+l9fXggk5JGEg+A8w0V0Q/6T2ESH3bsuT6iLp4Uguc2M+BZPmORMuJgBHwAAADRAZ+2akf/EZtbKY2iFOv9ndgIPLu2im3CwbDSAHQAXrXwElYqXGMIKqvg6j5BDGAwDtNV2TnSOxRoJ6GRJEs+XA3gLA21xn4ANK6Jhex77ojkQK7y27ivK/FWRM/bHbstSVJjMI8Wh14YID+wl+6An0RL5qDPLqg0pAjPGd358bVq+h8zV9y1fXmZYtoEcMlInQ3C/CiscwWGiUszo1kOvi+Q5bQOUpH64SVqPur4LVKyC9LEYv0Cb+YQk0lXNaegIrwhI0tz8Jfm4B7rAc1eFnEAAADxQZu7SahBbJlMCF///oywAoXMqXQFNNdwIAp9LT1DrABOaSIu7mTd6Dw9DN2cK6FjUNAGClGq7I1kxfoXPo/Ke0PQvBiBGHEDJuOuIlAPpPgjjtjGpztySpc8kFUvmTbJqPf4ewP0Bo24eE/iQaWiXJpu1yul8VlR2eK1h/KEqDGRFMMnmof2Zlw+nVWuSFDykW/8VGmyKhpONXJU8Pko5O7cd86fMBeTgGUYEE6CDrdiqSy3+D2q4PUQS1sYsr3iD7U+/6iGocqrFnUniME8nCUX2l/LnqT5RED0GD1UdkeHb+SyPmdStuJ+CIasObD5gQAAAMJBn9lFFSwj/wysRLQ38y9OGTRn6ksS/xRgCCJTSsehhDWj5tiLKHyP/NvmJHOlcuYedZvySXhRXuS04xDc3FPMOEwGpsrV5VVb94edX7NVeox0b3A8J4EIjJxeySRk0K1hOVGRw2MBma9xsxsUBBjikq1qHycTILXdW/9hlCS2MgZZm2xrJkYd7w4LEZkaOCBp4xR6OJoV+Xai9kJpwhSokuiCXN/0GfIhUlKkiQfOPZnTSfvZA9qJAUf8d/1SO8QBlQAAANABn/h0R/8RfVQyNrTq/4UWsKLBY0WowAsABBovf3OVXpAVGY0H0lBkuMx/pysSD691KpfLxCGtUEqTEWeTjfoqxdTzxBPTFFhPZZbM2Ayu3g880Spfch1TxjF7ElOeXVBe3gYRN9JxNGe6wNUs885vHCZ12MSmVZKf8HYqkCpVBGDbHBk30nA5iK/C8zXJqEi5teo8hr2iQfAB5ANOZVyI91f0vJ9pkPIet0V7B5yJdyQwww7/yQEvcVyv5dQVar43r8e+tOWw2BqcGvPLrQ+ZAAAAvAGf+mpH/xGbWymNogVXCmm4b6hfIaRzBTHAAVB3k+Y+LB32q1zSarDLPnrCRCUqFk9Jm/R6I2Sfg4tQSUfIjYH+QQ78hIVyF3tgWgB0Mqem97H2Stw5qRqCp+H0AAu31o6oiPSywucDnoE4TBhcny+pLtOH1FNjyJVXG3yhRMS0FPRjaZV/VWzrEIiLbpwGdEnGMX5r/XNIT5y9m65GQEryFJUj6tuYUBfjwBBDCG6/SRIwJrZcEaJaKAb0AAABK0Gb/0moQWyZTAhf//6MsAKFzKkrKVMl+xDoAjOeJMn9SuNEOfPDq8oTPWSyJYhQ8IXWj76i9ZeNiwiUNFwIY1lBuzg4v8XRghtFxqo1asdKOs4GNXDQab10C2Tw+SN5PkXysPj8XAX2xNQHO0Bsm2iNOnYZUI29HkrM2HnWCmisYlMxvslmIfD1TTfGZrVFwBT3c/MgREXf76ahe10mu70m+Nq06AVhIzpQ32TaI9tj3oPw6PPedjN/Xre2t9oQXFQqpuQ7epe/54KEo3paQM2fD385bLUBLfgTXL4L6rXmPUUBV85WFT35E+lSiSlX7fwW7+CIiU8qSJr7j5YoN3Wgh7RSpnWYVTRiDaGYWZpdF0LGTzXKYCMm+alT4NBYnYmmTIvxzdpx2w+ZAAAA9EGeHUUVLCP/DKxEtD6oA5z0RUq8K7RnA8oU6di//hMALBTIeYgiKLlHM4+zzAjo7nSDAq5+F+RXuOANnlkgXogAZ7tf/FzgKIFOqmQCdSL3kzEjvhluMVqVyEP+CBUSgfcgZiSwQt3i97g8i5O9yh7o5XxDC6eGD0tgpRXarD7AT0IBJNLIjLsDZq72BvcRSk5Zca8B+ByGk5tkmUZgFGlHkvr3NIDaDsllTMTGq7ngY0EvMpMlkuEips8slHJzVgw3RByWTLec6OlVEefRLPCQXBGBDxYCPgH4N0MRzbghh5KDgoXumKbZyzLuQeFX4AYADlkAAAC5AZ48dEf/EX1UMja1PzWsHTAMVCotUjADjCEn/55lhZG8r3C/stoAJ0FaNs5SgghcrTvZkxmPbJmPzCEFZ+n4l+d3XBaUJOcjeAA3jC0jJWeUWmQosD3hVITXbVngUQA11zNjfGqgYNoGyn+IHCSuwuXau1cDBARFCceXBplKmJVumI+Ub2kXAkB8jXnNys8V6vfOFHP8jYlauRk5XHfb8LMZ8EMYpQEsFE00tlmKVWTgyQToQ/ZTh8wAAADGAZ4+akf/EZtbKY2iXesicPAlJluMRKwvX9fvAARgKKmQvEX2rtmDy2H70eLQMA7Zm21SofBVlcKAkIBp0UThPWZLdPVR9PpmS8CQnxYoAYA11mWme8M/b1bBTwkE7B5NG25djTfxK0mQ5vNog4shK7djoreE9mYz446oODWZBC3ViIPOUqT69qGYFgr96aHtz8L8d814gRaHIMYDD6eih89nhDumwcPcdN/ev4hpWUlVMoIoeS5jLqfs7H00vxCLTQuWIDpgAAAA8UGaI0moQWyZTAhX//44QAll3VsF3okyFQgDiiklqar8mnfDISTx25FBhXmOuzonRLGQpwBS06GHDlgKAtyKjVQt7L2ZeObBU/EdZJerWeShMXsbctahNOKz3StPy+AlqlWqU8DgxWxzqBrD5MvaoirSUAfAjp0DsnSsj/YIYaLaWtJZCsgto5Xg1AX3lHXkNSgi1E6yXHoI7JyScqXZStRtWsvhx+Y3d+E5KLTYjU8Nd6jqYGGi27pEyvltF7BpJ4A4OH8fGBUDPz4t5zGeE9joTMDuPvrxGlgTQ1UO4N784BnS1Qw0OXoQw9RtC7ugYYsAAAC9QZ5BRRUsI/8MrES0PqgDnPX45sehgWk4JerDWApdQeEAHmDtwKpzP/VR6BrsBHtM2R2W6HcPR5GeBob5PsmzqpAAjr4k3hPr8m9yos83H2KkRXVw69m6ntH2X2098TWvIZRIQmdfdUpaB93164D4dWw/VIPtbZTK9oLz0NgDHXR2IXVhoRIkb0/kgVplOwmmxZYtI2UoU/kp2ROg0+DUN3Hwpre2IZQvRO3lZASWbWere28BxTSzXQKwAAqYAAAAiwGeYHRH/xF9VDI2tT81rBuV6EocGhnFUXgAz6ALP0SyaA1DH55u/YeHZ0qlf7jHPBxmoHOGOzZ/tgBK0h20enSI+UUtzS6eUc/51ur+XIywV9Kn+xZgMWC25UkqHdvAT4ZWmKdLDgfxeuQcvJ9bcPL/pNqWPPr7qBwUpFN6h5zIMQEbTpFohZnoChkAAACXAZ5iakf/EZtbKY2iXesicEmTcPgzjFClsi2btmJoKaB4gicfoQ2DM3Hs3N3u0bAHJaHlxmqgEe3ySmQbZRIZtnqnBPuxK2e+z7lsViQW0agoOQUFsYnL1pBd4NmqgXW0v84vcAoaMCZXryyfF2hg7GMFwEOniYfIXbKLJJrpNG1qVfousODF1ApBInTfB46c2SBjtngKGAAAAM9BmmdJqEFsmUwIT//98QAXMlPRkbPrXDntdWnCaOwAT2YrebgBCmgoAx5hF5byY1b9Z8I9rxKBEqiC/5ekFyINv+CqQwP9DCvZQ+mBf7qrIPc5Fo5Ced0t8Rlax0oaj+mPnn3DlA5PNUqEAdzUP4m03m93vYqxrwhuuC2hQqCOf0huR6DLUdPfyq0bq85nSaM15wEup2gUut9L+WNhTimkJw8Cr4/7+VT0oXY/04r0ds+Rv2Bjd5qXR2OLutjrkyd4OAf7gcHhGYPY8M4tD5kAAACFQZ6FRRUsI/8MrES0i/uSnvOoU9TxDijAeMbnF93NZ4J8W+EHb7AAP1wsYMCxcvBLbc9ofBCcnjQ4FQwD3X8Je4zgy4wWZ1UaluvEFWQSq427EpSlt4Xj6sgMMMMDTHUdBuf/vlkU0r7ebIsMa23jxa7AJEieWl1x/sY0ecklEu7XIYAzIQAAAHMBnqR0R/8RfVQyNrTZoIRXP9O+HODsObETjHKMah4JbdEg4zKQI6gAAOLC+dG/TVhTPuZCtksFDjU3e2lV755tVTRaXB6kVy5CxDhEVRZrfdJryEMsZWJu+IPLFsTojLqXDXSr30OFgpth/LHndyqY8+GBAAAAcwGepmpH/xGbWymNohTr/T9bQqq+WR6gPR4eiy//x0AG5mBBovW7pp/ZDDg/MxYRbLkL0nhXj5W0zJtl+XRrT9faSLdj6oVoVs7KaCcb2YNyPJXCaFOYLTJxSO1CQL2MEvuDXbyubTer5fFrFELGByJAKmEAAAEDQZqrSahBbJlMCGf//p4QAmmyD+CuyeHwRt8j/SYAQOLwATSxxyPFKyymsESIBeeewWu9MhyHIc1FxC8s4TXsqnI1TlsC+X5/vi/yyleCGAVKOTr//nu5W3qKnpkK9Xcm9DUV2aW23Wf73MrFjdJfDH3uJNNjRm/ar2vDCKfICe2xP9qnlU2n6fhQNmH+1Ka1OQZn7ZU3VG6L7kjBixZ5iECDte5Ka0umKl+5kcHya+e+Rn3ROKRW0zmEFsq//Go5e2mLTMuvmBGECoWuX3iWjyd7aVkBDZekTC72Z3pvdFagKpLT65eXRJqgSze8ysjnQVe8oYAlUdriR8CTqXSPShCtgAAAAIFBnslFFSwj/wysRLTup+A+MkSt1OqKs9qS/5PyoJO/N+hdMoR6ea05E+zUnmV6cWeGQoAJaijxULqR4myGC+1WPcg/BF2IZmM4vAzH9OzA2DxdpQScJAk1HJgglCa+R3xzgY/1dLOGX2T1aCzyCRyuKHum8exvGyHxZd4kMb4ADFgAAAB3AZ7odEf/EX1UMja02aCE//1+5eBo6qvelMToGABcT5jVKYHKIgntDg+OiemQznTJmEe8NTtD1qTpbA73Xl56uHfHcqI5p2P3X0wI3m+Bz789krS1sA27+1JUJs/GM5zxH4e+d0F48eZkILVl3fQyYS/chukXAUMAAABwAZ7qakf/EZtbKY2iFOv9Prw6j89Q6MdfDeG8nWYkAJEjS5iGOh27XvDz/5dsIHQnQBcj9OYnR6lpP24sVxihb6uDGYYW3Nh9oPi5wPZYIx6Rqinwh1JD+vHkONTSI0EfygPMznqzTUvKARUquxAD/AAAAMdBmu9JqEFsmUwIZ//+nhAGhzLpJWzkbdaQ1QA33SF9Ih9jiSxzVwgq3THFJYxbLoUFXYEhsdIV6w/J+gZF+4+PaEuUlAusl6/+ImXrXCgIx+0l5aJUFLiFSXclL20uJ4LPQHIUMRHlI5+0Zyt9afAiqmpP3ShR6UC26L91yaRqTuZ6DkJcguYuilbVmJEaZHz3CScO2naaTsLLE56JpcvzBeIYsSlKhT1ZET8rGYscmUM8yrIWE7X1W8wwbedq/6ha/uxPtxE3AAAAhkGfDUUVLCP/DKxEtO6n4D4ySEmNTvZWTc4Nod51LGoLdiqAh7QXTSprygE/QuACVFO19NZuBJ7qzOpi9jdH1QDTDI5YwMclwjavCtQTZ9sWPUFwpGgLhYAzVDQvkBj1Rrh+cYC7yoAhHFRTtnIBhT1ipEgloM/MOAA9AsARWe8gllCGoAFBAAAAgwGfLHRH/xF9VDI2tNmghPCiBSQF2rqLJfVfBDQsAEm2DcjaGF4L99PQpta7WC2FU60vp4N2XtP+3B+nNpDmhZ2JopObtgj3yQabi2mKeBOY2Ehv00R+6U8zcRugFMNNA6eCsuF6t1YnKkycVRjI7MIxUdz4DoUNtUWBNSZxQuVyoCghAAAAbgGfLmpH/xGbWymNohTr/Mg/CBvdMcolu3maNS5kqAA4Ncz1QrXkGVR+9L6Iv4p/5eZEm/unwXkPIAJoCOCk8FgVb9ObTMk1rFpmVHrzDYFuzkAkIaoAOOU+J3ynBeGAMlXJAAyVXhd8Y4gA8AqZAAAA1kGbM0moQWyZTAhn//6eEAJp2tZJB0uhcgCAx2IiD20HbqqSmR2ajuecZZJLiRYokkITl81uklTamQR2Qx4n+fASycJa7Txg+/xcD0KVNrmVORiwseiDEr5bYfwobXlt7Q7+aFufhm+vbmFWiA2z8LQydrlvRGoSvn2yS3MZT7pMf7OxKIUJJUnOc5sQJRz0CpcMMP9TSpiyoF3axq7Fkk/r/apdyFWt8HlF+JVNBmNG8PWSEblKdPOEscmk79laOLhSRmhlGZ5QtI7tWF4jGFFu3n7jKGAAAACeQZ9RRRUsI/8MrES07qfgPjOGG9Z5eLs39mdGXCCnt5kvqWRk2XLHLAeXVWYAH87tLnov1d86QY0swz1kZGeA4oKm7g+Cts+QzYfCIcWMg0FLD/dELHTb58YofdpvQ58RcLjcANIxAjFFIDGBCSZgT1sxyRivihjrg5u96twaho7DxZ1VDeigPAe/uvyXBF6iIuBWsaC8RpjiGzzgGBAAAABmAZ9wdEf/EX1UMja02aCE+7I8RVLQju1sqBd7i0lsLT4IJJMwUW2CL134hBz+bADktHZc4gIF7RBzzsbZz6aHqqCpeupZzmdzscvy8ZDHRBWm12zPBfTyAqFmJvXZLV+oEbkAdAH/AAAAbwGfcmpH/xGbWymNohTr/Mg/RXwRKfYXpupig+HqMGcyegA3W5DeJ6Tdw+n7saq4qDjbJK3fpvR+kuIIt2+rp0nHKC7X3c5EFF7jnnhohAzbQGSeLks8TMYImSsp+RMFhxJh0947IpdE7zEkP3oBSQAAAN5Bm3dJqEFsmUwIZ//+nhACaioMctgCHu27ZhSfXmEabs4GJudvebFDLv8eC30WUu09hSZUJbtA8MPAZW8IiJUT51FvOky/eoJMGs0ak8XcQy3EP8shpY9dQPoGXa7sWbh5kLgnzuynyWHT/UXgGGCOxivYYbmIC+n+nd2wxoN3xOgE3cY+39pcOSBNUGY90RVrjMeYnrwF9Yyp87zbrvcrM4wqCwYIBTnoVflEqgIPgtadXUZKA+5CpGjfWE84uYevrNqT6XXgOkEn9j2/0K4k3if4o1QMlqzVWwChQcAAAACQQZ+VRRUsI/8MrES07qfgPi5lUgfkI/NceG99raAo1ocAP1mxb4AXB43yzZJtK8QXn0tih7Z9oVOFlZ6rScGP28ItoFOmphZXDS4Wqt/c41oJiN99YmxoKXYuzXStlgDQSveFC0cL/NpGBOrN315igT5FSEVKLUOF5dc4kAxG4R8RjX2JNDWLqPym1rHDgH+BAAAAaAGftHRH/xF9VDI2tNmghQd4ni8h5GX6eW4kunEVkbvs/3SxWzIsa+ReRpcSocABstJMPzJwmArVw9pNMCJdKvgL2aUbL6GIEK7p1k0Ntn6KmJxa3MRrHTwgILcGlQNjXZj56ZmogKGAAAAAYAGftmpH/xGbWymNohTr/TdYso9eZI1Ts1iK8ZPgBtGjH3k4Qcik1TlmzPsCkPiaYu5ZPUl3udVDz/+PoYwD16gmLyfUpUpu7I5SA0l+uXo9PjdeQ8hJ1o2iBL6DX0EDxwAAAMpBm7tJqEFsmUwIX//+jLACb5SYJSB9CjddDQAleIUo08LWRDeZ9pW924E64UBXzK5SnZa7dh8IaVPHBBV53euZfjUjPkDp4PkTEtpjMS2sgv/0+pyshF6VOOwTx/8nho7FrWpjtOmBrIWzZYaC6wm75c2P73yb+L5yj/rgTU5U3HhzzGlcRUtQOlhXpFk1HLDSXs/Pwd/Hc7kfkoEg2HObBeJf8KpPifblB3hIN+gWhxTcjGPOv8UKHTH+0qPmxNtIzWpCzi7OfIoZAAAAoEGf2UUVLCP/DKxEtO6n4Dvuhr42zf7615k0WoTlgje8CvgGWo0gAE42Fo4q17FOduDgx+R4Y9XD7ev3Pi58CqL3poD/xK1C4YGMshHo63hjx8aUliNwKYqyz1YBclsp6z5/1IW0V5O0aGRQicjYOQU1AADvaqIXNSaAVAbiwA25KYxV+hnALIiIa+NMQCfhLCyHYPTs6SosdAAToiFcA0IAAACWAZ/4dEf/EX1UMja02aCE46HEzf9t9jVVfWL4ATV2fnRv0ILbP/8V5KC5Up7fhqeOgZg1W2SVu/n/1yMOk9t7AYNu5/lSRQagpgdDmo1XLerZ7z8kagK3/BT2bgbqKUF5cfzUZMue4rTAVoseIZmkYXEkwm2nN2T1dvizCOqJhcve0G7CRJUBLizhTDzeAVe+LmjTwCphAAAAeQGf+mpH/xGbWymNohTr/UGqSMDlp2be1Qk9+w6lxB74ArGgA48JW3/eEqf65lKjqrR2Zir9Rt7n83HMhLP6UgVJ+uD9Wm7JwlSSN/Pyq6aMK29znRtAwfWeD0UnWprkI9cEoFztahBSkdrDk/2QO+GFnqSR+eufhgQAAADIQZv/SahBbJlMCF///oywAnCsxN3AFJK6V6i/tkKNvg7Cx0xFCHBW5uVA0VBwSfrY2RbuMIhY5ebH+faNI8aYSWNwIgsERre8VdHTdogSTfNnFtSf+sp7+RbDcJFcXriCua2MFj33u9MyG0zpmLYGV6/Gt+mKB0RV/Yj/nWhvH+Kj3jMgI/DijHuDGdH2lhU56Un3YZ1ARVI4pLcoj70yoKUYJHewIfwvU3a7DNDq+tRt0ZpAZ/vvi5EgkuX+ed5r7O0pWVWlFDEAAAB8QZ4dRRUsI/8MrES07qfgPeJJnws5RNtuloYTxTIItT9StnRIMVnBNkqQ70nANXGI8RoUBMIVnuto6QUA++/zjx/1MLwOLA1sn4OLc8oawNoAlOV/AlNTSbW9+GtlPIrv+gMyAmgZLptAD4m9C+6E0iAT94GI1yU36JANCQAAAHQBnjx0R/8RfVQyNrTZoIRXP9QLdWPg3oAAOxIFB8T1ZAARlP2XNqrFiHM+jx533FCAci7j67i6GMfc62Diw/Tlf+46EdgCfRNhFS7taJ46tHtWhCzXOOENnA5IoOXdMifLmo7RetJc1oKKL5IMjGSR8oDpgAAAAH0Bnj5qR/8Rm1spjaIU6/0wLFNwmBREgTZ4vGrVJrAl7x6YARkXoajMDhDWTxiis/K8BNhCt3kXgat9pM8CfJYULOZl1+oZZsqFh5JWtXFqnkLe84de0v6pWYEISDbbJW+2xEpJDteBt2TxZd+70H2YUFegc3wBb49LefDAgAAAASFBmiNJqEFsmUwIX//+jLACcIffPXcAVe5rBPhAbXAs0wq68Ou1PeFWvL5kFUgla6ozl/8Xt8+JgTaUMwwgAwAa8bbLMyC+pYCegAmmBrU2yDmgygxcGH2kwRVvtd94ADew0gkITHIXf6KPwSUCBpAKw954+k4O5jeZErQLjGTUfXCjQSTI+O1BeYdOsmyjtX4q2pEA7Gz6d86wV89gn9vWBUjKHji1T8DriyRB3vyRQPFjaPaUmgi1I6vEx7J7JZtRrNXGFB7QQkjMNp3HPCcVwY3mujmTrBCobybPN3LzrS7uXfkZYvpoXSkIwqFZLBTxwKRMLO+Nh7l2Y3pI4rKmF4LLuXYrZdTYdN1Hg1qfiNrhygIQ22Abx5SlSqUBxE3BAAAAskGeQUUVLCP/DKxEtO6n4D4xbe5aBuv9YxcCgAcGKTR4niug/IVrYDGqX9waQ2KkIRyW0rnaU+TimGOmKxkCETDSnR5dWLZSsEaq1UtmdcWVb0Nm51r8YvFVQ0HJUCY/R4mV3ehwHvILo/ozO0mGvJsL7fvCFlmLI9POjrrD74vLGVZSp3PWDMqZ8lmDXwZfxjqWHw15BhmpeGXz00AUfTHwUgEeEkgjyFdcfPXDdMkA9IAAAACpAZ5gdEf/EX1UMja02aCE/7MC7Gg/o+AAbD98JyrXHJJKqgcmRnnuv9HVI4mZKdUvqvscRq8qSuKpzA+e7xSYR0RFrx+cZ1gdnksy+sm3UVKDhFiqSBrAm2dmlg2lti8K2+Om5iuL7Yp1Akolycb/IupCvoBDs4vWG680gYwGvtbQP1vHZC41sOYJ2jWGspdVzE1YA+Alq1VdLeJGO3IN4uonV8q8Y/8BQwAAAKIBnmJqR/8Rm1spjaIU6/1Hq2lforKo+7D4Aqirq11ECltPPYkPgGFf/se2Vgr5sTH7cE3VhkMNK5ynkNZdO2MAFHBbBLe3RTNoXEL2XQ7cDHqtZSnYSfaj4KVFM+N899hLj9i4NlCBWNcjhtucbgqzSXxO/g1mSS6ePUWDhl21G49FOdGUrkIhqnh4goDlcWOsB4LWvjr6jVI3J+XsICiA6YAAAAD1QZpnSahBbJlMCFf//jhACWnPjZDYAntzXw/hqugzKD9D8RM/J/f7CD0yTwDVIDJBuoZhLK55BMrz8DVjoKNywvlyS91nzGykd5T4qP8Zl/ttI7AjIv/aDP98eoN6tEUUsGKScUls82MfQsP7gGjXqLDJIUmqaMj+CE7Kk9oq9BtIGU+Hx6XnF6WHFmf3xReOfUKS7DNcWU/iaUR2/rhGm6LuM2iK0TOtoqPsGQZrMOnwFYR1O/qO7mC9g/pe7j0+6taU7fkcnVi0WqZlPuON257xxm+NwH3j+/9i5pf/zWJNNc5CM0YcbbLpsUQrhuWK6ccsAqcAAACmQZ6FRRUsI/8MrES07qfgPi5cNAqdxgAnGulz0X6u7tq6ZeLnOfmS9/14zoRztRC4/jllaS6rcuYELESj7NpTSFKsckYr4oY5yDDfwLcGoaOw8WdVQtOwuPUCoLVZQiYVleDiGY2TqfTQV542Qxhwj4RfWCyKvS/bthVh37PX25XQrsqyJcachp4OK5J5V01ZkOASV+YTbC1NAuB12NKdQ7XOsKA44QAAALwBnqR0R/8RfVQyNrTZoIUIjg1+pZ03VViIKiG0gADgz387Atp3dE6gZxOofrUD5YfpZEuWfA+Knbl0SQcciUjAuiVnYdn7M+k0aLxWs9tHUZbX9haioMUXKaApnnZYdSvmEPn3A2EX9EShbkwxSYCqYZ1L9V/G4MC1ISy1nzaw2FyjyfF8wSQhW5YQ82zFOWqnQXjNJ/Ido7XLqEnSm0VnAXMCkF6GSLEeeuIXXAI7T1nmieerLKEnjQoBUwAAAKMBnqZqR/8Rm1spjaIU6/03iNGh0wG4gHaAACzNGPJfDvP+nGEBfSZ96+Q5yZNd/vAy1gQf4fg83MhyJSXgJ+zSirijWmAvTgwUikeHYd5pn2/RllFmA7qIEudr8gEC1Ra/jWvji2z8ItO2MZi9XoOs/Eiyk4OdPqaxDshaD794PvCm+92SVunuFDWF2BJx/XCBQczAMlz52Zv/AWclT6TZIAf5AAAA50Gaq0moQWyZTAhP//3xABdeTuj8UDB6qaALlhadcAN6LoiXVzaP/riD609ABdNt+KdGZRmcY3KyjYQY1ZvWXDZv6AYr+sPlp7yEHHK430XgVVY89Nsa/RPTPY6ZZiG+ptBoTWHuIYONVjTsuxmZGxO5sXsYAXfYyj8MLr+QtzJ0mXp7LFvQU7E2GmIn9ZP3N9XChxkwjKoF5M6z92d0XRiqna/pLoCPe4z0OrBHxub86y66VBHRmbgdtVe5uMdtYEhC6/EJYh/FBkb6mGWka0eNgkb4NhZRbU5rGdi+nSl6djxHC9ACPgAAAJ5BnslFFSwj/wysRLTup+A+HW1I0yMNaZ/fSvwvgCMhuZToEtQidNz0ymuFsu+aBR+1At1JGLEhy3Aar3ssjYBkvp/GKXszGDbeeLW7Vg+dnAfGiHFkIKBx1CeKOeh4pnxzBig4UGz4tX3n555aL5GLP8E5s3V2zeiHDvVTZVve/TZVN37idUcwy+mlvzgCJTvnvIomDyIXqKyBl8ALaAAAALMBnuh0R/8RfVQyNrTZoIUBC/6TTxruGUgALBDQeXw1L2WVD+1m1MCiWNWPlyDJD7qBBzWf0/VIyvj/vn1JTCa0dCmyjk5VcxgeuD0feTQMfTbxN031FU6kCXg7bUzIbtAMCo16OoS1v9QZ6wHWMxDEdWSBEXnVAZGYDvLVOFfE7utwvH8dYrAVBhsYdo/Zhjmtr/A+AnTFWeAmHlVvH7zENc7QNwLVdQWyWAR+sgaYJn4CpwAAALABnupqR/8Rm1spjaIU6/1EF7babo5ObPE1pwAGoxRJHukShLgAjAn+isR6u+MSm7SCn58sznrx/mafQxk1TD1YYXNuvKovaYFLfcMbcrEchKNsV2kTKuiyGQ+QsTSbfTbNA/zzLDIVLbWRfbmW58jBPl3nDLrYX4ogyqpNBz+4dTgfcpFJkshIFYZQ07LvTotSYiBX9mag+XLA1ZiO/MCnQAsXEBiFA+RkkNRZSQAIOAAAALlBmu9JqEFsmUwIT//98QAXXk7sbGo76qkPs/Vzo5xoNJ8Txny48ksLCm8ynI976OBiDFiRzA5QMziONzD19/QWq7eRwjLZv3q8I34+ZEVyrN9r0qR+0ctv+LqLJjofxylpquWeiL61L+RjtxfvSDt9XRChCbyDCKSeKeIjQM1uX1NDBm2Su1sJGbk7BtMDExg0SGSY9sNJHaaSEM9d9N456xJIpKoCBKBzs5pzeiLLrMSfioso8c4fMAAAAI9Bnw1FFSwj/wysRLTup+A+IrQdBQt6XwElfRRP94IpXP2GHKINxyoSuR06VyWidiuBz5RGrN48o8Qw43RKtF06uJDQUlh3j7Y/fpKMHXso+zCZFoDIfJO/3vLztWOxbEr7jPRDZFZcNlR3PGXZNhlkbiqTvY+EB4UkKcFXBHdsqPHQhd86g7H77wgdbxAG/QAAAI4Bnyx0R/8RfVQyNrTZoIT/yn76KgNutbm8qzAUuK41kYIzD2ACas2j7LwVGQ5TN/6UW6fv+bj5yeX1zBzcHvBQ0cX+KMncT1I8v0UjhHguTWS5j8vf+K0nOhW4SVfNR7ckOtCIHXURkU5QceAZSG4d72noPfzveaV4XkM8YQjdO8yAesWtWjRrAX51UIVtAAAAegGfLmpH/xGbWymNohTr/EsOhomrO2yrC5HVbTfudJSVQAXUXocDWHjXJMlwzkO9YbV4cIeq1lG2stKdgIrBWbqmN6T0coF8p+ZvJ98UFk4Qx9qCkii5wPbcOv11iRVBug0TQE5mebBYhZu29DfvemGUt1C7Yh58yCFbAAAA/UGbM0moQWyZTAhn//6eEADz65+Cbj2ABfMv6mpQu/tM61052jGeRKA0d3Y1nV+q3nwz+gT2nDqMolpnc+Nn5LSNR5pVzrTlqRWrNaJ+n4t0U7S2vcEYLP8n9y4T9fbdk/fpVlPTTQstDngaf6icRJ5yqYV+BuucoON7mM107za+w5VWDynI0YIWzDv9YLxNRZNOuLMcDxGjPlnwWtGe8TeQJ15x/HOl7AVJ3xAvOn+NTa6HRJHujwH9zpw3Lw35SyclAEerq6+zMa5+Q5eIjP6aJZk/mUXXaVbnUkyEdKB4aZRj4ni1IMbdtmZWUrClef84u4UgJgz2TjvOHzAAAACcQZ9RRRUsI/8MrES07qfgO9op6rEHF0x6cXMnUVDex25Nt2nPaQANj29t2dr4r6FfLiTzHvpuDcP3BMXmdS9hL4HR2b5Zjb2rniow8j2ImDoJAadDf3xBwNw1Oh/RxmJUC5Z2gdGFGCwmcuaTF9xvL9tZWkzwBgY7LXX/Z8/8psRMLUcXPtLtLCFAphcTxKRDWQ1AaHjtNrUsUAPmAAAAgQGfcHRH/xF9VDI2tNmghMLs0W4HRbABbJBP67JQAtDY8JgydnO4jzz30iVrdOg5OCr49+BhyGsgLpCEn3Ffj1kBh9dsML91xsndyRLnFBjDjzsAC9RPh+eMng6LVKtdKTt/C6j10GPIYLROkBen31YGgBHeg1wV2NKLO+vyUGAoIQAAAK0Bn3JqR/8Rm1spjaIU6/xvH1AdJoAGpPjeJbq1fLd5Okc/65KiCR74m7C99OoOnX5UVas/QeMqxXL58A1IPVbFWZVX9/lFPx6E69P0SdkwNUg6CLOl/pFquaYN1QxywHQQZDG1g1rtkJ+biST24/p8/TGrEXJLJPcciAYOFwQxLG5dYzLOI9Bb8+4XcReBowdk47IjOkNrdlteO7YQASYWPD14zHvLdct6qbgq4AAAAPtBm3dJqEFsmUwIZ//+nhAA8/sdg/GWZnxe5AifLMYmmu4jJWmh/yeAEJydcmQT+/qchqf+eO3KWeQDUalSkAzb1TRzBYT+zpfDgIKI5HndnWeVMdyTzRuQKRPZw8NLimJMgCbrg81jiNGTnuJN1ooQ4sxEjAUEXlX5QC/EEbsGiu5e1YRZIvcasHXfPZuVgkFu2LwP8bdvR0FCN5peAjDb7gHX30f2MEUPTjhreecfCHIBXIqgivzqDo+GUyihHcwz55A3k+Zf/ayzeHYvtvDgByoYT7f/hQ9DTG+Na0y1WpaxExWfEz4gAyrQygysfGcur12V19/8ELJDwAAAAK9Bn5VFFSwj/wysRLTup+A7oTQ4cT86w28F2TKQAVweqwAa/A9QREChQoL6ueq6PiX1Ns2ibfelHbelk0R4i8uHELNkSP/18+0A7SFkt6D/cxeasHjikZd8PJMCAlYAiLlSG3yeN0uiDi3c/bNwjzicxSNPMAYmz6I72JCzeFyku0OOJ3QvkakSLVsg4QuAFrBqsSaCz4cLXFn59RnerAuQh6d6QZVHCuCHm8/TALaBAAAAyQGftHRH/xF9VDI2tNmgg5wcuLvVru2kA5poOoART16BGtlOdDBjpl72lQfgZ3ZMXLMlCsUn7lC99e8oIBGaH8bxLdWr3Wuavzn/K5vKlZLCxiATnSsm97zqrh/KO5HoX8yaMLzXOP4LBRhNrK7y/LFlGNXW++ngWlMubTGC3tqOyAANnUCSiXJxv8i6kK+gEOzi3XM92iKQZiv/LOWkdQBSBnxSw380L3m1LcFAatk7TOhMEO9UZa2HABc81pQoRGODk3y1HogeMAAAADYBn7ZqR/8Rm1spjaIU6/xvIaYADEkxdQqbSOSEgNAW24JhdnP0mCQjwsorHo3xkol/7qD8MCEAAAEMQZu7SahBbJlMCGf//p4QAPlrn5QhJXACE6SJBzjSH8zdSqbyjj1eMuoE4pTS/GfnuUfJvpAgWzsN8lqtOT+g+gowc3ZIJaLT0VhDNalUldGXdhEqgl70m70d0rd5qY1lrdtZ1VLMwl9svVvo3hfFxTN++IY1OWrYN7IMmek09LXoItT45KNsZBIHeJblL3L3zYjfkO29gAkjnfZNRu7uonj5VNV6EK1FUJtVFcg1fKRpeYEFXGkUCJaQYvt6rSittZRoWa2Fq8VoK8KcP2JARUFTlFJ8xXTtS5U71f0TFcUCSweBp+nHJMURStl4gFlGbRqcxHcraKJIAHgtSTCosUpv9hCjhEF+JjsPmQAAAMhBn9lFFSwj/wysRLTup+A7oTVh8T/4LKAEhIRn9JzGKPyZn5NPRNIx/uYgfrUxvOBPUBXN6ZZsZVzdVXdqIgeh+w8gRV48RSlD5H3nE/8A4Bi9TFDHCKRq4rFuBWL8JIB1ZZ8viqr6hFq4Wf1WsTxa0EYX9eIRTjBRCRhde2jaLbsFtS6aRX/GI2ro3zCMImWG53xnn+15ybKTRJjkv2tjjN6lbKfhyCTnplfY52CkEr+nVCTBdNnLy2mI7oovGBTf8egcxQAtoAAAALUBn/h0R/8RfVQyNrTZoIOcGDyMIp76NeA5+AFuCb+dgW07Xk0CquGXN95+RxN/YyjorbUfraanY3KpoxC/Ngcq4DdUiPvfH5P0AtaKIVyshVuqlSyJGQ73Idb9Ob58rLqBGTKr6LU4hKgDb+Niyn1s/BK4OP1FuhOvOzeleQIdT2X39xdoQXdD8FL0Ziw796gl3Hs7Rr3YEUZAJDqm4RYjDEjIE9khDoEwTy35e/vKXOOgFBixAAAAwwGf+mpH/xGbWymNohTr/G8hUQ6cwARgJ+dHBdQjZ8L+LAR9oWY946/B7C6U3RWOAIvIc58fcnZkcVfWlZJ9QfYGPEpClsfi+opY5VK6rgtF1AwWc5i4zzyyKtCj/p/pm7FWKG4c9z8vy1hYPi9UPg076I7zMXivyGMADzafpptcQHtYCwExHNe4Lli7cLHlNgI0102P0uzX+qpdevTEPBJDKmHbvCDUDp+8Z/77Zt7PxeFgEZeVhw0bmIbJ4+YHtFoxNwAAANpBm/9JqEFsmUwIX//+jLAB8worACWCZjS29kV6bzzY9+oMCdlBZZucaRcRaM6RxNSpVN0x7HbGCvCu3sQ14kBuYViVevyg1qdB27rDiuxJhJ9L5CTSGENI5xdOpT5+GJyYMrgnj9cVjQO9I208B2y7cGsb62bSsUVWtZlwcfqhdNcwAqnlNk4eNA3yUr6LAnLvgKQMQGeq9QjBzlnQKlY8m48ErRFZZFZ1SM5zYLxL/hVJ8T9vy3YQm/P8ajkIO6+4pqMpzR9g1qCynOs/ALZX0gqwMyOKNRA8YQAAAMlBnh1FFSwj/wysRLTup+A7oTV1DWKoD1DqQA3NIIwAEqkJkFLEZuacqmYz0NmiR8aSgrz0yRRIUQ3MA7Ff7TIOAlow/QqjackP9w6euo+eOZibiywEj93Cbibi+3owK3QUKTgJrr2zwWlCcHigstRVl157t8w/Ogq7ycP48veJI73W9hCmCSdTqK85OupSO1DANk3A+0BFjWRlyKPwIX2KdEABdoIHnP/wwGReElbnRgitQ5bTAnGlV+52NP3GnmiDh9RuKjiAz4EAAAC5AZ48dEf/EX1UMja02aCDnCHzO0AqHljKY8NhE/9+Bm9ahS6Ww1YREBoy3me3rYWa4wz7xiO7aTVYRV57TQnLLx1HmcieLMGYzypmNoTuUgbj7FZOBGqYfnLJ9p8Ai5tyYxdLiNb96ibY92MitPPP/HwECOgvVFzh+dlsGR4kiGLp4AxL54TPc9xjc5pCrbJ70y22mOdZ+EY4rJz7NcUk0VsaD9WkuR1mg0R8LXxjsTQvl/2UnYrAXcAAAADSAZ4+akf/EZtbKY2iFOv8b/ktUADYFiOLLtGEmO4FpjkOTyYJVlo+VbaMwpgLeCP4idIt2b2bh/bRjynHd8+t6JItKYqjuDgGIeo4w0OaH1yxCKr2LBiqkTCUH3lT7H6LPnY16c9iqkYTI9ROfHl0j4G4snrPK85WlixbakCZLOjK/HhG7ErVeuR14b8byHIGkHeI0HEzeLzlhYJQthDjK912e3r6yJa2+6vMaqWVYALpj94pC9C6dtGFHLMAMGxqutvA4rK7Vzh15l1xEHWWSgxYAAABWUGaI0moQWyZTAhf//6MsAH19bwXOp5ZY4gh6ncZa9u6aeBvTOnx4sHBD6YGxQNKJPRiXSHm2Y9/vgCdG1PvoaAWNpExsi7KQ1pJCZNBGTLRkmhqJFJVxtcIH0R+BCJrsvi1dvf+0rum5ygvChYAo6rinGngJ9fNFHSAonptpEafUWv7u/f6p4OhuEgtOmUI0OQkix059O6DadKuBTt6J9Zh82MoDHr5i8vURptvAcnjfTeMqH8RAgad95HqiYeR269cT6Hf8Rmsg5u4tpXyy3XBwVnO13SPEb2AjwwQbcyqGWQi724SOQg/5XcjQqbL2Yb9TF0Ry3MMIOIJ3QagxuHtC4kStVQbGZ/z6mJHEleCWz/9kpbO0eoK7TIFjxhwwNRwyJE3ePQAs7Qq9rGR6G16SlCuvI1iyAJoEZkeQ/HLyxa6JCP2q82MZRszXywDN90TXD12opeFnQAAANBBnkFFFSwj/wysRLTup+A7oOUwy2nnolXi/AyVUJyMAmveb263VHs6iaePEhe2kSmLzLU2mc3ULuaJrzqiPzMUTBEPBAcU5fgSqbwmYh+80q4jCXjOnOeRyTHOK6tZQ+lmFBGeF+0VQZJyuUy57pmROCPIBEdxXYQWBsS7prueGvCYhONcJdmxgAXFJdJIwab8FUh7phvOTHg+NKl4jEtdNR7cMNGH+s6NdI8/Detr/kT4C+g3Letc4vMogDQdww24mvJssgC13Ijl+xFEkBqwAAAAxAGeYHRH/xF9VDI2tNmgg57jmDf1ScgC1l6HA1lfY31HWuNwpHKllGYBdofOjSDWOsJc03U+F+dVOn8mHeNawkmoWoK8GS2hx9K6LsTnfWRf0Q073xR1elU04sCBkIgv4iaC7O2iaNtbsQkY9tgAsxrNYRVZle7K2s9jtrI8Z0earVHVX6EI/jKNOKvtVhgSe4oL32PX2VIqQaRhGTV+c+97Hsw0MRs9pabn3Hk+d1lpVVvrc7eEYWAb1jurYJzkmaoDKGEAAADQAZ5iakf/EZtbKY2iFOv8cEbpfH5s0lELzOBrqBcAL8IKmQvEX2BKxdqMb84kbxQBWUZHpQh5Rv2WMYRs5lsLBe4Kpzm4NFghLUtNQy7ut9bvYicv5TFukieAFtroYPJSIT/+fMQgERmY5dMvvqJFvEcSKlF1t0CV83GeJTZuTCTTeQXiZDG8AYD37xjXmluNuoqBVksD5KjQKY/bIwdXsCI9Hp4D9IsXzx2lqwnuE0VgodOHeqii7PlTkaaPqF+xFSnNpg7sE70EAS/qzeXhZwAAASdBmmdJqEFsmUwIV//+OEAD++pHIP/UxH7PB3PfAK7S8Ai9NF8d0FV2GCOmAA4nXa0fpl9a59wl4YyzF6P8jYqPZT8BMf/wCKY/TcLLpbUUrZDgkW2/TLN68JKaGvimWBPUK8E9V/368Dj5Wdpd/pRXAdnCGOMmwsPqlHDoCUXZ+fhpbEX59Wl32tfeIWopzEkXQCw+tIUn/TBgykazBzu2pFnlo41r2ixZo3+1HY5RgKU3Y7fpr22B5Z7utA7FOM73Ox1ABL8MQzzfGSBRgwRhpt0IqDqQQSGVt0FZWpEbYiO0GarGhayhiPvmrVey44qlzIOYpH6IvrTuAFDjSSerN8l9CgcZOjCZWM0kdfpGor1AykCRwKrhhh411/n48WUOppospofNAAAAy0GehUUVLCP/DKxEtO6n4DuiP8c3eZ6PjTBIptUo81nuIDACw9GFomUoFUM9gIKDYqxLAcB4vFpzUrEtZf0++NxPuMOITxLaHoqCyhUu/WUQwKk4aHC1XSpkCqlh8QSZPnDxIBZLcZY/m4BjUMXRAmoiNvszaDa2UMTiETr4U2yFUGwkKUBHWwK2GXSFLzT7Tr412ZuYtBySt3tihj0rTyWwUtNj7TPBaXvGtn69iqrjRmLcjwWAN/WgwtOq5yIqLs/JTkqo7HfUQB6RAAAA3AGepHRH/xF9VDI2tNmgg5sS7wzXYJWAEZ5j61W1vel/2mmXfGMspb/mdMg0rr/ZmtKJ/qy1MgP+thSRs1dTQGr95lpxhomnNAxpNfoH/xc2AH/h/FhStql0yVydpoJ/SBY3mgtDYppDy6WYhkA44A41hzcAgSNpKMfHl6g9U9byrPuqISDg8CrZThJhOW/hPBRX/C+4x6bA/TOecXZZmyi0AYFmwNc7E9pssPBv/e9SOFnggZW6V2CyyaC2d9uOBHpOWXQY06UqjfBXUaOWjVJYc/HJ2QN/YhxAdMEAAACsAZ6makf/EZtbKY2iFOv8bx1Tc0lAbExFBgAjIvQeXx8FAxkOPiUtM45wjTjq17AOfn96rmbWLhuor97YAxUXBduwwqQloURNXgc14tXwhRHkPu4gqodDaGatXYc6O3fnafFfYUVgbRFHiJj/0D6GOFO/ZkrEI6IzHN8q6Yw0AbCp0EjfI169eHlmRm/WcW1hWaW8ZTBpWFW/GgAq0anyjrLIMM32xL6E3/BCtwAAAQNBmqtJqEFsmUwIT//98QADuem9M4ZoSmng7QA1Ec3NK0lPWEuO4AKDRuGaxCFhoyKqje3N9z+zOaHGmI2ezXPt+M7vZLc217zft6ucydJTNldL/sTAMcLdFZYjOfL3sjmK16peVuTQqA/yLNSm5FMFGuJcZil01ZkoIQ/9Dyy6Mp1x7Pkh5L9s4bI8R+xFumn3l/+VYf8GigTnTsztr2qzFU++/3owJMbPfXF0+TeZesuL4yz+XcKNNSGcablAyu9l2bEM2AwMKiOF6z4WkOkZ6C2clN4Zo8ejh9j/UXG2TYVWlTP7HnOjmX//EJwWaRxS7kX+7t7voPVLpD26F7PFjeFnAAAAzUGeyUUVLCP/DKxEtO6n4DuhL1lDXNeAFh7kzVFntYGCgWUr4yiJM8bCvJboKMtCbE2Ejk4LxaFxLg87Y9fmXxI5i4TGbVr5iEdPzxQbkK2MLr6C4L18zAj737PuOQPh/z29BY/qgywkDT7qErO8f9hXzfZonzNrRGSCHM19bXporyah/6GgYaF+Hd3ErVmpuieqfjwlF89hIFGXQnOkI+2AuwcTyGJLVgFPBSqGNB0utFMMhVh+kjGxCCwOc1k68vh5CgnDlbaqOIBgz4AAAACeAZ7odEf/EX1UMja02aCDnAXUWdHWjAFbwh7toIxiI0JEzUOt036+c2kEzmH0D81ijGBSgFn4yBGi0iHhNcLx/mvFMAfr1LOr2EZFDxLzY2vDvrapUpmi/5d6G3GK3MlHTgA8l3C5DFElX3lmNORK8iYRsvSEJhsFJSiWsGLVLoYguvD81fLCgKpo9mSI1Lg7+z8V+fxTnTaG5hPwwIEAAACWAZ7qakf/EZtbKY2iFOv8bxgbbKhS1FL1GwRjyJ0f28JbJpUC765OV4WToKi9/5Aw/1gAOkXwYUwqqf8vittxkjU8Q6r9dSGtmI/cmpUqiYZbyIuAglLCLyAIrOrhxsVJXclPy0GmZfCvFUj8AaGB7kRfACvIattf2M36BDMvwjLgWvQRq4PwA2B+JC/SyOfYyJgd38MCAAABHkGa70moQWyZTAhn//6eEABc8q1wAtnq1Sb38HqF9UDKmBD3m4trs0xVWCaFVYSxaDnAmROt9RvC98O/h49uBdmd65TY3SqnQpi9gI+qJ38xYlf6SbQTulM5GVSE1SiZEg1pAqu+LoAQ91McN9/P0F/MFSdvblFqx+SepWSy4ufmXn6hWkbbixAUVydNMARelxVDj7Dw35CYt1PMgz27rXqPGDTiYN2lapiJQMVQanjy+33TWmxR3W3qO1NgCV3j5o5YBaMjsjuuqFxIft8zNI0qW+elSjxmDWPrsqOxbJ42Q0hx1Vo4/T6r51GkDEqOSzXZyLGxpdiHXipiobXznL9pn0b12o+P9z2Ls4wCtkYGrMl+Kc14KI6pqD4jE3AAAACIQZ8NRRUsI/8MrES07qfgO6EvWT38iRUWcdUHsgL8rxKRyFQCz6C6fuFXiWTuvnSTS+voIZRRHj7qHQAsl51+rGo+1PhsBiWEE6IcCDxuPWHt+Ym8Ps4iUxOpo4o2o0A42nawfHb9hSPLIM+9WS1O65zv5i/NDlryXhVzv2YoLqgBy/X2hpAWcQAAALUBnyx0R/8RfVQyNrTZoIOcBdP5v4rzpDbhqTU3/s8/0yfzNUlEU8dABMtBUyF4i+0zh8p7EjEHnCZYw4eBBOyJosH6LUMVxQJZhdp82T7TAsmeq1pBdqe0xht/OINd5KlM/41zeF8ylxHLTqu9YQpykRYSl4W3/7OqhJp8q5/4gNvhOVa45KsTR961fwUd3Q/+Z1aqhwQdtnMnhIu3PPcxjRUeQKGuoUG/tnR1pv5CnPwILJDxAAAAzwGfLmpH/xGbWymNohTr/G8YG1eWgNumoAadyxr2lNnrYvIk6UUzHrHXIputg+4EXuaDK31COQiJ7kzDoPb0z/Mrl0NzDxSKkmBlYJIUkdBTnEZdySb6LBEGcem7RUyF4i+x9Zg8ypYpY1vFKslf0LgSogTQYfH1g777IoGynFYlS7/S7PFeiNMgQaIKEJu2VhKHRZ56LVxL8jzKKAg+HCPHXYKeQzIwfsZW3xC9kQ9JBsTmlvVJlFsXxKPzM0dTklFavhVlTtT7mv9G5cRNwQAAAQ1BmzNJqEFsmUwIZ//+nhAAXX3eejNRY3ZKERuNa1Y+9AAjUO1Z5TN4ylRrTtPWoXz3ShmY25FPko5p1FnsWtayqhSAx27glbTXn1rKp8kZ6OfHLkJg31J3z6/d4ixzh9UWHneVOkZPMZ6srsGYr1YbDGWSF2myvyXs1ihRgbzUpOBzllMdtXITLChlyPg/h52PkkEumzR0nD7juQakeFWniggvIArH3qc5JvMdRD9vBAQZ6OfDWMKRr586MYKcAvAdcLn//Hu81EhsO+XZ0RBlX8x3eMV13D10ee2Z4kGPMURIQ86lq6sl7ANp5WZUeu8aw+VD+95RKTFjwrG4bR6sKHokGW/aIFqbFfhgQAAAAMpBn1FFFSwj/wysRLTup+A7oS9ZP/yiwYAvwqMGczL9e3hq14sS6TYQeef8kuNj/8iMGwfWQsB/gPEg1QQcaNIB+6dnme6BVJJfC0YnmKQuXKV2N2W4AoY9ViPXR/pS5t/mF/BCvIY3Ld5lfHmGxKPqm6IJuSOyQWhH3m6KIAm3crTFsR5ZV4A/VFgWxw7KdLLhTZ62RdiCRRUPuGovqZuISdkVoP/oEGs7maGpARBIB87itbv4NIqTsYbOj8gasymiMqAT/DiJ+Ai4AAAAOwGfcHRH/xF9VDI2tNmgg5wF1BnHjZAU6lC6SDzgQlt/nGJ/prwvmg8UngWHHmymIQlsdeHwka0/AAuJAAAA1QGfcmpH/xGbWymNohTr/G8YG1xFQiqmFHq4V9UAIvaH5urxApkfpzEMgcTzpdtLDyPL44Ouwio2cr3vggcnMqOOJoBGVUHROjLXKJBziZdeq2uFM5hWg7MWhI3QRFtSsRsZw369pU+FCdEoa1O0/ygsCpmMPeITtitlJG/lRSv+BsNJKWdaxtGYD24xRgsBuSSUROVqDJz1ljx5+4jKV56nWBYiA8GVwWtIgI6xkK1bGyA7SiE/IHXRqtgir3/r49DT5j0QMMlTY98dGgiEEccVg+AoIAAAALlBm3dJqEFsmUwIZ//+nhAAWzmXR6Jflq8FucoA6QAS22gD4FN7q69L7bwiNxsVai5uWQdGyKzhhB2u+6q/zngZtLvXDPi0wN7HAUJIgmXAh+XP6Qiw0nFEI5M4p7OIB01DsHKiSqLgWnJQKjII24DZKnmWLSizB6dEg+0/BsTPsK2iVrkxzXFDEUhX7eq0NNTND9OQ+FChnZsfdHR93dl11cDci8W7AgL81rUo5FRyjBNyslqrjAWh8wAAAL9Bn5VFFSwj/wysRLTup+A7oS9ZP+qgtXdH2MABCgALgJaM1E2vShLBe6Qo/3UfTtZSbS56L9XaxM1x/+byEaW3bd1OMpmlG14K7q138IuEBzb61/OEIly/tkUDai41Ei8mf+1Q0klOldZKQJBnmb3cWEf8D57wwSMjQCBYjBJjYRlXgIssuKJLiTkWyt/OATozcSLJ3wy2GjeUOzb+0q8GRDWQSxzg9OQCJWRA0uOL0c+dJhVti5jGppercqoBwQAAAL8Bn7R0R/8RfVQyNrTZoIOcBdQmNlEffYMhREANvoVVwfk8ZiI4tcunX5Vr9qooU/lNS2oEyy2fE7LQJzWNi+RnZDKw97rqx3fVQ1poFPUpwKV/+KWyLdo45J50JZ9jD8qeiOPfJgXOu/16d3PGG2aO4nmwr9E3/586/L4y7bkRsbVKNgQqRgHsRkNMVUlhbeKgJiOXQ3L77o9/ecGC7OLtNnIOHLAS0vwmn4b9rrZp2ixHzQUlXQ24mcFaRiA6YAAAAKUBn7ZqR/8Rm1spjaIU6/xvGBtfizB4TJKOWxAACmuPBYfCcLgZ0sTOw6sviFStH5bCaXf0z3ek05P6t8a7rqU8Ank1fQyn+S+UpP7bfVcWMuDA7G1L0rXz2rJSW6vkLpaUHKlf84a0ZLjcwK9R7ne5sjsG1ISugKWJRAhSijjKdpzOlztUr9gkz6/0FP8f4CY/vDouTsvDrua3E2cNqpmzCtEARcEAAAE0QZu7SahBbJlMCGf//p4QACf+79YODV/h4AODcKQ8eJ7lze9RFi/lToCoFnlX31y6+ROX8vXWDH9gzqcwd4r/lNvehc4+dt8wr/MDSUs1uJvUzXupAeCr5xbjkDV5PBHC/wjWbaUn73+odRKybOkA5028vaabHBd2JtBWVj24TN0enCl0zb4Jnv6qdsz7uahioz/OHBaiyjF1jXXOh2WCj/DDIY3Nd8q+fPb6wQBJ8q+cdh4xV6eig59kpOPBGIdrykDEYgTaMCCMuyyAhrM5M0VAwgeZgVAy5q+nl/no4xadJvVYHE/hB3gQERgq9K3hAZKumQpGhBqTvaRz/jEjWd/LYl1xiZ73saG4qdJrQo4ScgNb7X9ipRcwXPlmzy3TPNRm8IfQzDJE2x+xHdI1VSmIBU0AAAClQZ/ZRRUsI/8MrES07qfgO6EvWT/qK+tfMSDMGeIkAAtMyyEk87GMrGAkb6olbGMjG7RGrEjX98BJ9Gl5IT7c+dcMDFSHcaYe0itZApd7DmfvYB0hmYE4TF99iyvDz1SAPv/UGRoA0OJgi+Uc3SAHz+CvUMryUn0FHsHG9wMchPjJfW03/mmj/xMvMqU7zEpG6xecX2WgAaNDPSNIkxks4gcduAMCAAAAuAGf+HRH/xF9VDI2tNmgg5wF1CYTfF0j/sz3chUPJvZQmfVgA2fViYBwBCA6pYs3YjtfWEKZ9iTCQAe92373g1ZnYRCSdzTTpXMk1Z/AGsMN7iXysQ89+xWvF4WydxOakLM3QCtnu4RJHCu6S1hohWnxOoqLHPprY8xVro8abvsL/eCkmK1SCngh2hM7bateb4SDvVjOb9S26KMJ7kh1kN2QrJuVPJOWW0MlrJRCdoKeBOog5Cw+GBEAAAC7AZ/6akf/EZtbKY2iFOv8bxgbX3xN/P11QAinr0H7S7N+RBEw1ALufx191PF0nBiK/Ly8g2dkJCLrhpOCO0XVmJDTGUh7qVfcZUIJZ72GPIG/NzXIfdHbvMlyauZTVPW9sDaPNR9bwqWl5os/NJJn+2VSGOf8DNTdJOvAj4L0MVYovRfalGHQ4rAo/VfB3YDRM8s+Mr69Y5kKVc1ycl+5odFCQxfDQMQrFzPQgMlSM7DgrlnQxYfJwRA8YAAAAOxBm/9JqEFsmUwIZ//+nhAAI98WPa2bkxGOvvXZAFCytUYZveK5+82IzapEi3iv43fvI5XbFb38Cbp0wnfemfR52jREZ/WKN9Gm2O/HrJAGtYYYp0Avpyl1DQD9W1LqdRwKd+FB1JgUovThfMxiyhrTbNA5frnCPTBnixRKiqVTJFFike7ndiwAr41dpcosHljpFQa3q5h7SFYADkRfqdAX3i+1tZ8XTl5BlKx72aUqzDuDJzsK0c0GBoc/rJrbLkDrQz27xIcBQjT4jz0/AfB+4DCdjWKHoIFWEiYQHGdSserPP3iiOb67hTrxZwAAALVBnh1FFSwj/wysRLTup+A7oS9ZP+mKhSoWKz2JSAIeosJgkgBaAiwtrXlEuonuGxXxpKnTmKhp5IurgBtmBE+4wK/wK34oZXsEPh98A98h9JyIhNPLOKjbMUiS0tlxFQno6y8o9iRhkGCC8tqLHJ4AlXHYPZFdev8LYnj2HBlE4zKljqpHXeKHF0eu9aOdxjbuHFAlhTaAEGaBLi2sJiUmWbYd3qSRPHt0H7FHRUMYbeSPUA8JAAAArQGePHRH/xF9VDI2tNmgg5wF1CXytRXX4ACgFFsUGrSdjMtVykvItNW0/mGNM6XMOdvwgKO52T9ottX7sED9cT8849nuym1D+kaHZRl1I5kYjbqCnCpIBF1Igs8ry8bpTy7lfFnEr+bvQFWez2xXxOegnBymY7vzdcVmxOgtXsOEvvug6mI8FD7yAVaShO6bIKQEpSoX3xoVM98O+VrNndArsQSieDvo77PcdUR8AAAAtgGePmpH/xGbWymNohTr/G8YG198YXSIAbWqob09QL2iAWI0DX6hsmp8FU9AIkgPsFcP9LqgN+UmaOzMEJ47y4qi6xMpMfPVSFhdZE379bcEo1noJEd0jX1OQWhtSGEwmbiQfZm/wKGoI2INNlmn3RUwBGD5fHJJzUrSZCSGR1A6BMMr5hgg4IqXvLhbYWfLOR1SkXA2Qj19Vr9m8EQ98LZ7VFYKzYK7gXaRhHHdLN3H96QES8IOAAAAm0GaI0moQWyZTAhf//6MsAAiPTcoh4WQ8+lslbnQF5odcoocAZE1/Fma5KVapMaezyZpMp002iaozKC2rlvaAAbQC6Xqv3eihgfG2qarG7l3RyAccRbk99/IL+ek5y59QaRHhhLnkdTXSfiZfseY2/1JuENQPy3v5SX4XVjF2c6eifzicokx7ZZpHIPqWav7bJ87ZQSBzMpUpQoPAAAApEGeQUUVLCP/DKxEtO6n4DuhL1k/6YGqbIKlJnEAlboUjFjZ0DEy3e+CNz0+Xre9VgKuRJKeOvgIpy5Xbb8bUgyb257VVD6ttz67EDZCqE2K8rPSzDxSfatFxyPtBXranGzGihz6AMh/D3fALBuUE3he1bQ45CF9IVQzNiH9t1932I+l14iR9vss769+gqUt1NNj80gfoZwwOeL097ADIgdZgHBAAAAArgGeYHRH/xF9VDI2tNmgg5wF1CXwZu4MIP4FC+z55wBu18kuAS/kimL9Mx8oIACv44CTNAu902CTWM4NKtWPg9zMwBn5KMlTsxcwCsD3/ZV0ancMfK5/8wPT0T1uJVnOx2JhjKF6mncmwqetKdrn8tHxOiNMb3O2JGjfAxduT1a+RttXu6StRQojoS8W7nGNo2nam3PW7iv27+Q397Y/Kia7eiABP9HuamYhOfDAgQAAAKUBnmJqR/8Rm1spjaIU6/xvGBtfe8o9I6+SsT/g8Cn8bc+fCAAS0tWFtRVDOdnkNMqs0LTYMZTu3O2FiPw+VSUGV1GI3alvCurUFORt+BaBJFcQG5Gg03q7+eaNqKMP0eCpLz9FWMc1PhQDmL/z7QfnRyZBPuk2AfEdxV93eMyHzL8qot9GZtlxuvuHM/WqcqpEGN9hbsAteD7clgurnKtoOZ+r4YEAAAC5QZpnSahBbJlMCF///oywACE9N6fGMXHnReiy1QAlvU2v6DwGotb+DNq2AW/VFh7aXols11KpQG00d9k8PuPXockKIgTZ329mdEE3qI4GC16fM1R0eZA9Uw1ZsRU5RlKL+qub+90TFyp/kmPZh6f/XqEbPnm12bTrd9N6W3MyAeEEt3wwtjpkffulr+iUKA5wWhOsaPHoizoA+RjDX1OuTOhnKbPHkhks6GY3cmR93WB0Np75awWzRx0AAAB/QZ6FRRUsI/8MrES07qfgO6EvWT/pgZJvOGRQkqPJND9ynWzjqYlKEQBEKoacj3q1pUd+oD9d2WdoeGYfCGUkS+RFTbKK7j+WfoUMs8LysxHiNBtZNqa/DA2365Wlxa/LoSFmpqiXky/jDmnVc43An7XRVjuM3tGJTDA8yMAOCQAAAJ4BnqR0R/8RfVQyNrTZoIOcBdQl8FD9G3Uo7QZs72ni6cokPGh5DtfPTwBWIeW7QZQwoYYzaXA8aWWZdmzIJAhtf5yDezI4urA+hXgP7MARa1/kntHEbyBgF5mWn5JrXOUEtYI45KjlRAm/fCV7cZ32e/IqIdc3AksQOv92pqOzIC7B+H1xpKYKgnrS+RlpYQVAlTaO6d2F5t2VBYCPgQAAAIMBnqZqR/8Rm1spjaIU6/xvGBtfe8cAblPRk26IPYud+gAV4NhNFmbkjIrJs6Ke6FiE+bhGK835Eo6D3T/J4h4R3mjII91UhuVxWcmWVkSfBWJvZLW3pyP92+g3fcwvUQqgjmk8RFnQxzQjvk6/vdI4X5mggMlzlnWq5ykVYrxmdaAoYQAAASdBmqtJqEFsmUwIX//+jLAADjhRWAFrqqoCycP3vGyRTY3FbZvjBiW4HCttM/yeiAxsJW+aBgU2DzIkkPj1lPFOjbSCzNDInju/ccSeaLdj5WY+It+y5pTBX0kJFlo48wX61b5eV/NVxcf1zwngtkGiPoYbBEKu6y25BMXCLfE+gsQ5Ui55hgfCBsaC/368kxyUs9oosla5dcRrm/L/13+ViZTCvWA/jowPDgqruSA+5y9eEA2qbx8WXRhO6xFazanhxIgo/l5AYtHGmX20ueqgMw++aNoAQv89uSqBGnWsTqVPVJb95hC6soqV9/e2iKDbvYA6gtuY3iRTUd5QOE8nMdvj4boPlQcDsV0+NXgMiffPJwVbjH4XtQu+/njjzOZaFtbPbD5gAAAAwkGeyUUVLCP/DKxEtO6n4DuhL1k/6YGSb9UCM9jgBEw3JWf2rFCasDGPOKqeyUrPSoDzQLX8aPrI7WNWNA1iUGAXvRTn2Wghr6EKH8s//mJeUcsq71ZFMM7dBxmWRQVe0OCkIPt4o+LVtkrtMUGynlGLyr7dH/9FsoQ4qryyHaNc/F6C1abPHzgfB3g9CDVM/9N48+ARpG2vgO4kbd6ksWKsbLuni0gOmpuoioecq1hgq6Rj4bSEQstxh/SAd72uoCzgAAAANwGe6HRH/xF9VDI2tNmgg5wF1CXwUP1KMKr5LravojpQU6vGnVz39p+ToUjlbVHkOP9PLC0EBQ0AAADTAZ7qakf/EZtbKY2iFOv8bxgbX3vHAKOy7QIp8QgBEgCvLbWJ/zm0rcdJglzR74oMyt8P02z77LuprYF8F30snKJT+dQaqI3LwkKHbuIRpDdomlGEDGdnW2Nu38yZnIwq77yTi2NPvahA4GMMO2bgk5J/tSJjC9LLsN/5qg6rTqWCnZ9F9CfiD6n8uX6/SM0ryzEqdMn9Mz5vN2bYc9lIXVQVUXIeGpKbebfFjZGREtf1wRZktjHGDlUx9zUfLuRFYksIBjFYrHfYxAAKUdj7+RAdMAAAARlBmu9JqEFsmUwIV//+OEAAN36keOsafCozZIo2JpEYIUTQzGQOPidmcXAS6cPPHT38CFqZJ/BGk5jpiBfrScNwQaBWhM+TsweMJkApyM8puGlQShF35lxZAC5UI+DoqqnPvl2LMdE6TMPlG0nClefcXhcYOkmqL+uqpI408nzEwsEbMnoFiFtRdMnMcJpjczHMfblDX1RBErJ37RAkORIuhW2QLtrJ12HR3DSOe731Nx2ovQGioxFQFm5WBOtQU+xOl0gk5ts3x8O/qXw+FH8Ctg22mZFA9E6lFyllg02HSLLcrZRXeRCfLSGo7R1kXNpU8N+JDuKWxyGIJSHO0hMmtFBeBm5ufyNiP9tEFaRHYa2qlJumlhhZwAAAANhBnw1FFSwj/wysRLTup+A7oS9ZP+mBkm/XGi+DyzvWhmTfSQASxrqqh9W28VnnhMNUNnbQEoI/gKjqOfFUhfgluh5iFnHv+w2EUv1Nz8+Xfg3BVKRKNm6eFXfP2L7wtmxFwFpjkDdjmmSpXi7V/NkOlgGC7iZuuVKPGNO/s6na6PQtbvnFbNwMLFNIqBpGlmx0pX84JZrQXRL2PH1TdeDszk9uml94jBhBYYhdILKncsvmP8UBR+gzK44uzZkYjc3XGCYMC9ec+zDaObHixZoJ5ahgWUiAAb8AAAC4AZ8sdEf/EX1UMja02aCDnAXUJfBRHPPUHd/+0WfgdElNeoAUTXGTWEko7nA1xtxGfoaBg65t/g+e8/0dMP4InM/W6+nMymhPzKfHnVMVw9b/WXIdbv4LOLPCP9QMiIdREtHmm4Um4oLRn5IqdpJ2FiQT07VskAxAxi7YocWesAKL4YdGuYqMt3yzDnwAjgb30sni93mjDO17e0UWfCs+MQN2M8vUljgpW+wFiibz8oGg7vmRqhCtgQAAANgBny5qR/8Rm1spjaIU6/xvGBtfe8cENMaT/KUoyuDmABwEnZ0IPMfFDHibVg/TmHby4cL7r2Rg/MtYBgZ8PQgEUmTbpDuGwkJlg6EW8CHWgjQSK4KMXyae4vS+gKASp3VaMcHsDqb3SGu6NKjxI7NMR+gRjg/ZAMk1NLarolbpLtQPFDUgsE5u88loIsFwRUBBEk4l1B2w+Aw7lbFOmhxZ5xqiwJSz/JSSwD1jpg7gZc1bGPMrSNxdjoSl26dfZuiuYXyimXL5KSIifWpvgLCsKwCnTtGAi4EAAAEwQZszSahBbJlMCEf//eEAALHyfD1G+YAL5kDbgBbgyL8dH8igJXbPvInCCjMBEskOHR1AofpsZ1N/kSeQUPHg3fBx/q7Yp2t3x+CVXHP0OWTtQDRSmK6m0fgWJ4K3uDsIp9FHA7ulCsODGO9VQvhC+OuJQhcR1ZrbxYwDPmgaM3oGsBjm/rP+Z+W6/mzMj4b/KBcdp4WC3w3Qk8rgz3Vcds+Ou+niDulC3fjPw5+vyf5ib1z10rqPybrSfOdlmfLjHjnP4AfUQf3zp2zehhNmph/vrhfVrHeLcVOB2AT4zaK3jUhvZajl0nS+trmdaMoUjqK+V2szyhegrLSZeHSb8LoDJ2TfIVb2W/HxvRcewLoZONuESWJGjJ8Yy0fhB33kgpAfkvp9qMVmOfpvbJw+YAAAAKlBn1FFFSwj/wysRLTup+A7oS9ZP+mBjWHwng8ALBIkqyYLe3IIhQRn8DASiMu4KpBm5NakKcWfKTN//Rt6ykm9RHzh4/pA0m1+IyJqBiQBm0MrgROTZ8tk0mk89vZly2Jj0Zz6HMmFPxUF/BYs4nL1hVD3SX6mgJhO5dDT4Ar1bsy+LfvwrrOVfN8m086OlEXsLzUUciUChnoz7QIfbLWz1ckJ2tpeQB6wAAAArQGfcHRH/xF9VDI2tNmgg5wF1CXwTIWezLcEALxcNhDhlM8gW0/G1Nyszi8D3lmaQjm0mrTTbWdBXcZ1wRp0gVPrBZcbmTSi7MySTb30r+z5hb/MjeA8yqK50UzfcD4m/PGgz5KXzY4kMjNRlF9D0j4SC6lxZ7g4/E4lbGk6MpzORpW5SYMNtnnn+hL/EB5DV+pWEHvIdKA75RAWTiEVYqKs6oCwwoc8kk+SnAGVAAAAyAGfcmpH/xGbWymNohTr/G8YG197xlkW/ymyH/3IAOeyX6vcPUxWNxVrr67ngAm36grol5piKY/qhVFReeB71aoE02JVDGhz866InlvPSXQvcAEGkeoEqYFwQAneFwk4TX3tMwuQb7+x2UQ6B+p9f5FrwM7Eb5hJb7QY/FahnE1exsmE98judqaKgAIrCWXEYFNPB8vqfSx3b9RmGYDkVrTdn4VkM58ANt9hxAgCDtDjLhyHF8UNVrRARwqq/c3B7fOGpCyrMAj4AAAA40Gbd0moQWyZTAhn//6eEAAFj33833NdMAH4laJGfG+bkduV3jV/Y8Gx9js0WQdblUZ2nMtk275tBaOO5nvGlp4xPOd4T++BCSYLO8YvK5sYMJgtAHpN5IBonGoMbUZapsqCQxP2XDw7rQ+ikR6c+sZcG+NlYezogY+pr0t28B9c6e+nmavzZ2N3IG6OmuaIHuvj5CrjodnRarZ3NaYjJrSNmvRW1f3eogCkfEDVxCHG6AzB2p40VDgVPi0EY1Mj1McJV24pD4fbk+EC1i4A9ia3s9jD6pegz4k2gv7QRupNrws4AAAAv0GflUUVLCP/DKxEtO6n4DuhL1k/6YGNVE8yWEAmBpZCI4/2Wh/tciRLfSEZhCT9vHPGV0RIJMHHZ7Rs/8FCSQqfcbhpS5zsgei0JKGVGFzKHNwqmRQAN3trdz+nmsTT/dF9PJCPlsKJ3mhcm+sclZuPjK9o77DIqPvmK4TUjS9kIr1CGAioDeDqhQRntsEtWO+ZncaXgPo/5nrEvmRK3TL1Er2mWBEgB/Queke+6U1BnMkGyPQLEspEQwcOIAF7AAAArgGftHRH/xF9VDI2tNmgg5wF1CXwUBrqWoyj5oAg7tw2LDR3owyDrYm/TgmvDnN4vhprUNoAKMKzZvG6XorC5dWgEiisUni//Hi2uEMsRu0ZracwH2oIrVH+/BWs/ppaJA416QEkEYDUc+43axljeDEsU+f0GgmAmeocg0G3ZJgon7i3nYOZuXTnh6vrGPkIGS5/QhnXUN2Zv4aMVw2ARXSbagAEeFyFtXTLj5wFDAAAALcBn7ZqR/8Rm1spjaIU6/xvGBtfe8bikY1t3/HYAAprjwWHwnC4GdLEy3ulCo0+kH4mVVSJ5IvgMwY7rIx+FESk3AwAugJrEj/DnfYDav3X9MaWE60dXV7NsyUSOi1m3aLwfcRy0QChFoPEOIOgUMfwpWhaNx26jUdx9p8cKvVzNy7o24nRNE6nthR/8X/JxGZ5ZBy/P7MmNhxKHvclaNbDKQyupKbIjczeJENsoqYRjlApBNtOCrkAAAD2QZu7SahBbJlMCGf//p4QAAWP3f1YG0KBlQCAY+ef96+0cgWSMvBu/+Sj3y6ua3I5GoPMLc3AR6R6NTVBgIpvNOVFh1eceRdUV5vY7Ptz9Z98uI4vXyrVIf0A7HL5mVMiTTAXf8NrmqcP8RFxmQk/ctq2mhw5hPTk64skSokiJhJbj5oxKEb7FjOlMdfwTQzw9fhoeN+vL+NlTi30X9wBzVLxZUAaTyBM5FtP7Ryl0jOjJ6srNVFvaKEzN7Vlpi/ipu6xAWTZBxD5R9dPHY0SoX3oAJrpyfT1pjMLWMJpKLi8SF+hJgeI9rnoPsvL1fd3qWIXtMoZAAAAukGf2UUVLCP/DKxEtO6n4DuhL1k/6YGNVFfPD1bs20dV+kf/ns8AH87wrtCQmg3pZmotLRL+GEm3sYt99ewQpuVCE7bs9JbRBDmyMkGRscOMhxU3JwYeLrP5Z2W6r/dB+HlrALghNm8Ast4xNukNhAMf4WQdeluWC/AlXNqZRyEhfY7UQo+QQAm/5krzVxCOtRvDwPqDs4dAvmc5qjgGI40qbClRkLdnmN8nKfF1Os4O6CRn6dqfE74BewAAAKIBn/h0R/8RfVQyNrTZoIOcBdQl8ExWSsW/U2+Zl2C0sx5u5p4h3dHJpUADjWzwE+bMH+zznTicyPqlkI2H7LEoHA3ESqONphH1oLrDFlzGWG9a+oweNOUiJr3j5246724YtFILeA1ND/gURkZ5NDHQ7MRatbYi2px5whs+cFml4UBw3kTEg6UTv2996tEmuns3bEu7XpbIqDYX6gfe+c9Jw+cAAADFAZ/6akf/EZtbKY2iFOv8bxgbX3vGVGkOeIDbvfZSLV8ABGAoqZDEMlz69na6a1SipsQ4PVIdgEr4n/wFb5yu6BTikZ7SC3oubWGXCPD1Q9rA+nWtvpSjveAvKxtxFnM7ufOeTLPdNE/Qq8KiMPN8f66tqdnAosTR62HAM1q7gnC3gHFs8L2bQ3ccIuUv3/WeGESsJL/8fuMIA+iEyyp6VybcZjc4VON5zGQHKK/LdB6xd44M6O+bVcspoftJsmPjIwZYMWAAAAEuQZv/SahBbJlMCGf//p4QAAT/mXSGMiRi/URrdczSADagHPB0w9hl/49gcNLDBpnsNETUB/298gczmra3DfCUfgMyZ2j71cZFJJNah95KlkTf6ucgN442Nu1MUZiYXj4vZXBq4ArMxLqmTJnjjWuoGcC0F4t/rnb8+6Brygc7aSrDxp8PZqlo+oA0iGaBHDQMVybLqZJ65m8nZDKZO5BrcVfCvjV0RoJUYD6RNO5oilCJNpl/bkPFuD2d6Ha0oEbTfr5+IhM8HSdfNlICudd3SVmAhR7fy+x6A15t1+ZiIJ28Rif7oZaVJ2f6LJwTGwff/yZ+b2ri+bBOqD7e7IUiFFOKdRack+czxnGRk3qOEcBWYfMr7ZQSWgMQeit65OpadpUaPPJRYCHCnZ7OHzEAAAC9QZ4dRRUsI/8MrES07qfgO6EvWT/pgY1T9mEepP2xIgE17kk5o+m3ebYOCHk/HBLy1nujMvysktnpfRSPgVMADP9TDPMgD2cLjS9g/dwk4t6NXZqAioZe3PWU2foxCKiuIjlB9B30bHCBy3dJt3lULPaqaN1L1urc19dLfE122Bq+zYfTNDI68oe7RSvL1QZXHPGkkgqee0K4bC7w1KvjvVFE/7XRRYOw/eEqCK+buvjD5AF8hg5/R1l53gN7AAAAuQGePHRH/xF9VDI2tNmgg5wF1CXwTFVRvmihFp/QByhRUyF4i+wJWL3CecjxpeO04OlHiVPh/JDMFJVZdjUA2NplbzjhtbZMH5RcJKUdZuH7qxfhX/CFrckOJBQGQs58zYh2uUkiRwDf7CfBOypi1a3/KaKm/EZw6V5VtChssXGJE6rkTIugK5jQhUT+nTN3fWGr6EO1LpWc0k1fNguKAsCjlhqymGtMMgcr9OLUDr3yFaIPpm6qIAKSAAAAuwGePmpH/xGbWymNohTr/G8YG197xlRpB2b8BQCgiKeG+SWyyjb24r8/jKjCCohwxTY2BdEX+9MEnF9fy0YqD9xwUaBjnadqjheTJUUlLl/WsrE8t4RgZBBEuz2knyb5XaHnIGXuQzQT/bIguaDi8M+betE7MEHKcjEh0qauHEx3NHo3y7boh+DEbTaOjlE5bZREHgGIUB8ad7UB51yssADUtMZltW+orgb0phXW/AjuB7e5gVmnO7l4Ab0AAADMQZojSahBbJlMCF///oywAAID8Tk5xPv4IIkcVFivWDTg/AAlgbl0hp2hbzssE2/23rIW7Yd3U+M+Q6Q2Gni3T1JOk+yZcCsBPjlRt9Km4HNX/SkFoUwAINavkR81QgfVSn4vfLvoK21LXLYJMUYINQo0kfupbgHo3sRH7Tsbx+/KOUUFxjGFwg88xIz2EqCQLwDqk+n4U5pAAIEcprRAVo2HxMlGTjAYUb/X/eMFMIvNnKWMTolNGDoXYCj8nUPL+gEz0jAaKsTSlFDBAAAAvEGeQUUVLCP/DKxEtO6n4DuhL1k/6YGNU/Ze6csoZIAlnljrq05FHJZ5EzLJ8Du4pxh0Been7AhIupR6poMnUhMElcBQ1u9o87M78qrO0gkvVR+GaM4rc+QPt52M5ZrSrldg+nTMzDqHdri7vNEa63Yfx0Q2s6PfhHoNLEM2HKhFzjS3jjWXVUQ1wF14Mtpl+EONSlW6gRT+gsbkEpJZ0O55x2FsvIPGYlUjmPi1JBDUOrbtLsCjrLhCAPmAAAAAqwGeYHRH/xF9VDI2tNmgg5wF1CXwTFVQzaIv74ACv9/Zc4hWLEOnrFGJ7uL8VNcCJf5SNYN/W81D1tvrpfnOOZgmnHJzQAHoZvNgbOsIBxDfN92zjJ+SizunwSHliegU36sr9F3bXgcDytOQA0db92kYR18NYC3HfZaRDu7xVMqrQXrnx7yphEDE//uDvQNZkvef8bjqsy3T9TR9sPpkOZxQvuxuuadmuwBswQAAADsBnmJqR/8Rm1spjaIU6/xvGBtfe8ZUaQuphW61wz86S+3hO0TD80KGsMdRA9EZ9DfJcxYt/sp2vxQFJAAAANVBmmdJqEFsmUwIX//+jLAABOfic8FUgkD0Q0aywZYeI+WsAmKAGYpxnSCT3ww3lj6Pv8aypJg04rERdfGUBLi6HfwYvOwbwe9pmWJk0qGVTx3bs7hnP+d/SonQPoEOltGuEAG+//cITkbuTgOy0usBZxE+mJnyoYF6pY26zCCBhPAKpETWAggchuqe4FZOAQA7QmJ+jUsOvd47j3XsPIB9tV/KA/CJNpOAXY0BBC6dylNbsZZitPnR+K4MTE+UaVWapfPzFvYm/01th6vcq672ozTMrTcAAAB+QZ6FRRUsI/8MrES07qfgO6EvWT/pgY1T9l8YOYGJnB9Ggj2lTklFmXhh41nBZTNxDdZZeGzdwlDkceH4nIF2y0QrfQByKAFol1/yjFqILrNIVGBH4XVx/iEouQMaac0Z1Y+cBlEQCFGr1bVL+0Yyx16/8RGn0mGrH0jqUDPhAAAAnAGepHRH/xF9VDI2tNmgg5wF1CXwTFVRpRYEiGe7ff+mXB9YWuvhRTqZGLmKBpqAEmxxuvDliFXFVzrtGQC2/4m7C9+KeTCldVq8acIOQf+V6LnW9+GDWvFn48VQ5TmRfAxjdJg+p8aIDu6bwqwbCX9Q4s3yuoRnZxU+i3vv3B8iXhDqYsun5WoF+vysn6l1MOjtuGcYtWOJzgBvQQAAAIcBnqZqR/8Rm1spjaIU6/xvGBtfe8ZUaPsaeL8HarJ1vcLNwLA94qPGEgtAocXk7qwAJbZSrVyzpPYrgPe62876Hhj2gcRAIKK20phcfGqqp1a0sdCgIrrnbq2/JES6EtZ0uFQuorwGn+AWuNn05DZCdAMl8Wg9cxLTBw5ICQLNi7mYn20gBgUAAADJQZqrSahBbJlMCF///oywAAHf9TKHAc7qhDZ/KkPNQoDg+0HxhlnzfXr/22yVZVx10c6gLrcZylwjQSUTisxzJ/hR1QBL6qJto0ialkaY+J4BezljIiQzuiY3x7qnRlfw/hq3/imXFUEyRyRvGjy6zKJ3bN+jz8xCPDx7PjW6JqYrq3wz4O4RXOSrloqvrpcbyxatpiXriP1oWj/skqZvqoPqR9U/WPnG8ieTDZYmPfyO/G4rHGVWKSWCxSDzDgCuwKTW0IQhPGFnAAAAqkGeyUUVLCP/DKxEtO6n4DuhL1k/6YGNU/ZHwh5nNQACIbrdCPDv1GcLMR7KICgVwa6jseUGWC+aLo1bOcHl2pgLjAwBLR8nybQXfs8H1HN790bwIFmnsEFWooYijAeUr+LmfJcaPyxSvgsGbmt4CzI9KOZVgnU8U45dbQKplIEoSBth2lVt4aerXiKeX2uDcVl/rO1xm8CX5+S6rt3PtsRZbF9EIApv+AmYAAAAmAGe6HRH/xF9VDI2tNmgg5wF1CXwTFVQoZgQhPNcP6qFRh+hACJBST/88ywsjeV7hf2W0AE6EMwcW9jm0MF7W3VLHw9iLqt/nuZWB4ZTEzfxAfbdj2HiZuWCXmL1EA7otV+rxsWEMUTefFLv0qbeXSmzoYK08F1eJqoKzsjm5sIJKhCJ2jOMFKXn4BgZ9PdQLKzMeIa0MAI/AAAAugGe6mpH/xGbWymNohTr/G8YG197xlRo+xl2igtW+AAjABT9hRJfxvjhLANNbUCmCvEtVpZGSbTdbBINjSsc3F5HCo0f3gb+dcErKujwDuw9poFw8LDLLpHPgHIu4a6rviRDbYawy4K+NjuQgaMW50baDdKPngQYaHa3gTeuHkr2sFRp8fqp0jDU3YG7oK4/FLfsPaxfRnG4vmaWh/d0Tc0HkRcJ3hF63Udu++hHtJys3iq6annSagBHwAAAAPZBmu9JqEFsmUwIV//+OEAAB0d/xNmMlzA2Yuvr+oAEPzz4Vnpex+qpk8SfUcddfdFqpLywOnOvKcJ0xs9Wn0hZCXS7iSxjxjmYhxR5SZ61AdVNKkZLyYIrP7Zi1HjnuiAnO+rtBgR+D9IisNV+sPqSX7gZqfPZLZHfKATnYikspyFiDK90UpJSZNEZIl9BZMHSTRROQXq2MX6Dv08CMDRmKP7Z5V2QYzascL98d+FRCuoYTGh5KjZy192Ud2vcAnI9dMb8Z7lGJ8sbjIOS0H0myZQB4RajYsYcZ8EpO2aJRqXq5pzg7GmPXzX4fQVQA0As8tScFBwAAADIQZ8NRRUsI/8MrES07qfgO6EvWT/pgY1T9kdAA+SyAK31FVaqYUhYATkf4OM5JBTCwBcWAC80AzRFSGsoxIQx0O5YVCbFI7z9w1bjbZ9PLYHFU12U5EXGCkXK6Qr5Zx2UjUotz79SQJlaXaPt3FYZVE3xH6pVEOemN8a4XXuMILL3WoOTzKTn/Xg3TeKxVd92pSl4JnB6FFAsky8+kmT73/PNLH4h/3PDX4vSGyGpBW7oRSoHCkqc1vdon8UVD59ftP5+tod7AUUAAACmAZ8sdEf/EX1UMja02aCDnAXUJfBMVVCab+CyAOYXoPL4al7+mKBM0zJIBxeOc17BQf5GCX+Ovoo2zcJ6H+4WRf+V/2vi/2rrKApSgCiF7CfXFztPM7XdJsYX06tyEm2qJ+K+SE1Linkv9yJ7FXtWJgsfu+9x7lxClud71o5LdTZVIn170pBsHLlK9l7sqT6DQg4LVY1veLnEfKZCpWPihuzP3pjUgQAAANABny5qR/8Rm1spjaIU6/xvGBtfe8ZUaPqGSRJsJpHtP9J4ALZ2oMKYU40r4MzQi+vvLabFNiAKlBe8zHmme3NzIJj0U67F43vYg0vyA648bZMvGLijkDNIoFAUa2oKOJSPuMLTTgdQLSGpDtnyrbbBBGKmlLG3Za5bbY2WHEuzFAci7j+bi6GMfc62DiR+cG2FgmJaKvZ6AI9z0YlqHtMJTmuCgB2JXf3imD6VhDnCqTD8Xc+YcODBC3/XftXIItFbR475OXnCvl5+qbarGAH/AAAA4UGbM0moQWyZTAhP//3xAAAHk+JVABx7LyTNL3NWtxcTI+ORk+vmOFQhq/Jg30qbMcNItrj4RXvb+cPnn71RnE+KIdyiEek+o9tVBUvf+zsSpFR950f9DcBL7+J7QKFigyFH3UtTu8ZMH0Iv0vGywtRiK5Wle+R/dUl2cYhXZl85evVNGcTkEepLoTzGPMV3z1HFtIdEqaawM/LFODEaS+4fKY4Aq1MT3zfvH8fQUwhHasQRyn5cQQJ7YP2lnXzxkWBMUcy/FS3Rc4Uf7zZk57vg1xExlDEqWl9PgTPCF3fnwAAAANFBn1FFFSwj/wysRLTup+A7oS9ZP+mBjVP2Rajw3QQAAJ6ySiK35ZV51vtkXaXt/Qta5JvNSf6Lv/vHZ9fmOZdQnoNOChU+WVrQNdh/CNvbGUBtOdTp78AAt5ZDXmHX5VVNEca0gcMbHI3l/zKfi1KE+NOCCkRKp/PBVnFWF4MdKE5PgYMN64HXiYU1g/7WY8+S4OvBxR6vOfXkxfHe6/IIOTgg0wW95wtJrS0OUyxArVGVPvwaaFwhUHvC4e2xCSJWSyLa8hZZSKihucNLhoCbgAAAAKIBn3B0R/8RfVQyNrTZoIOcBdQl8ExVUITbs4AAAcd3KMVVTQ6xiFk4/RpnstdtCTjz13O1QkUBsXYzwvZ2tcCklQUmfbLjvBL28orq+VAJ3lMhu96WKfXccm8+RQfsNI9XqXyWeqjy0BzBxtxpU26PWjwWHwnDglCWxSjag4zbWjoU0W7g6c0pNFQz32g7HPt0AFbs0vCke8hhhN6DJvmAy4EAAACkAZ9yakf/EZtbKY2iFOv8bxgbX3vGVGj5XWAhNvACwQbCq7CzvaSTh4xQAqdU5gnprhBgRhuZh4+AIJwX4/qKel+05J1XP6EYJTLbpov6J0Gy+pLw1MuwvWYZayISAvysqFwVzsqF/Bn7KOPokTHMSA0cs3KdFrskpFKtGIrRThAjmYNtbeAIITs48Uyzx/OnE3YncIwijykUdKLYUIKslWFADFgAAACwQZt3SahBbJlMCE///fEAAAef03qD/yEekbdv9mosV4QwpjoBNoPRIl8BPgNvXl0CaIm1oIAPHLElLMzvF8NLwxIPuyM8epekruH838KjmYLXj7NFSJIoylild9B0+GFKFCpt00uF/3eAOd6d2UAsWRduIAKeAM+aEgNm2Vl0C2H/gIgr1riDo3aihiqX3OR19VbM0bVAKZhxNVKXKQv+DtmZDV5PJoW2H3vQfDhWgeMAAADEQZ+VRRUsI/8MrES07qfgO6EvWT/pgY1T9kWnoaxX62Nxh6Q3qrC/BZF4got97SiV1VPIkhtb3+MRiYR1eKyg7LYGuzHjwCv5k4fLHT6K8awKmVsef8w2MQeFpzipf4VRB8N8jNdtNGDKJdpDUgc5020Vz+fIfSfhW3yRXwDiRdXE8qO1UJEujfz/zkYFJTHM9Aou0GCPttyV1yWtFrE27wS2OdA53oV+kNKjizCPgRZS9z5pKwpB7nqxHdCgWEPid9CCDwAAADsBn7R0R/8RfVQyNrTZoIOcBdQl8ExVUIXXfJ6iuBE2cPeAw+YW5wikgUb2oVQm8rwKEzAQhlrE4+wBBwAAAIMBn7ZqR/8Rm1spjaIU6/xvGBtfe8ZUaPldRiudTTrK6lHEgus5lZw+xTtjCnEnFGHvrhFauPtUAGhnVQ7+Ml3LkkCGTvfVKzXzUetqAXQvOhTF0oKaYtHeUoPyfx+lftm2oyo9s+6WDYHK3JEhF8z7p19MzCFz9SzJlgLhQz2ySqERcQAAAMRBm7tJqEFsmUwIT//98QAABsd/23jmykscLMAL88L93ZKmCcwU4u4kFe5wPUIgi1OYUNgqprJNsZd0lphNpm9wYjGGhj7FrBAJ2eicQ+dE9LwdPO6pXO1pZNmzm5NFdDnDtWP5dLoSjotYifqVfTr7dzVM+IJ0bu+ydSQTqCeLVL4Q1ra8imWMl9TVCCzx2M8VpiVUuQwV2u8gjodbwcu451rGYzTLQU2VaQl+jm+YAdFE+1a9S0DFGFq1T8yKQlJM2AelAAAAi0Gf2UUVLCP/DKxEtO6n4DuhL1k/6YGNU/ZFp4vt/Xk6ACoaL7oTGG7DlWjWZM/ZTk7G3AAuvkkBxLb4xrueULq/gCTfZeoSoN32peqlf8oVJALSZA4H/k+/3A/YeRlfvTHNqM3CDL3p9sQZgS37aE5bP44y3NYSUNtZvndnRV/np26ilY8iGLFAAmYAAACKAZ/4dEf/EX1UMja02aCDnAXUJfBMVVCF1RSHvoUkF2B9RAD755mgUOQbz+z+ogA/dIhyyxlw1M8CWJjI9ibHwlwsEsZlKry2Kdq/m/1SsjumTN84iTg0lboMS0reGrqLeregiKI8BYsHEGxvCrWiucf+cOFrnuk0ZQ08TieP7A4QVfvpNgWzLgj5AAAAlAGf+mpH/xGbWymNohTr/G8YG197xlRo+V0LaBmADT4wuQPTArBowDtNACXzyGM3ETPJ305ugTh3Gg2L5uUA40sqg1fMnC3Jg95gEvIBXWjFhhPmRM8ly7BQJe1sFDjVjr29ysMVG3I2PTB7ZlRn50b9DAL1O1LUZpVncnSo5rpyOGtMiz2lxCymtmsQO4RYPxdQA1oAAADPQZv/SahBbJlMCE///fEAAAMCn7qnwoPgE05d6f2rWWFeTIpgGul2ZrZ7sCxlsLDePxe+oKClsWY/g9gYtYWo6WkG4hvK2SLt0rxUNlI3CLKABh3N225b/pO6WWbrvf96ufYyHG53WDwn26c7+5ypHgS0mFa0rklcaJ3fOH3wlCMzQruXHfyt5CxODzjkHwZ8Q4Gv347pJB2a2prJbU0sEQbQArIVQr0H43EUsnzcWtTk3RWuGV30T8WcWj/1YibfyzSmKCpPd5Nqwi5MCKDhAAAAiEGeHUUVLCP/DKxEtO6n4DuhL1k/6YGNU/ZFp3SynPEAvnGod9lIAV2DrdppU/nUsq2Y8Q1R8XywtGj7hIHoDbj+5Y2RivauedPRt+P57gRrBwlcMZqDaE0nlyY3ZR2MQz9mNJmMZ3qtPH7IFnAIqvugYTNKNo6u9qTfpwFFOvHzouYupfHsBhUAAACRAZ48dEf/EX1UMja02aCDnAXUJfBMVVCF0O4kFMGs+UEw8Voaksii9rfABdQCEAZFg1kb2eoK+NMdxghOlF1NjyqzegcNkSPQHqEbRyYRz4zRG2F+Q9G5pQIQl23CJZ94e1o7HVUpu4ASHe8U2y9JkFZfOuWj8zykW9hkQRSEY9KUDD24BDp2sjhx93i9EXAUEAAAAJIBnj5qR/8Rm1spjaIU6/xvGBtfe8ZUaPldC2gofSjJVkqswdfyZWhVB+4jHr92C73rlqUdABNML50b9CCwHtpd0oPD/0dTa7qAu/U1khiR0gQmYMwGY6HIlsadl7K1nGzn6pJQlUfq6vhwCR1cPu4t2RupjydRFDF+5G12WMV1WHcjnyPwvw01c4BWNy6rMygFTAAAARpBmiNJqEFsmUwIT//98QAAAwKj/dIAe/G5c2lHaWvUVbkki+H3klOtROEufc5QqSo94CiroxWQBXtcy8598YX1LpHW9uv6xnns1uIQgDm8cod2qfN4PxT/LsGj9gl30bcUaN5sRQ+4msHHLuk6/b7LhW03tJ3JZPfPrzKiJBiAmByyGQcbzvM31HEjflwD7dvoldTn++LmnJQdNIsxTF3LZEaqtxtdR4+SJ4tKwBHYOQRn7Bx7tWdu+2TquCcUdmwlsEKruIQIi7Wgd3FWm7VCVxXbRYTJZlKq1RTDICruPctMV1pLqeI+1R2mhO2Hy8Mn/DnyUVcIIxaCPWjyxc2gBR7JC3WoQE2pkAf78+mNsGgXqFn08AzXYicAAAC+QZ5BRRUsI/8MrES07qfgO6EvWT/pgY1T9kWndLYV2ejrlqMp4c2SfrQfI7fgeDCvWpu1OlBQZpFFBqAEtk2oYijoIcLHNLXahhIinRvkETCXHHFD5Dz+/hdm0JJ5ObtyTyauIPlFff8prqnS05wo2QfPCMbdhjbiIPhGYphTw1P8dYvwYTtq23gaVgOZbt90zpkqcqaTLjW9yaF0Pu+FKIr1plOXMRBK0aioe81v3hikxKi5lFerzbhuRNAYUAAAAIwBnmB0R/8RfVQyNrTZoIOcBdQl8ExVUIXQ6ykUjW8x8/c8Xd2wZjwn27dWAjTCtCzIXwACYf9nLyEfs6Va7iQ36cw155GVDcBAG2ks2MIdf6hlGIy8o6GQ7bL0CFg9NeljiEW4DwyiT2X9DJunykdbkibSpniP0sKTrbBAPGCrioQLW6NUno1TSgC7gQAAAKkBnmJqR/8Rm1spjaIU6/xvGBtfe8ZUaPldC1f7gwqfFz2RAvTo+qAGgHjdebEx/XB5nnItXZZHLwSaVcQnhbT5saTW3agQH3EWHqozWyQerC0U36wjS2di522GzRo7GvaYYuw/llQF+UnYfJ9BV9IB4IAot3hZglfNNs4BC7YLaO3iPHezWESG41H5KZaIQTHI7eZw/gJ4szZC7UNJGcf5poiGuBkVphbQAAAA80GaZ0moQWyZTAhP//3xAAADAPfddEI+QBV6TjgBmpXK3w1M9v+3wo0e6e7Exv2g8xtwraZB4dqYqUtK2E67j+iNiiTPNb03x/7izF1J8P5q1tCg9WB1OIiKuoxf0UgUsTziuOCkGiaVMN54lceW/FXf2XuYtfuW6ZezMp4EKwDsBgI4tohRa6rhhcvOV2Yhar2RkrPqNTkHIuPdN8N1EySd7JiGY3IWtyJMPUailwThyhqzX0YYf1bftu/K45I6MVfNF3pEBv0R2OXrD+sEIB4TYL3JkSv7a+nwexfnNN6WLivALxdts1CP0q1bWILqZjRtSQAAAMBBnoVFFSwj/wysRLTup+A7oS9ZP+mBjVP2Rad0TIImM5/1UGpnwqbYasAmFhdyifd0rwS0tA/w8tFVebkBQjhWZezlGQWQ+XcLC1t/1qxiAULf8DqCpTWgIUz9v23vPhMM8igdnc+Er6Jd0Gijg7Wa+B6Ea0sIJq1IdvOyE4IumZbExsWTgSnT7J9rC78OH5DjQ9dU4+xpSBOwtphw/8rXUuopn1Io+V8wx9J40PhmEImljN4ZT08bSgWddFyAk4EAAADIAZ6kdEf/EX1UMja02aCDnAXUJfBMVVCF0NGLgtrX9UZ28Ju/+1wAEEGD5oe9vUO881dLOKwnSTSS+vQjG3z7dlrEfFBaBFfDVaj0eZ0KRXILrKXA1jcqjPP34AW1ndvZADI82Z8ZediirQlWaKwiGi+3cyg7VwzHnV0TK4CBymmvIh/2Ty4VNHnfjdxV4mwp55eRyPt9/RPo3D8SlbKNob5qaKfKR1EYQ3kA4sdJeFPcC2mMBz6vf/N+kPrdBrJIJivmZKBMHTEAAACoAZ6makf/EZtbKY2iFOv8bxgbX3vGVGj5XQn50qj1jT2zW7NK9AAz5+cQIAg7UB3sdNRYm1AYHZ+e1k4MowS4ZVsZMNqbNCZWKFGxQ+YVeuk1ItI7WiG8d0uSE/jyZFHnICcMiYg2Lfpu7d7IoFZmAZzH/J4mySPEkKCbgNxOGLqPz8EZykiuJKXf9GVYCuXYZ1PJ+mYq02ErTdzI/k4zYbFDDY1tAGLBAAABD0Gaq0moQWyZTAhP//3xAAADAPggrC25OpyTRioO/AFKobDwLJ+5+xV8AhQHkQKYR5Q+AKqc5C4lYqHjwnhjOHRGY9NhAJAgR43B82VT43MMH17Oib7MxDSUcpNZJcAiSS93viVqIzj0KDJfse63GtFriySB7QbQpOxmo8tEE1f+h0WzySHPr1ag7ZaOlOXheu3Dzn5ogFH3TZVxD0qMBiflvbyTRTxqi8WgEX/ER+/2bDRpk3Z0IMYxJGE8rXThn07m1P7D1/nAOgWhR5F3zg0+N39VI5D0Vw5Vt1lZnEj6AD3ZcSu7ufB84F8t4GRPAtTxBC6FtOWNmeWlLUUWNRW0UKL1/xemATb2EWpsPmAAAAC4QZ7JRRUsI/8MrES07qfgO6EvWT/pgY1T9kWndEyCJ67OI5hLKh3FiyLtsLSoki45zhTmgUiAKABayzn4zYoh3r9w64lvVdQdkryuU0dvb+Nq1pXhXL/QZIXiB/Pe86faLUPcQGgSko5tMCkppYaMxnvdd6isyU8iI/l54D3uu4CCGilZppJfiaKaHZhM5LJv7XWNk5zM+MtpTqv7xu2e90RQm67j02bQ1E4SMSpKAwN6Gmym4yoDwgAAAIIBnuh0R/8RfVQyNrTZoIOcBdQl8ExVUIXQWkuoAet+78M2tLrrZrZA2Al8K1G0AWE0b3jX5aHifRTTU99xoQ6bw+AGmlx5L4e0n4oCFEn8w3lw92Y7TBaYe/ZSB6kLSHO0qtX6wdHaQtTNnYvnycgTWLPOPTPuQGS7GLA8piLJcAwZAAAAkgGe6mpH/xGbWymNohTr/G8YG197xlRo+V0EST4jQVef7LOQx8DHEvgqC+mxCKfw5U4cPdcLxYmdAIR2oMKYVVfAHhioK6VVzPcoZ7hU/seZCAwfKoi7FbX4U1NniF5U3yv6WyE618kLNLMSwOM0oZVbGvZU5SUt/4uCpsxPn4J6agtQHuzGQMehLetbYHZ/ALuAAAAAz0Ga70moQWyZTAhP//3xAAADAPh37jGrxUeHtfI9eaZwKR7thqQzZeZa26cL0UDJ/tgDUG+Rvg6pZpFxi+cS7/NUvTC0nY7NoKqdtn7YxhCQ0ImUwmE3fjgWvzXgKmRhI8VKDlDCL4rEB2PBPJ0pZxgu00RUlevNSqxh9aTuZmTb67JLbUVccsml9yKddyGDFz7tdOKq/qFIc1toaKagjChLmDNUqJ5Yi4MCN4LKPIVEBSgWt7dvQZxDknkxN2qfvzolo4YeEO3sCA6rgthy4gAAALlBnw1FFSwj/wysRLTup+A7oS9ZP+mBjVP2Rad0TIIliAA06ANg3rGrNjkwy6qUWl4i9Q1Hbcch5nFI0L8zvG0rE7F1BQaFqx+y5wc946a/8/LKyDRCPtC6Nt3u+Ydlt+xnajt+HJWnDmhDoW3vDTgAVLJnEVNgdQ6Ze9biM4pxL/W5MDi9oDpj5+Hqdr/w98ybymERbko6xDDiQbK8+5nNF5OgU8Szd6Sx+fDz7rdhfPziOQFr2nwHpQAAAIQBnyx0R/8RfVQyNrTZoIOcBdQl8ExVUIXQWle4OXvv2Y+U22gCkltfEVSv+rmk5y6MKdgu5uqZWWrQPAKJzvEtR9z3AgTV97Fs4GBe6P+d32QuZOC2Z70EyqeBzJh6hf/+PlTKPumHxZ17bcacUSQY/MTkGBpg+HKdOgfoz5gl7uCfCZkAAABFAZ8uakf/EZtbKY2iFOv8bxgbX3vGVGj5XQQ1jM9XoWIkHfD9FE9PmL32Zv4RcZACEt8ClEK5oZ0eVJi4KxYvabFfKR4RAAAA30GbM0moQWyZTAhP//3xAAADAPl+FwAmdqtD9WC6Jz6JaR7G94VVVPyvdSdNyNNeZPIq0D2XeYRcvaZSCZNgMSMTPQ/ahZVr7Vl8u+m96phxV6PnZeOAtvX2cvmYSuHtnDz8gw1M5kFz+8EAxyLM7fa57oXHDWoH119Y9eaqcqtaFcV3kQ2LlFlVharTtasn9JuGkSCbU3STGCR2Wehx0LxIxfj4fmJFdXTnzPz87P3bzHMZEfBAds2u3SSVlhGT1F/aWciRSPgENyDuRbp3QCCfzsi1gb0MoEyNMeC8C/MAAAC0QZ9RRRUsI/8MrES07qfgO6EvWT/pgY1T9kWndEyCJbXgrNj7fqquhcoUjQhtDHg0zFQAtcQqQWYHMZYMIPXckLmIIijJ48zzkWrssjl5CgxPFZeuBzrZMhg7aRkqIQ7Ostk22Ko/EB/IGm5WQpDlFYHb+SxqTCl1C8uObhlXVF6YHO7HJcDMibI4kW2Uyb2kGjDOKmCZ0qS1O1t4yHr14sEJSvk5Y5xjKj9YdCF5XhzdUAImAAAAcgGfcHRH/xF9VDI2tNmgg5wF1CXwTFVQhdBZh3nBJBR0md5HF8BdVhz3owc7hVDoAYABzBD/9kT7WIJwg0GFX/eOU6VDnNQQRI75Mub8ilZEBem//1hKPgIwn8INVk0IPRalfO6MAQt120s5cTa8p7SPgQAAAI4Bn3JqR/8Rm1spjaIU6/xvGBtfe8ZUaPldAZyMdDpyAcFtobEh03qU36NAoGWlxJgtetUaAHSLnW6aGWX3M4V1P928Fh8Jw4JSHggoahhsFDmKgji5nuTyLxxpJqdO+NbeXhFPzdy+iwzE35/6VREads+9Csh/etZm0Z3luky+mIwI9nxyMwBJwF7PaCkgAAAA80Gbd0moQWyZTAhP//3xAAADAF9MkU++ClcACDLu4XqckbDMWZvCAQYiqzv1kxJWj05imXHddVPZzQXBKiZhI6uQhsAr/Rxf+u0w37t/aInv/cs1JS4HChLJY/wtGK6xWzin/Q4J0F5BwO66i5/kHNkoHu94XLcw1YdC5LFXlVx7i2Q5MYGgvqqBYF71Ec+fCRbx/uYVjTmT7KqV6unJug/Xu2a0VCJOd/RAqn/Aek4HdWXavEjfm7hhI9wkUbgbUqkYM/591B0BIfDmp6CzZPm0g4WRqWtQu/txkiXTtr43ACOKro+HnA+ccu/gklfkSoSlUwAAAMBBn5VFFSwj/wysRLTup+A7oS9ZP+mBjVP2Rad0TIGYv48EnZzA6wrhZ7mhZszDL5QKy6Kvi6g4C6UXImltFlFsAALVTQOh6M6NxudxqFHlu8aDeDIaMtapnUDNTy6xvfynkUI7HOM7ybMgQRFgf83oo2oFddnop3ER6fjrBtiHgwNJjPfp4uNnugan517Cl2PucpED608Fu33UdG4tMYGLCu5ww1tonwAcNVS/ELp7uU9kWgMvYf4PnyMvTHdAEHEAAACTAZ+0dEf/EX1UMja02aCDnAXUJfBMVVCF0CF4FADpdiPce0INuABYaFxhqpHM7ADz2EHFWDETkhX87N+mrPx6aRiGp3KCI+MMM6CyYwGmkXLOjBZxwo0TCfx+/ZBy4E+w713DR5m4H0TK/BdyMzQ4paQRPHhtOzfHJ9NmGLqPsU/RoBGRDtFdzMYzdJzECrrQXAh4AAAAlwGftmpH/xGbWymNohTr/G8YG197xlRo+V0BoLHUr0DJyB/I+3gd/NYNEALMa2hlByj2E9zP4DvkCSRW3VjKiEXwGGuHBbLHn+2N0qVHCo1yEL5hbQzzkGclDRSNH9hJJpI9+9zu6jNT1OK72hjKA1Y9bwHa0flqsGn4yAjWo/hIrvvfu2MrKm+ltkvVarW9ZcxRY1sAAekAAACoQZu5SahBbJlMFEwj//3hAAADAJaYCKfsPzVSJfKnC9CwBEZrT6wMKeKCoohxi83xuivJOO6QKALEsTVKN/stem5+dqtY4Pmdd8SoENSJgax5Ol65PzduzPuMA5jGTPbZWmMdqdzyIKDq6aRVqhtLTKNJXnQnExhyfrF+8PmJVlDajDbZr9kslh1pewqhEU/A7RqiA9rRUzmJGEqxy0AvuRNsItHsYXd7AAAAvAGf2GpH/xGn+Jk0Bp0YEPXqPfm/6NrmwR1T4H2XZSDvybhQKHNbMLm3pSYztWs+5p9Gmh37joO1AB+6y6nAosGZSBIFGGaRqasZmo4NGjmROL+e7VED0NWClUPTjb0+XN/RBSNRgPmh729H6osWnFji/HHHsykHPkfql44ghntAlILrLumWLpcF25i8vs8LiynrpBJo++E7VSckU+9mVW5TO6jVqMPsREKrps+uwX0BpoloWi0yO1aO0AOmAAAJM2WIggAM//727L4FNhTIUJcRLMXaSnA+KqSAgHc0wAADsCkAAAMAAhVyrneQJLnF8AAAAwGoAFBCwCPCVC2EhH2OIdQ6zhMrr5YgRyrbLg+p6EhdnzcfbEbfLiBlbiW9LvyF6w2xgo6uC5bQolql2jDqsKxqAL1pnm8syNFFTw5eSkYsUhgEUNEN1Jp8ObuJYTo9+dvUKAxzAFUFBiNYWgAPEKPxWAwLUZ7QA90gkst1hOGQ4RdgM7OAOo5Bge+bVAvPwOIjKzYKqyg+mzknjhTeKUzN9qe7JUTgs8bs2THVMwvg0gCA68mLpB+5VaDn+R5JZa8DC2DUWRp61r58OSAJDE036gvkWE35sfvj5Ak+lZvuB0iFVNiIYM4dBIWR6CQ/tpann+tQ1yM2g9qEqCLIDtyCKGhYqH8gMxzf8NmV6fKxUfJMBFBsnhE5lR6Tcy9OvWXhmphEHrB+sn9vmpqLKwgLMvDGmSZ0WETGaMobhpSJWVHW9CBCJcenvF1KhXsf5PPg8+6zRDltSkdXxjKvuuId6Ds6z6BoufPqJwRXoZImThfZngp49blg8KKDFr4HBeMQVAxNxYogL7Bm3zf8OIUjE11NWfo8KJTINLzEWm64Tb74X2FxOQaR+mhMEQZJ+DIA5Q24/7oyJ5P7v74AmpM6b+XXS2CjvbxJWv/iDZaHQkh7QWaqf7hYY7+jm3C+46x3DZC96u+Z15nkRMSeQFQHZC+x3Pn6Q1NJnkFeOpf7HXVsm2xq2lhBYomf/mZvYcQtzyfYSrjvPLicz3eFZgcz5Bdg1CyCPZ5sIlcXSnqcNA0xmt2SXbFXAQ7C0nOaD3+l8+PxbD85bgB0DvI1B3bwxs0t6lp2zyQ/xFwS4rwQqPcuj2KSUFMmHLrDmfvj9CMamPjQkhGFIWN5TXL1jcnBSAlcCkkpxCEWLVtosqB4XMGu7BI/9Mc/B6A7f0jSVTY14RL+zMpXzdPukvkYd+/N/PQKx5iouzM73VsHNbG64Wzy1TxWmUJ2B+A9A+LpX0jPdAoOcEKkOrkE9jtgW8TF1yVBfsmXkdYE2Pk/VIh8l6hl7YHWMx24RqikHsUPAxglrF4Vj740Cr9OMCzUNEoNgDqO8wC5tp6HgyXwACmFb74d+iu5OUF9i8FmI+ZW5bs2wWZfblznLqX7RqYAdxwqp9bDVAU1MfHsOUHCIYTX8/rR08YBu8N1ymexS2b31bXkvLGCh+8/xlD6vFO+Z8ZJLiMeRKmid1BCXcvYARlI/e206KeFXBacTzrwebYe7CAwjD+qmPBUqlZ9xQ3OI9Ndkw5LgXglyGdcm97SvtJ/sSTxxsex/U9/5ZrBpGtrlEXygiFYbPpzYKEA1po2E8Ip8nIHt6JzPrt5mcdhdlf/WZQO+an6KqgBVkv1c/cEfPWXjVev0RPogGuQtd0FAIMebjPUZPmEOW+MASza5Vw5i2OBcVIsqJPx8DCleoeo3dItJy9umUdrUOjTep9DU2x/K+YFBye8QLOkcgLDfDkY4Yp6TY+EDjDjzBb1/HUKkPr+3kt3GjVpKkvj7V3DUFxcuL2JDr3ZIViNMupGcKzTU5Z26O+PSBkH/jsMlOXox3l9y3DdenlnzOujfxBs9uygNxooRfdELpCtifljnW5XZd8J+T3+eLRAK3BQRiI8coQWhhyg7UWy/pdWqFV4ixqhYH6eAuL0racWH7LuO7xhuvnQnZar/tYRSZsMUCaNFGpVEjUH4mPnwy3l63ijJkexErmIKdEaGo4SHA2gAzA9xHZCegFVCgU/bTomzneQcXBlOZcTfQMaOJ+h0MWhFMjoUOdA+jU8WpBNgUOZP5nebh/N+Xk/CN4AHUr5MtT6XzNFCAISNpXXBS/DgtXQ/5fWaGrcK35h4PbzdSuRaeXa01F1o77/m63tqrt4EnmmTevoDrFAGRaMnMygNwgOsA/qe5OB0WKm/nMJqd/XyMNG09EHi3rLqPnUVf1ym9DEyR1fA9CwqJNx1eSBIplLooFqPNbiqv/WSJJIuiZg/dmmELPtcP7cbHlhag3CZrGqdzrQCQrjNkkaOZp6xRu6zDBQgXv3GuhL0hrapjhuHqNXUliVgQTAdXWmk+phRFVP6aC/NHCtdUl9PBS3mAP8qCGj6cX1dmfjbKR8HtOwzNVK8shuU4UWSOefsfdauBzgRNfX3tiuTCbkSNnYSzkZ41tdwojAyuebVPpI4PVdCQ46owtchJDaYno+EZu9Cl8MW8ggl5fK2QP6Ya1hMIaGjVBti9VwPnxSh0eaamkfPv+Dj9o2/689CLog8im6J1I23+5xVpfkQPSOJCNC/7l0TF+iZ3jfSjWTUjF88P8RNOmlkFYdjDLzHwYG/TiN8sO10QQQ3nV6eFxHvVy1mo0WXZNfXxw5h0evbTMNZM3Hvlsdwthibz4k8QG2xkrbV/rRfLxNZn3kTAt4W1WZDhx1ar6UAwUDZ9MgIKmuRSYKflXdU0n/+OTx1kBx0wQweVh3VovF/LZU9+UH64djKWv2S7ALmGJeMxh9JPHIMPAEGgVSlL3033L8JOYulk5rV0HxmfvpApwcj2N9c1n+Od/u7o1QVtgDLqcPh6AwzDKuAEsaLSgKc2PsRZ3b9PASEryPfhTQZO0L5XEQaJkXbzdOssOvCjPMMUZmsXEPai6q0UEiCUcvtoFdy01p2kGLmToDDL012gXU2b82PI5JFeKoeolU4LhmUgTYJqOYUydSpSF+AG/1V+CiQMQlE5/cLv24BhFyCv05NsLDetQ51Ax0z2jiiVd6iWT1Y5wV/AAGuNms5oZ7CSozocxp56JX4137RCkyy/KhomCORtd9NmA9xkiBC4UoGGybEI/YibwM56Uepel3ihMJxSU6Ylf1HUYeUE9xjJvyTdKNdXDSSrUyI619YRuSI+HHKhTCVUtQDKQ7+O/IrpUfy8KfOmrX8v6oGLgVX3CMiAfKeo3ihUk1cEPWT7zmp5z6URYevYydK2Zcw69ZI6W2WV5iYT0zQgZucltNSQ2707U1YOqfJgsCCxwpr7GCVjzzWp2sYCw1/5h+j/N+c6rygAAABF5g5xkfEWJKxy8wIliiXM4KyE8MynlFBYEsaWVTxDQmPuEie4pk3jdRxDRoAAADAfQAR8AfsQAAAS5BmiRsQz/+nhAAAAn/Muj0TPFdXx+6ToAscHriDNFRmb3+LdIb63q2JcdSZzpAnVmMYzAjMooagdhkW5+zbC81I0BYR7wvrcshxkyAMy1gkXvT+H1j3JsJqAO5smAKW7WdFUSMe6xpCd1WeQ57U5mkMsf83LbvvxB7tOOBtJcPcavDvFTOUZRPGcA7HGet9ob2iqyVEz6OnxoKHmJIrCP85KOVstvP0HXen19MkJi5vvrjOL6e62gFV9VfTiQFbN9ULYae31n1tOY+RNlqPV1WTlgsQM1lHYZPg9/7C6seu4Vrk5eQhQNiT59U5iZ87fscrpMu82/fd1c4JfpAgHUSAXv+AU3ykbhiQqfdn+Rks6AqSfrszTmx83jisJnwjQ/geoOsWZ8RfYYbsgCmgAAAAMxBnkJ4hH8AAAMDOEGlSM0txQ0zQSBkgBxlK8W+RSEsTBmYKjmX1Sn77NVqnK/iRDg/2TMN4ZOO0At99QFyBKlWS2bMQ+TveNIUn50R0ar3BnuKvtkb5kKVDjfuXZolL510KZi0xHelif0GVeVxtRnWvaxAlAiAvSB9QbXCvRHE+v07iqJNPbabt/jHsqGBWXV7McrgXUq+ROWFMk2m2FjNBSxT+OsStlzAtoI9dc6k0EHZIDd4BgriBkhFMei6vzhShbX42embESUr8g8AAACLAZ5hdEf/AAAFHDrCrHWEwKoHmAkPAb95QAsCT/pqZi0wIlpWyccjdQHD87sHUHoiJXxIfgTdR0EOoTkW7qB23usriXUvXyVOKOO1DsrmhgkGWNrw+Zn1Wtkv3xrsyCidIwbC5cDCb9Ii3/fP5KZ4GL2g2gxSscuIbDkp512M9DeBUpAiapBp/2XmFQAAAK8BnmNqR/8AAAT7Nd3YwN6eswU27EdU23gA6RbYVUo33tsW85HE2EGA2hHTg817EU46Ss2QwZbcR0eh2bMCdkCyaXXX5xwWiRt7TxMpZwIK8mAOaWQcxJgxV1FpNyBVCieRrOMYkyix19cN8jTGEIhN1k22GacCjlII1aP7KY7JOZVIOMb1qn9hgefW5rNbtFvSt1wt5SDwg5SRjCBV0Njzbm+u83nYAZv9QsEFdwccAAAA7EGaaEmoQWiZTAhn//6eEAAACbdN6Selh96SGFCx+dJCOoAOOlDI66bU30V/FlFczxIcD1jVnB+hNoHHP5UO4tmOkCvkGYlR59w7RQCc1pYBUVEJQMrnjjaf4hGfne3r9fBHL+6m0MnijV5JQ9RFBot1+oHhFkF1fC9dQqePBQPT2Ey095SOdg8nLmWEN3r6ixQ61vH/LVcu1j4K+nrE30vbelQA3ApXbnCWKs1RO/QvsTVC/sPY/Ean2VonkbKedPcqzTXlsJHT+odSk2dMNHFMvcmJbftixyFPCjxXBajNpfpEmQtNbO7Yu4pIAAAAnkGehkURLCP/AAADAyRT8mgVeXabhxEm0/Oo7hSZx4dcgBWDoTe0NKhseglC1mPRYim86SVnEwyNJgmGcz1OJ49TCDcTxTQSIn6YgMSuVnjAGEZfcIrr0CDwcL7V78JJ7sIDteyOp/uBmWYPowweiMlQR1/fQwkWMoLJNA4utQVJMWvXppxQLc7nXBqtZ3HMZJkiABkHrjq1wTKYroqZAAAAZAGepXRH/wAABPhc9bZYAhIC9E8YRD/4QhAAjz8yWTmbiDhOlEC6mKeQYpY5nYm2VYVhvl8m+ZgLXIcwBHNS/1FNUbuEsJR3lG0VZ+1RrlkWA/F7rwU+U+FdtniM+Ll29v0qK2AAAAB3AZ6nakf/AAADAfDhRACKrSvUtYWqlta9P1fgL0PNWUPvBBF3Hb/NuI851F7SbTNZWGWvewSvEUWZvmaX/Tmv4BbVDtwoBMzEOLKq0nAqEX8LcSsuezaflck8rKL4yeX/pUEBoWu1bJ8dmp+WGuNNhcPJnCW5cxsAAADxQZqsSahBbJlMCGf//p4QAAADA8n1+KRkAHLJyDPVgBYreIrkPB4LsF+X5s47DPi7t5ImqPbEHS0Jo502f2uHBcDO+/Dw1mFVyyNWmwK7KSRRZV0gBMUiI1ppVTFMgIKZsuRW5r+15cNC2tCQPwq6fBjzGooHdYDCB1q9IoJAe66gIETL+6V9XLqri3edkRiatOTUfmXo55FmE27dGTAzwktWopctof00ISxf8tq++UKVPN8+LfOVF+Jc6gosI+ARofLN6hM3kQRJ/lUHJ57yOnD8BhXjq9/yqkZiruIQ6KjgzD4fJ9WraVAn3/n2+XEgQAAAAJhBnspFFSwj/wAAAwE+jwldACuU7aWrVgIGWc8QDl4gF6O4UhYykjnYuoS9ye+Xct99d0jEJIzFa7/z9SefFPXZ6RLmle1r/WcpHF3pCLsExrBYu8yM0o+X6wsfp9jiiydLjXsCq5wOOiMk9wgtv7OvYmWS26gRqSvJsL8IJJwK2jW2aTFp6t2wve2MGvYsOzUGdSnpecgEDQAAAG0Bnul0R/8AAAMB8fi7amJEEgw/fHxPi7PJ8urEozJZUPNmiimdksF7HACNKtWjsc6nBo4tWYPwiqkbbmQhU/pe+nBULACe+Ob3L/rCxFG1DAOEXTYlqyRZ360hzkUjx7cIT/19MUu+GnWoBZsxAAAAfAGe62pH/wAAAwHxo13eXX5KRfCGIEy2cCihXFvtoAEyUo/Q+fHRZuoTgg3VUx+c62enSihVqfVo4CEJydpIwubqoQYXVkfbWbEmuNw+bWEK2xOFi9e+JfNhU5n8wxGv6zPp7rPfkXbv+KyJiCw5MFxzg58xABPzCXngypkAAAEOQZrwSahBbJlMCGf//p4QAAADA8oDbb3eI51AYCAIOldgXPqv1MyH0zfxBHT+zdEp6M60l5J+qs+hIv3gCpg3SvEWha/FW/iR0zyis5QHlTLlERjC/5zANXnMRrEBOL1LRvopJWXMaWYZwBr/PNArurv3b0Y8Z/sA5nmwRaW+OAiYsU9fLMin8RVXvHxNWZQ9FVk8QNOeeiPNb5zG5nKHHqmOahL++efq2hWbQpl9J00Up2RKtDRvcVZZJdmlF+Qkj4TveBKuJxbkF6E6UOT7/w7xsIjooptHlhW85DpZHTF4CBgxnhhU0gzz4EtQL5xlQJJEu5kAIG2vdU1SS6xKOYjzaD2HdKyqtuS977ypAAAAkkGfDkUVLCP/AAADAT6RY0epnTTQgjK79J8vQOG+wExBZxWgzArAARB3hXaEhN9t8ypnxxDzVPM/jHRwdDc0gav7jsai9Ou/yfr7cIZ5Gq/Elu5xAD4Q81sp4141a6+Wc2uFBP4RUXBmK8EfugPSqS9PjKGNrV8gh+fns7Z1qa7tPtvkDafvDugMwThWb79CVR0wAAAAMgGfLXRH/wAAAwHxr4pfFVXV84OgEPHFeoH8QPAAIJhwKnTk9XvcxIGjcGwtRyZoYMeAAAAAcAGfL2pH/wAAAwHxMRjaFEW88g+iv+mLuztDpm+hQe02MFlZ6Q7gk5yOagAtwUg8wF92K8ubHL/Vx7sNCrxQDcuQTMCtgEzphzNRZzcWv/zBI5xAGTinlHxHPd7Px34FTpzj0T3ugdXOonwwKTYOjekAAAD2QZs0SahBbJlMCGf//p4QAAADA8/CdIYyJGF7yK6Vz0AODPdF8Vj0xsUab6BGTDnQJT4jXnmikFHncv42zZvyVd5A1NEUtWZxAGrnZQ5LpGJJDu8iuUOXsBMvRniDOuzX72EOpK16d/s58yRWim2zwVEmn1+Wkep9BmMv/EAL4A4/fxbKm5UJ1uliisp5w5mbF23QcBecA2mpH04iSFvLyYq8LtWZpVLxZUAVfp0M5FtP7RySoGKWpyPSHpTYbR1PlosPeQ6k+1WevAjXsWy9UPaZ/l2PrKqtWgo5JPDFGVo2Y6pwJKHyIDZfNqOhdBTztAaufbpgAAAAnUGfUkUVLCP/AAADAT6HjTlU97qDgiGjHchIfidYOOEgDwuSIeD67uWOfJwldCqNMR54glTVFicJPiFzb8Qu/uHABHT4h0WvwW4ux7l/erASub3AVxhFZ9dlhtKgbNkVglC5eSWs5pYwrnQyKbNG1vPeTM2GhWZF8hY90AuAlozS/E0d1nlhIXoBInhnzPt3N0qLwe+C1Ag5/xd1U7oAAABxAZ9xdEf/AAADAfCH1iMPzmi+JJza/HlIQK9JbwAF0CIecSccZHJW6yy59Mh1xFznxjpQgKyF/nGnoSnpLm+cmern/9R80YrvRHy969j0bPi8HIppr/j8LuHLING2QrNxVLXIWFGROZEyyfrQMAJuLQUAAABfAZ9zakf/AAADAduAFyoLH+SsWBVqHsckzDHLmoa1ELlEr5mE7Ln9ImgBGd4AQk18emv1qCK9shxXZ+NRj9fq/6Nj9nSkTk6dUcbhBivc+ZaAs8c8XFvSaAUA1WX0+YEAAAEDQZt4SahBbJlMCGf//p4QAAADAXV88+0zsNNf8AsS4k86u09UJ32W7IwjDT5ZyWdgyqSR3grUTpnWbcm3BLbn3dANdRwSGHV4mKHnall83o6Z6Ycw0zqhs5D1m9t2O7nSPQ7DGLzOD3WusWiG3AZlK1kYyIYzm7Joru9zaQA4CHuAWjNnoRiV7DYDYUYD3sO//p365JDBkyOlbK+hwMmqiMgWhpXjQE1O4hXAszfPI/DZSZ0qwEV+ZRge/KTPrje3txzLxkeTwvQItUaiRmtEkqeg10wAZZqoJCpOf6O4K3zchgvK5+0v/Z1VhyRavx/UkYRceVRL/4p2DoDvmNDELSVvcQAAAJBBn5ZFFSwj/wAAAwE/Cnec5IxLAHzM65bpIbowArVMuiOuzSurtELNUGoT3ZSNey5xXgyvAOl9C6TwWEr91c175DD9ZPM7iu7zly3ggGW6PlsWzhdaq708MLfwedtzJ6v+VgR8IEzW+tF5G7MKwL9aiPQ8GyPWNgH0zY71kiZqmP0d6etbsX5UuEyiJfW3+bgAAAB0AZ+1dEf/AAADAdqKfgRcu2yR7QAglqZFYXI/UlV5NDsAA49YVjXL1v1AxkVdXqMg/DwhG1ODusoo3jxugmAPd4jQlAeDJN1ViwC+M5P7Q/60FZwb/ByGTFu1uVscBAQ6MKy6Y8qJqxywATS5iSybtGHWKpgAAACIAZ+3akf/AAADAduAFzmM7SjKH+eNACaKP3OsZW2q2m/vlJVELBoM0MozANC8Nlh25asO3Y9m7/0XvfGui/lp5/3F+uMf1iONcya8c49McwUHtMJtnrwjFbZGVXtjtiTetgarm6XzvtLlSTCfwKnTqKyl44jgVLf/Mb/hv9jsbL9rh4oxWm4x8QAAAPFBm7xJqEFsmUwIZ//+nhAAAAMBc7PrOmqsvc5mXQA2td7UOVxbH0Y2fJu8IZqcNBCQ8zBtEC4GQXbyzD9n/WrjeFTj/4DQYlIf8z00wJnEgKymMkibyS/XbHcKS9oC0HXT2xrQOCklpfFxZ+eZJcuUONTmYqSWlDwfwhORO9b+hvxEz/KbzgjnadRvYt2GiLCsqy0XSybio99LS7xGD7DCj1eLghxy5rScgCjWwxW0ZQRwt6MjnVQ57ZzfB4NZDkx90s9aZB19fGkSqBVxotp/RDC+gPjIleKf7bLkJD9lB6AW+brRvPNh+GrUdWYEuCYEAAAAi0Gf2kUVLCP/AAADAS4qBiWGI+OFrI9k9dK4zYAbh8rfzLFBm24g6WTga+5CV3fZnyV6AxwlG9iiPVetY+xlAOzq7H3B0qOrKgg6btHUOWpVCh4VURbA2GFjmN1cTS4dli8yKXtHyhlWzjYplq22b9bWMrEv5g2tmw3tq4KiTtfL9hAfRFlCNRrjSXcAAABrAZ/5dEf/AAADAdqKfW2a/NecwjeHanElfGqMFUnsduTkLJWxeB9rAGz4bCGBm9bWvKpjGbADFkqWOtTVdnWBqZeKuCW5J0NpPunFSRg1uOG1VLC92BTAIZpAJ7h0D1RlZ1pcz1NSJaj4UgkAAABiAZ/7akf/AAADAduAF3YvlrKWsJCJRmuWmRScgJewdDe31CWAoMZFNfaLm/xGAAi9kv1dpklWSyZrC26TFk9qUhD73pHBgDW01OxuVX1i18n4R0RaNB7TeAs+uX3BIZ8d3BYAAAC8QZvgSahBbJlMCGf//p4QAAADAXPw5RtVaCzmEsBuHJWDx0AVxRxQO5w+0D+A1nMNno4rnWPtCc/2DIV/aL5VUzkhh50z1EK20eeDU7yLMWKZlNLE+TVz+qOjp8NTcOasESULrB5agBYG10Vuf++O3ZyGLu2XohLDN/pgNyJhai67B8zMexa4RG874vpXxrjhkFd9+r8tbOwEYI1qcnPEOD+o9wqZ4dSWl7db5anQs0vOhruuOy9/wy8QRbEAAAB/QZ4eRRUsI/8AAAMBLioGEvzE8pXcoNQs9nQAlkZMJsdxilamEKD9sjqJVM6mTty/KqVA8oRx12jCcMLAf3MxSIuo1tKZOqdzukSGPY8EOk4qZDEYFtY558yO2aQ/kWYaPFuWu+B3gJdGFePt7nes4fAx1sdx9trn6dk3NQBBDwAAAFkBnj10R/8AAAMB2op90yl/ZCRhFDTq0qy5olDprbIbUzij0nLGbqkldMzvRgAkfr+deLwAUnTxslPKDCUTsCefGUbTuXBC2Bor9te9x3lA3OYbXDNLkvwB8AAAAEwBnj9qR/8AAAMB24AXOY7nNNCugUhrO0YC9u/6ACWr6/jO2IECNRgupjVphUYPYqrIfRtOfb9Jiy6OR7x193e3WN/7sHHPm7ODaALvAAAA40GaJEmoQWyZTAhn//6eEAAAAwF1/2cJI9164hB9BrA0BnB0w/kdwPvU9wm9t3I9Bw0vZBLC9hzSquk5ognRX14o1naBuu8j4ma23q5DHLJScOD4G/8VH/84X5k++xVHlGPwoEb+eucp8bblDjOnMSOVvMy0m+QaTqljlX+tlW71sNHq2ZoALzx8hnQXcNkEJ/yrSko383LKRO2EdiIfkEzEJZ+7+Dgc9ApHtBIoJxXwlKHmrp8CSCe3Ie93l+PIvFgfyWTT+ilLIHNLv1sACe6g6gU38lbphZ5iOOmY3E9eO9UgAAAAeEGeQkUVLCP/AAADAS4qBZRJ86rY9bH2qMn1NBpvNPrmFmq08pFCRFMst4cIAW4UXiImAz9Ylf+a3qJE+OYYCCKdfieNAs4xvVS2bat15V9x4UsU5Qvni/250oj6LtWNkxlOV0fs+pGx0SxSn5udeFp64uYNeNEk4QAAAFsBnmF0R/8AAAMB2op9bjY2q62J8hTyTqKeodomEBC+VABO25ido3tEe4jIP3NMqyiDmm9D4OyhMfZ/3smS8GvBtBORoWYPsktiJloIsW9jTb1do4orLJQDYh8JAAAAYgGeY2pH/wAAAwHbgBU1BwuqrqoeWZbheXxcL+uHfXYSxXPdy4VzZZEUR/h3ACw9inQcXm6VmqTxVtnMt2hNQlaHHwfH/cYxUsjQbG56Z+LolnL3FESC2fDSUNiauTgks62gAAAAsEGaaEmoQWyZTAhn//6eEAAAAwCKdxJh8S0chKvgAf0bBy1zOEKmJ031zPho7OwiUaMABEDAYIwZgObhTbdLqzEDYEqh7Yg4MHmt1/jWpoC3IszyOyQCBpi7xFrzU7Y9r3kvVUEsGsNBi/F+EnvDTa0KIt6XvLtw/fKCmebopcxg3gt3ZXCu156LXAoFwY9/uCOKzolyudvYu+Mi79HKQkdSHQmgG6ZyPBR6b9byPzaAAAAAV0GehkUVLCP/AAADAS4p/XvyQZtClyKwzbzdUM/rur6+yzzf1MSu8i6gCtL5Igb2DGuaL9vvg3B2amkH3RPuIrdvT7l0JjpfXrVs15QsISHbAeE6e20n6QAAAB4BnqV0R/8AAAMB2opT3qpxnxYz17paiQmq+DINBIIAAABEAZ6nakf/AAADAdt/9Fu4LgdomL7qiUwn2kOoNsAE4UHmNyqIWXV6cP2RQ1U9+zC7T3HthikmrQAdlw98Z+7us7mwS90AAACkQZqsSahBbJlMCF///oywAAADAIxLnhcfMcEqK/mWAVRaTBjwBCuoIv7Y2xdJzOj+1VcuvLge5qPwk8lQvS9iWoJjdCIjuSq3vRluILSsISoLVMuSPmcDojNYfg6PqGtXsS2hytyvgcLI03CjLoadHmOpuv60fOhVqWYfPP/1xUjy99l6TR9L0kfh+Jk8xdoOrBePAP8kqkr7w1PC6R6FO8IWJoAAAABxQZ7KRRUsI/8AAAMBLin9ey1BL8HMR//4H5D4Iq7RNoARz77IDaHEeRhTaWKtFGnTt/FJQ4dgEYSz1ZwWHooXjOAkZ0Pu1As4HuBtQJ8rrHjClQffUIeN4EHjAK4bt6Ii+trQqd9sgSQTr+Kaq2HCT0kAAABkAZ7pdEf/AAADAdqKU/ML1//nH58f+8dgHWJWLTaAEhEcMYYVMKhgw1eUZM8XIXiL7AkjFNLyx0PFpwODKRUaQb+uzCp3+ucjL4gyZWtBVnvyEV9KZxhqZfEjuTPTLo9Aykh8IQAAAGEBnutqR/8AAAMB23/0auNG44RC9qERoAkl3EAJlU641Qeln1M+SQ0MseCxtNXvUOlt8GEUTZgDJlpgg2EJWAn3otFuOLN4inI92Hb3hKubwvnoLHE0SAnTCiELzgW2JD5BAAAAp0Ga8EmoQWyZTAhf//6MsAAAAwCMhPZwttWj6x4UIq6m384g/gAXC78E4OZvGB/cUa+webNgXYOrJk52DvptfTW464rMfhe9Xoy064Whr2H54nxqtAzGhkRfTGtdF9gVaHh2zA8Gp8nUAm+K+3bS2hE2/kA4u0pX7L1aEJeI8l+Se4CuJmY/qAZ0s+ikUgr6y9fg9ZjkBPvLzuZvfZz5D2ppGm3KgbRpAAAAZ0GfDkUVLCP/AAADAS4p/ZZwhieegBCP+y42x701F2BNAOCRxkl0Oga6b9CXJ15pkcCABbd0G6XQNfCYdyTP+GGWhKv7v97VP2xmZP/vLCWaPVU0hYcoQz/yMoHeldIa4b8Ftbmwz9IAAABPAZ8tdEf/AAADAdqKVH8C9cIACdrwn+mhgVRY+9Z+P8dXrigJatGmFHha95kkzws5crB21hrhJQ83LbV2pnFHVhcDONo1TskQR78q0ZXW1QAAAFsBny9qR/8AAAMB23/05g+dsUclSf09YkwAQeWBqkQWactZl0YEkxuYdcHznacXDVKhZUiEOQ7oCb5QSrmRMDwZ61xgopIYfGusKGUPV4ix4Cemr+99BnKTl1CTAAAAzEGbMkmoQWyZTBRMM//+nhAAAAMAjpDQQBvGdUlqO8sUXuf2ZNXKJVcVgERn6dITba3QEMzC2b1PkLnIhCi82/vwoma50eXBftpKg+sXrq00RVSO4rI1g6jTH6znGT8pc4rmlJlTWFYrxQZ/1XvGlq+WdsugNmGWsZ/crsgR7XdP+/TPJ+i+pHyzZk3LJHTcWHDYuGWqU0ftodA/74rBACU2AEwkVksWf21BQNt5htJn4VLWJYtwI2O6wVOHduwEN03yWsZw8UM8l9rVWAAAAHoBn1FqR/8AAAMB2+9q96Bcdjbm+jyHhMIj9z5RUQAHSD3oLCVtHv4Nm4H0/qOIJrLmG6jzj2wnIqy8yJR02FfToHowk4dy6dxorwn0P9uQiDDR9JFUCmwiPkhOFIIxMoCvH969DjYoa8FCL1GIqPa9s31UJbkKRz/zAgAAAKRBm1ZJ4QpSZTAhn/6eEAAAAwCWnNyNghlBx90hA22BAMjtZ3F+E/nKDY2/9j5kZPMzLXg661olHyV7iwfqCvz/aX68R0s2FP/cyPRJi9kPVSxK1q6xv7s03AJxVQPXSB+pEh5OFEVqbALPRQrjThC73NtDj7l/GTqBMflGHyLOqB5+Nn5gal7fEUCvZGtP2hI/xwmFiv3rjjlMg/Y3enku7c4mQQAAAKhBn3RFNEwj/wAAAwEuCm6F1tdMMSJzC29Zg9RMgANEnmyshX+SwKQxGXeI3533OiMr0vgf0eBCuJwSlwE64/6jMbbkvOScYXP0qIBlZ3mjAwmkUcPaVgp6Z00lkFs1SiQ18H2m6yWD5GRB+CstMHXg/TnvUAW/0QUfdo4JYlGDCGEChjdSQn5olouAX6YAjKnHPR9DxWPidXB49F8CRkzAyTC3j3BfxB0AAAB4AZ+TdEf/AAADAdqKVu0F8UbrgAfztFTIXiKE1K14ljZNN8bqc7YbgE7vs7XHbwJ06BZqlTBjo6joUUYpileNQVLrCVhe8izHs8tkGu79o2CKyzvYvj5w3RcjwL0YEpnV73SBRuRVoCy4lWRaqqga/4MyxjjWOBFlAAAAWAGflWpH/wAAAwHbf/cCZTPaS13yfpBfBUAhU0FbyM82Nb5aVUnXGg7T3YmoO+as+6CEDeG+PDAP0oLnTb6bLnx/zYmCm+BG5t7stW2b5IXAheDFSbUUesAAAACqQZuaSahBaJlMCGf//p4QAAADAJd8WPH9A0MKsWw/P534nNQZ5+UODV0EN/4kvMp34ce5dnrUSDoT4i1P2XVyFri6eGwJ3nQ4N50yFZVYXe5o1AlgG0WsiFKu+kemrHFDV6G7nL8zJUln/g7sheU7SyHr0ElCRei8Z48gKP7MAFQhXlYq5kqVfv4pXylj4jmCxuwN5cR3QPgrL7d+kmZF2aBw66GIE/ugE+AAAABqQZ+4RREsI/8AAAMBLin92YRI+VVH1hABXC6m6kP87LXjkBoL1Bkn3fchbete+pg186ASWpk9qntkU3D/J5SrB4dAwU60LvGR0cW0TrBObcCVKAGX82OAnxXdxM69c4lyvH9rat9jZYo/SQAAAGQBn9d0R/8AAAMB2opVm0SQBqF1UhuXciHW5gmVFkL2Ktt/Rg0Jy2lsD5yhAWNCMGxD70hDe0pYnZ1zhxAvalP1JF4VSzf2p6XClTE146vB4mJXjF+hvoAP4vdM6lEVOZbumkoIAAAAXwGf2WpH/wAAAwHbf/RmSOYA3eD4h3kAC4Bb3L7lW496f5p+7aH9aeSx3hSiL3XbLeCxrBjAO6IPViX1dakYUx3qoX4fyUb+FGlW21Cd086RD+96VqUVb/WNS3012QgvAAAA5EGb3kmoQWyZTAhn//6eEAAAAwA0pAf3pit+DbhACswythK+yGemDGQpJyFom9nM5WiFyqk4ffSOAHKOP0TnE7LM23aRRDDwD3nPy8XPVg79Lr3PYxIySathi5h8hOXJKrvimIIYe9M0QggC1knmqqDZ8//9doEmEXY82HrNUEHWEqWiTHdr/6EpF0IHEq0eWGio5+UrfDYfEbX9vvc1FR1Ncoxfx/4BQSlYceJB3FCzkR/cHx0dPwPnBECxk9KcJVLRzFCtj1HxOj23GECx8oT/pzSvdrudDooxjPQl5KjDueIiLQAAAGxBn/xFFSwj/wAAAwEuKf1bde/iyQf+3NqD3g4v5DtauAGq4yZEjJ5TOlhA+eoebc9QHoh1xaiD4sB2nMT5fxB8aEKK3R3+PjM2wTnXysoUBIBYHJvNXFOADLTfNjw5NHGl2OaE7uW+mhU77ycAAABYAZ4bdEf/AAADAdqKRcaovWLp10qd0MikjC6AAlKz3yRzK97/p/Yev2S9sqrOx5C355/V4ZmWE/jQHlx6YIDqcSEi9l7jkxBPrpTfHgwnym/86PA2wHKRYQAAAF0Bnh1qR/8AAAMB23/z7xN0TmijqRDYR1JmQsyV9/Vjl8AAnGtf/ieEKv7Z1lZka7A1vQdpxNgu8mG7jsx5hFRj6gFTKMFMbi7Guk1YLg/piUcuBWXYYK3x4AV27i0AAAEcQZoCSahBbJlMCGf//p4QAAADAIakDV6fnaMRq2wANKaecvgrn2TjwmYr7/bi4TjWdWQxv3zXdx3QQJuCdM2vc9/e2uCYTl9jybc/8xvyIW6807odrMy2r08nK41/cXCVYd9cNqeF+iLu9DzDdJ6SND4akcF5/dAJOanlgvudPQO9Jc5P/JcNHu/MnC8vRl7J+S27QdK/ClUggNLU1xxpjA9JvbgoQf4RqcJ8QIsDiS5tvkf3Tv4bAVqLJvoVH5ZkKdMhlfuTAHiRCvDmuGHIrHlFRAE2+J3gonwvm9S+x2Pw72zFRfFxqczfvMfu5xbMb+BJ8q9KDEcEBA1kI0hlZHGUGU6KdFlOxz2jXoHexY5KWJMTqEA40/ZlMoAAAABiQZ4gRRUsI/8AAAMBLin9XvyIAoFLbjK0iUS2IWclJ6Nk/2Z9v6uuonXood7Blkmw5patwqsYO6pTe34f4i1JyZc+2SJqvwnzn8hjbPPlvlkBq6noW/j4G1ZI9L35j5Tb4EEAAAAfAZ5fdEf/AAADAdqKU1gKgUoh6RknbvgDadDqFRL/8AAAAFIBnkFqR/8AAAMB23/z5ka8c5s1MOdOxfqXAALDXGWOxZ/5os8mlPXd/XJeQLKkThtiBafsrs4cXZrn0VvyUCYyJCQJHMo7mYZbtna+6gJX5NqRAAABTUGaRkmoQWyZTAhn//6eEAAAAwCOkUyABnEEOK/izhmRyhrQ3CvFtl2m9O+SuREladuhsj3NOsKgeGdA/H14piAPsYCWRN6fwTGUrv6Dv2Zkk6pSe1xx2glHBx/SzDwytt2EzS96/mrgH2Lw26dm3tKKvMy957pgHyQzytNZ/EKUC8jdygp2OkkZkVhDO2S4HMGlsIrS2vRIIVW0iLF2ou+lWGeg0Voc1jXDgmd0975sUYVYXUmaTlcRddRmYeljLrDcYbx6NGR11ImpISd0V0v2OTPzt4aQ9VoRgtDBMhvw9UD2eM7+xhmuFbMvo+wOhqsxfMjP6VqC9k2WrDqW++JUBOyhuKEsxVICV14DuauKXmmpiLY35VkRQJPvSz+ktNvwS2eBhlrx58U1Y6gRUx8WGOwzX6LcMBZm5gHN2Ts+nwnG1kGW8+WjGJyvgQAAAG1BnmRFFSwj/wAAAwEuKfrbfU+lIj5NWwABwjTxqq1ofxrxxGGpHU4KhftIGc3NDGjSPqe+CbcJm9+4NKhPEoyIdpgy6Diw9z5TZDNwiW1pHCsUP9QBp30+qCrNOsZT4yeUAn4x8zKIlrwP/XpAAAAAUAGeg3RH/wAAAwHaikZQ42XwAC4LKqas/HkSMQ1Nsf8fGGDxbyR2h4iIOBUpN6z8TqqDEcMkt/U1PL/sPIfZMFh6BwnaKhdSqBFJnDzZdq6kAAAAZgGehWpH/wAAAwHbf+ntjF30AIHt12w0hJPxQA/hULU/BLgoKNtIJGtl2vXzNPvfTmw3RyoDad+oIDEV6en8gWCDIQzzXGUwkAwYAGrtlYF/mBd0VXjkCJyUCPjv3KKbffJRRmMKuQAAAQNBmopJqEFsmUwIZ//+nhAAAAMAOehzwAE6lfap8zU7VVBZsBTcUo1uhcF2eYKsGRRNd1XLpwsJk7xj9TAdyJq4CKfKGNMQi0NKiyvLmhWPGI0OIAv4qTSGr6Z7jMlQPQrDGcEDuaPaWW3yuFJN2Ga6B8M2/QOwmAw6KbjbR6BmwieMhkxsyKvVl4yZ09+SAfNxDZEHRyJ7jBBNoaWJpF0kzydJnqeJR3uvt52TsLhvG9JK/ILcmyCM3sLpA9p4r304iLAt5iq/3VKvfbmRgVqQ3oL1cIwXvMmYs6uIxBUSz1bswFD5+9QaxkwqWotTdLqcS5EuJzICli7zBK8Sk46BlpSsAAAAoUGeqEUVLCP/AAADAS4p+vK6OAL/Wcjj7xifks1euER7OIXHvR3mU0GkbIK1zPzyB4/aZwdMirBihOhobCoUwLKvpqeYqzpU/A/L7G+2EWFl6iOqcyYSv2zyrQasAq7hDZdPxYBigOi3UKeKSGq3+B9GkLmpux/MPY9ea/SNVYlkubx/LY0MtGurTw5Iasuf2elAZttkn/8lutFxl0A+PPSBAAAAeQGex3RH/wAAAwHailNsYkAEZ5j61W1vfACnN8Jwh7toIxiI0JJ4+gnPZn2wiOxrO6kMm7zPNBmAdnqTYrFaJ2IlwP6pdVqSXj/RNP028pUiOx5K2xGR2bte43pNDucaBglCn2hMRP3a8N7QxWB3RGoMNWyuPfAyF24AAAB5AZ7Jakf/AAADAdt/6kHxCbF2ZAAE+A0gdgwqFZzEUEvsAthqfSBiILw2fJ7EoBRmJ/tPJdiiRG98irkxNPBgftpEEwl8WMu6A1YlBJS8DYhFBp2AhtKtJZD7m3a7iziWUPzHtZnlyAOYxTeea1j24RTv4N4Y0cycmQAAALxBms5JqEFsmUwIZ//+nhAAAAMAknxThEAC/1NEcJQRCFbqBq5frFooVJpAI4gTCL8WzQH/4uEmgg1BomArhkaQ7OrkeYAa2//BDRYtw9pHqGdJ9u7DRssVuGJh5S8lAfYHTm/RudB6umn8647Wu320vJlKQVZu9TocI6pX4Q5Mn4cnqT8lu7K3A/Kc5XEc/ycNEaCqiH7Zdg6chTbr6/Qqld/0vrqdUnAJBt8TqxXoC0aQbQtlkzaCWTSXcQAAAF1BnuxFFSwj/wAAAwEuKfrnryQA6RpFOxnfOnGniliJr6gf2IfSjjlJC2eDgf9gxa3RTUDYuPS8IeKuycKEWKuK7Hj17CZv/K2tMosxQEuKNb7KlwSwpUK95YEEFlEAAABbAZ8LdEf/AAADAdqKRxDWgEABHu0hwNZXye7wZLi9SsPflpQ8KyuvQpOLgPqQFnFQTYKT8dmUhm872P+Sr1A9apAf0D+PHxthswdl7bMKSUYBg4UFoIkJ/LgCRwAAAD4Bnw1qR/8AAAMB23/qSuugBt9ipOpnIbHySG88jScnL1o4OBxNkHjwpkrTNw/CelyyBfAuPN8XYruEOBebMAAAANtBmxJJqEFsmUwIZ//+nhAAAAMAkn2GQAotVULAw8/2hF+GaC6goEiAUZ+gLqV5sLbtI+961NwGhoTtT6co14ZQKmow0k2jbEUYBAEqrLxLd6K9Pm9LsWEJIO0PgpCuBKve4cfd/8JWm4Q49uq+l9zllG2U1dvBOhxFlcauJsJbtblq3PeH5b4q7+beETrWgoCz/uIwiCXYLqpTJn0/9nbo/cxCYAu5Jz3XMjRUTLpM09mpUPGz8BG+zkvkpkhfKjLbp/QfnlVcSQDOM69rNSyceXU/d1cI/ljv8uAAAAA8QZ8wRRUsI/8AAAMBLin9uX8TbsnAcQIZ3nvw7GWuTHJ3ijtwIdMACcrVNbC83wR2ehHDNTJ+xSDheHzBAAAAJwGfT3RH/wAAAwHailT/BZmH2Wgh4HYmB7adhHOcZiIRWck+K8AHdAAAACIBn1FqR/8AAAMB23/paiAwvAHdasink9/X+xyhM0JW3oHzAAAAaEGbVkmoQWyZTAhn//6eEAAAAwB2i9GuAIApE/2Qdv7Ccl95YmzNs/qfcVgjbdLp6YepxQESIyIVNRAqB4vydk75gcXqK12ov2yNN1ZbyX7b1XCgol86P2q2AS0XnOGciO/+JsXUw3opAAAAJEGfdEUVLCP/AAADAS4p/Mm6oO/+Vb819JVFMlT72FM5cGwi4QAAABkBn5N0R/8AAAMB2opEeUgL4kTARWd/d1DxAAAAHQGflWpH/wAAAwHbf+jyIv6BlM5A1uSOMW0TQAwYAAAAdkGbmkmoQWyZTAhn//6eEAAAAwA17r0ADb92L1zMir9c8yHGfWz1vkIEu5IjRIvtS3iTCTCyrsQy8TwM21acRB+Qv75xCPGCKZqn9F+AF1qAL/WrN6W9Wjl/pWZ8EXKjcmrTvKINjGbuMUyCuckAqFjLTiVB1TsAAAAjQZ+4RRUsI/8AAAMBLin6nOtISzdUDIgzTrx2ZGSKhBFZwwMAAAAbAZ/XdEf/AAADAdqKRco12xy0R+d6vKuGVDlJAAAAGgGf2WpH/wAAAwHbf+k/Rgqq4tsjHioQvBgQAAAAOUGb3kmoQWyZTAhn//6eEAAAAwB2eHXkTlwZABDbolXeaH04hig8GM5WVnhn2kJwvQh4209nn4By4wAAADpBn/xFFSwj/wAAAwEuKfzJuyrgcADm+2PUEQawQPcqW0DYF/M5MKEXrZQIZx2gVR9tIaJbIQG0AImAAAAANgGeG3RH/wAAAwHaikZQ6HCAAS1TvWXurOh0kUCGodYdHvGpeoF18JFScRevdykVmmf9Fj2bBwAAAC0Bnh1qR/8AAAMB23/pkspIAITg3gLtD983uvV97x9NCdvishP1UvaCLHYFCgkAAAAkQZoCSahBbJlMCF///oywAAADABW/tD1fMP5rhtTur5+q4xOAAAAALUGeIEUVLCP/AAADAS4p+brogADb6kmpqlwa6JK0jOae0LqhiwAy1yHe6iL+BQAAAC0Bnl90R/8AAAMB2opG0PN28k+w3ACqCSPXBKBc7WoQJ1x+i+EErd39XrX4j4AAAAAaAZ5Bakf/AAADAdt/6eoV6t/rwsyxkBLtiPkAAAAXQZpGSahBbJlMCF///oywAAADAAADA0MAAAAXQZ5kRRUsI/8AAAMBLin5GDo7aRk7MQQAAAATAZ6DdEf/AAADAdqKPffUgU2gwwAAABQBnoVqR/8AAAMB23/i4iFrg56QQQAAABdBmopJqEFsmUwIX//+jLAAAAMAAAMDQgAAABZBnqhFFSwj/wAAAwEuKfkYjqg4UrCDAAAAEwGex3RH/wAAAwHaij331IFNoMMAAAAUAZ7Jakf/AAADAdt/4uIha4OekEEAAAAWQZrOSahBbJlMCFf//jhAAAADAAAMqQAAABZBnuxFFSwj/wAAAwEuKfkYjqg4UrCDAAAAEwGfC3RH/wAAAwHaij331IFNoMMAAAAUAZ8Nakf/AAADAdt/4uIha4OekEAAAAAWQZsSSahBbJlMCP/8hAAAAwAAAwDAgAAAABZBnzBFFSwj/wAAAwEuKfkYjqg4UrCDAAAAEwGfT3RH/wAAAwHaij331IFNoMMAAAAUAZ9Rakf/AAADAdt/4uIha4OekEAAABQrbW9vdgAAAGxtdmhkAAAAAAAAAAAAAAAAAAAD6AAAHIQAAQAAAQAAAAAAAAAAAAAAAAEAAAAAAAAAAAAAAAAAAAABAAAAAAAAAAAAAAAAAABAAAAAAAAAAAAAAAAAAAAAAAAAAAAAAAAAAAAAAAAAAgAAE1V0cmFrAAAAXHRraGQAAAADAAAAAAAAAAAAAAABAAAAAAAAHIQAAAAAAAAAAAAAAAAAAAAAAAEAAAAAAAAAAAAAAAAAAAABAAAAAAAAAAAAAAAAAABAAAAAAlgAAAGQAAAAAAAkZWR0cwAAABxlbHN0AAAAAAAAAAEAAByEAAACAAABAAAAABLNbWRpYQAAACBtZGhkAAAAAAAAAAAAAAAAAAAyAAABbQBVxAAAAAAALWhkbHIAAAAAAAAAAHZpZGUAAAAAAAAAAAAAAABWaWRlb0hhbmRsZXIAAAASeG1pbmYAAAAUdm1oZAAAAAEAAAAAAAAAAAAAACRkaW5mAAAAHGRyZWYAAAAAAAAAAQAAAAx1cmwgAAAAAQAAEjhzdGJsAAAAmHN0c2QAAAAAAAAAAQAAAIhhdmMxAAAAAAAAAAEAAAAAAAAAAAAAAAAAAAAAAlgBkABIAAAASAAAAAAAAAABAAAAAAAAAAAAAAAAAAAAAAAAAAAAAAAAAAAAAAAAAAAAGP//AAAAMmF2Y0MBZAAf/+EAGWdkAB+s2UCYM+XhAAADAAEAAAMAZA8YMZYBAAZo6+PLIsAAAAAYc3R0cwAAAAAAAAABAAABbQAAAQAAAAAYc3RzcwAAAAAAAAACAAAAAQAAAPsAAAtwY3R0cwAAAAAAAAFsAAAAAQAAAgAAAAABAAAFAAAAAAEAAAIAAAAAAQAAAAAAAAABAAABAAAAAAEAAAQAAAAAAgAAAQAAAAABAAAFAAAAAAEAAAIAAAAAAQAAAAAAAAABAAABAAAAAAEAAAUAAAAAAQAAAgAAAAABAAAAAAAAAAEAAAEAAAAAAQAABQAAAAABAAACAAAAAAEAAAAAAAAAAQAAAQAAAAABAAADAAAAAAEAAAEAAAAAAQAAAwAAAAABAAABAAAAAAEAAAUAAAAAAQAAAgAAAAABAAAAAAAAAAEAAAEAAAAAAQAABQAAAAABAAACAAAAAAEAAAAAAAAAAQAAAQAAAAABAAAFAAAAAAEAAAIAAAAAAQAAAAAAAAABAAABAAAAAAEAAAUAAAAAAQAAAgAAAAABAAAAAAAAAAEAAAEAAAAAAQAABQAAAAABAAACAAAAAAEAAAAAAAAAAQAAAQAAAAABAAAFAAAAAAEAAAIAAAAAAQAAAAAAAAABAAABAAAAAAEAAAUAAAAAAQAAAgAAAAABAAAAAAAAAAEAAAEAAAAAAQAABQAAAAABAAACAAAAAAEAAAAAAAAAAQAAAQAAAAABAAAFAAAAAAEAAAIAAAAAAQAAAAAAAAABAAABAAAAAAEAAAUAAAAAAQAAAgAAAAABAAAAAAAAAAEAAAEAAAAAAQAABQAAAAABAAACAAAAAAEAAAAAAAAAAQAAAQAAAAABAAAFAAAAAAEAAAIAAAAAAQAAAAAAAAABAAABAAAAAAEAAAUAAAAAAQAAAgAAAAABAAAAAAAAAAEAAAEAAAAAAQAABQAAAAABAAACAAAAAAEAAAAAAAAAAQAAAQAAAAABAAAFAAAAAAEAAAIAAAAAAQAAAAAAAAABAAABAAAAAAEAAAUAAAAAAQAAAgAAAAABAAAAAAAAAAEAAAEAAAAAAQAABQAAAAABAAACAAAAAAEAAAAAAAAAAQAAAQAAAAABAAAFAAAAAAEAAAIAAAAAAQAAAAAAAAABAAABAAAAAAEAAAUAAAAAAQAAAgAAAAABAAAAAAAAAAEAAAEAAAAAAQAABQAAAAABAAACAAAAAAEAAAAAAAAAAQAAAQAAAAABAAAFAAAAAAEAAAIAAAAAAQAAAAAAAAABAAABAAAAAAEAAAUAAAAAAQAAAgAAAAABAAAAAAAAAAEAAAEAAAAAAQAABQAAAAABAAACAAAAAAEAAAAAAAAAAQAAAQAAAAABAAAFAAAAAAEAAAIAAAAAAQAAAAAAAAABAAABAAAAAAEAAAUAAAAAAQAAAgAAAAABAAAAAAAAAAEAAAEAAAAAAQAABQAAAAABAAACAAAAAAEAAAAAAAAAAQAAAQAAAAABAAAFAAAAAAEAAAIAAAAAAQAAAAAAAAABAAABAAAAAAEAAAUAAAAAAQAAAgAAAAABAAAAAAAAAAEAAAEAAAAAAQAABQAAAAABAAACAAAAAAEAAAAAAAAAAQAAAQAAAAABAAAFAAAAAAEAAAIAAAAAAQAAAAAAAAABAAABAAAAAAEAAAUAAAAAAQAAAgAAAAABAAAAAAAAAAEAAAEAAAAAAQAABQAAAAABAAACAAAAAAEAAAAAAAAAAQAAAQAAAAABAAAFAAAAAAEAAAIAAAAAAQAAAAAAAAABAAABAAAAAAEAAAUAAAAAAQAAAgAAAAABAAAAAAAAAAEAAAEAAAAAAQAABQAAAAABAAACAAAAAAEAAAAAAAAAAQAAAQAAAAABAAAFAAAAAAEAAAIAAAAAAQAAAAAAAAABAAABAAAAAAEAAAUAAAAAAQAAAgAAAAABAAAAAAAAAAEAAAEAAAAAAQAABQAAAAABAAACAAAAAAEAAAAAAAAAAQAAAQAAAAABAAAFAAAAAAEAAAIAAAAAAQAAAAAAAAABAAABAAAAAAEAAAUAAAAAAQAAAgAAAAABAAAAAAAAAAEAAAEAAAAAAQAABQAAAAABAAACAAAAAAEAAAAAAAAAAQAAAQAAAAABAAAFAAAAAAEAAAIAAAAAAQAAAAAAAAABAAABAAAAAAEAAAUAAAAAAQAAAgAAAAABAAAAAAAAAAEAAAEAAAAAAQAABQAAAAABAAACAAAAAAEAAAAAAAAAAQAAAQAAAAABAAAFAAAAAAEAAAIAAAAAAQAAAAAAAAABAAABAAAAAAEAAAUAAAAAAQAAAgAAAAABAAAAAAAAAAEAAAEAAAAAAQAABQAAAAABAAACAAAAAAEAAAAAAAAAAQAAAQAAAAABAAAFAAAAAAEAAAIAAAAAAQAAAAAAAAABAAABAAAAAAEAAAUAAAAAAQAAAgAAAAABAAAAAAAAAAEAAAEAAAAAAQAABQAAAAABAAACAAAAAAEAAAAAAAAAAQAAAQAAAAABAAAFAAAAAAEAAAIAAAAAAQAAAAAAAAABAAABAAAAAAEAAAUAAAAAAQAAAgAAAAABAAAAAAAAAAEAAAEAAAAAAQAABQAAAAABAAACAAAAAAEAAAAAAAAAAQAAAQAAAAABAAAFAAAAAAEAAAIAAAAAAQAAAAAAAAABAAABAAAAAAEAAAUAAAAAAQAAAgAAAAABAAAAAAAAAAEAAAEAAAAAAQAABQAAAAABAAACAAAAAAEAAAAAAAAAAQAAAQAAAAABAAADAAAAAAEAAAEAAAAAAQAAAgAAAAABAAAFAAAAAAEAAAIAAAAAAQAAAAAAAAABAAABAAAAAAEAAAUAAAAAAQAAAgAAAAABAAAAAAAAAAEAAAEAAAAAAQAABQAAAAABAAACAAAAAAEAAAAAAAAAAQAAAQAAAAABAAAFAAAAAAEAAAIAAAAAAQAAAAAAAAABAAABAAAAAAEAAAUAAAAAAQAAAgAAAAABAAAAAAAAAAEAAAEAAAAAAQAABQAAAAABAAACAAAAAAEAAAAAAAAAAQAAAQAAAAABAAAFAAAAAAEAAAIAAAAAAQAAAAAAAAABAAABAAAAAAEAAAUAAAAAAQAAAgAAAAABAAAAAAAAAAEAAAEAAAAAAQAABQAAAAABAAACAAAAAAEAAAAAAAAAAQAAAQAAAAABAAAFAAAAAAEAAAIAAAAAAQAAAAAAAAABAAABAAAAAAEAAAUAAAAAAQAAAgAAAAABAAAAAAAAAAEAAAEAAAAAAQAABQAAAAABAAACAAAAAAEAAAAAAAAAAQAAAQAAAAABAAADAAAAAAEAAAEAAAAAAQAABQAAAAABAAACAAAAAAEAAAAAAAAAAQAAAQAAAAABAAAFAAAAAAEAAAIAAAAAAQAAAAAAAAABAAABAAAAAAEAAAUAAAAAAQAAAgAAAAABAAAAAAAAAAEAAAEAAAAAAQAABQAAAAABAAACAAAAAAEAAAAAAAAAAQAAAQAAAAABAAAFAAAAAAEAAAIAAAAAAQAAAAAAAAABAAABAAAAAAEAAAUAAAAAAQAAAgAAAAABAAAAAAAAAAEAAAEAAAAAAQAABQAAAAABAAACAAAAAAEAAAAAAAAAAQAAAQAAAAABAAAFAAAAAAEAAAIAAAAAAQAAAAAAAAABAAABAAAAAAEAAAUAAAAAAQAAAgAAAAABAAAAAAAAAAEAAAEAAAAAAQAABQAAAAABAAACAAAAAAEAAAAAAAAAAQAAAQAAAAABAAAFAAAAAAEAAAIAAAAAAQAAAAAAAAABAAABAAAAAAEAAAUAAAAAAQAAAgAAAAABAAAAAAAAAAEAAAEAAAAAAQAABQAAAAABAAACAAAAAAEAAAAAAAAAAQAAAQAAAAABAAAFAAAAAAEAAAIAAAAAAQAAAAAAAAABAAABAAAAAAEAAAUAAAAAAQAAAgAAAAABAAAAAAAAAAEAAAEAAAAAAQAABQAAAAABAAACAAAAAAEAAAAAAAAAAQAAAQAAAAAcc3RzYwAAAAAAAAABAAAAAQAAAW0AAAABAAAFyHN0c3oAAAAAAAAAAAAAAW0AAAlmAAAByQAAAHoAAABeAAAAVgAAAPwAAABfAAAAQwAAAQcAAABpAAAAPwAAAFkAAAE8AAAAkwAAAGUAAACTAAABOgAAAH4AAACdAAAAjAAAAPwAAACDAAAAzAAAAIQAAAEdAAAAnQAAAHQAAAByAAAA8gAAAJMAAACIAAAAjAAAAMwAAABxAAAAdwAAAHEAAAFdAAAAqQAAAGQAAAB4AAABEgAAAM4AAAC3AAAAyAAAAPkAAADJAAAAwgAAAM0AAAFhAAAAxgAAAMUAAADiAAABSQAAAMAAAACvAAAA1QAAAPUAAADGAAAA1AAAAMAAAAEvAAAA+AAAAL0AAADKAAAA9QAAAMEAAACPAAAAmwAAANMAAACJAAAAdwAAAHcAAAEHAAAAhQAAAHsAAAB0AAAAywAAAIoAAACHAAAAcgAAANoAAACiAAAAagAAAHMAAADiAAAAlAAAAGwAAABkAAAAzgAAAKQAAACaAAAAfQAAAMwAAACAAAAAeAAAAIEAAAElAAAAtgAAAK0AAACmAAAA+QAAAKoAAADAAAAApwAAAOsAAACiAAAAtwAAALQAAAC9AAAAkwAAAJIAAAB+AAABAQAAAKAAAACFAAAAsQAAAP8AAACzAAAAzQAAADoAAAEQAAAAzAAAALkAAADHAAAA3gAAAM0AAAC9AAAA1gAAAV0AAADUAAAAyAAAANQAAAErAAAAzwAAAOAAAACwAAABBwAAANEAAACiAAAAmgAAASIAAACMAAAAuQAAANMAAAERAAAAzgAAAD8AAADZAAAAvQAAAMMAAADDAAAAqQAAATgAAACpAAAAvAAAAL8AAADwAAAAuQAAALEAAAC6AAAAnwAAAKgAAACyAAAAqQAAAL0AAACDAAAAogAAAIcAAAErAAAAxgAAADsAAADXAAABHQAAANwAAAC8AAAA3AAAATQAAACtAAAAsQAAAMwAAADnAAAAwwAAALIAAAC7AAAA+gAAAL4AAACmAAAAyQAAATIAAADBAAAAvQAAAL8AAADQAAAAwAAAAK8AAAA/AAAA2QAAAIIAAACgAAAAiwAAAM0AAACuAAAAnAAAAL4AAAD6AAAAzAAAAKoAAADUAAAA5QAAANUAAACmAAAAqAAAALQAAADIAAAAPwAAAIcAAADIAAAAjwAAAI4AAACYAAAA0wAAAIwAAACVAAAAlgAAAR4AAADCAAAAkAAAAK0AAAD3AAAAxAAAAMwAAACsAAABEwAAALwAAACGAAAAlgAAANMAAAC9AAAAiAAAAEkAAADjAAAAuAAAAHYAAACSAAAA9wAAAMQAAACXAAAAmwAAAKwAAADAAAAJNwAAATIAAADQAAAAjwAAALMAAADwAAAAogAAAGgAAAB7AAAA9QAAAJwAAABxAAAAgAAAARIAAACWAAAANgAAAHQAAAD6AAAAoQAAAHUAAABjAAABBwAAAJQAAAB4AAAAjAAAAPUAAACPAAAAbwAAAGYAAADAAAAAgwAAAF0AAABQAAAA5wAAAHwAAABfAAAAZgAAALQAAABbAAAAIgAAAEgAAACoAAAAdQAAAGgAAABlAAAAqwAAAGsAAABTAAAAXwAAANAAAAB+AAAAqAAAAKwAAAB8AAAAXAAAAK4AAABuAAAAaAAAAGMAAADoAAAAcAAAAFwAAABhAAABIAAAAGYAAAAjAAAAVgAAAVEAAABxAAAAVAAAAGoAAAEHAAAApQAAAH0AAAB9AAAAwAAAAGEAAABfAAAAQgAAAN8AAABAAAAAKwAAACYAAABsAAAAKAAAAB0AAAAhAAAAegAAACcAAAAfAAAAHgAAAD0AAAA+AAAAOgAAADEAAAAoAAAAMQAAADEAAAAeAAAAGwAAABsAAAAXAAAAGAAAABsAAAAaAAAAFwAAABgAAAAaAAAAGgAAABcAAAAYAAAAGgAAABoAAAAXAAAAGAAAABRzdGNvAAAAAAAAAAEAAAAwAAAAYnVkdGEAAABabWV0YQAAAAAAAAAhaGRscgAAAAAAAAAAbWRpcmFwcGwAAAAAAAAAAAAAAAAtaWxzdAAAACWpdG9vAAAAHWRhdGEAAAABAAAAAExhdmY1OC4yOS4xMDA=\" type=\"video/mp4\">\n",
              "</video>\n"
            ]
          },
          "metadata": {},
          "execution_count": 3
        }
      ],
      "source": [
        "#@title Visualise Policy\n",
        "#@markdown Choose an episode number that is a multiple of 100 and less than or equal to 1000, and **run this cell**.\n",
        "\n",
        "episode_number = 900 #@param {type:\"number\"}\n",
        "\n",
        "assert (episode_number % 100) == 0, \"Episode number must be a multiple of 100 since we only record every 100th episode.\"\n",
        "assert episode_number < 1001, \"Episode number must be less than or equal to 1000\"\n",
        "\n",
        "eval_episode_number = int(episode_number / 100 * 32)\n",
        "video_path = f\"/content/Asim_RL_Assignment_1b.mp4\"\n",
        "\n",
        "mp4 = open(video_path,'rb').read()\n",
        "data_url = \"data:video/mp4;base64,\" + b64encode(mp4).decode()\n",
        "HTML(\"\"\"\n",
        "<video width=400 controls>\n",
        "      <source src=\"%s\" type=\"video/mp4\">\n",
        "</video>\n",
        "\"\"\" % data_url)"
      ]
    },
    {
      "cell_type": "code",
      "execution_count": null,
      "metadata": {
        "id": "V4kvbw1iXjnE"
      },
      "outputs": [],
      "source": []
    },
    {
      "cell_type": "code",
      "execution_count": null,
      "metadata": {
        "id": "WaOgnEunXjnE"
      },
      "outputs": [],
      "source": []
    },
    {
      "cell_type": "code",
      "execution_count": null,
      "metadata": {
        "id": "nVm8DnxrXjnE"
      },
      "outputs": [],
      "source": []
    },
    {
      "cell_type": "code",
      "execution_count": null,
      "metadata": {
        "id": "XDbb2lj9XjnE"
      },
      "outputs": [],
      "source": []
    },
    {
      "cell_type": "code",
      "execution_count": null,
      "metadata": {
        "id": "tE7sYylyXjnE"
      },
      "outputs": [],
      "source": []
    },
    {
      "cell_type": "code",
      "execution_count": null,
      "metadata": {
        "id": "2S1bwxX_XjnE"
      },
      "outputs": [],
      "source": []
    },
    {
      "cell_type": "code",
      "execution_count": null,
      "metadata": {
        "id": "33Qo4XkIXjnF"
      },
      "outputs": [],
      "source": []
    },
    {
      "cell_type": "code",
      "execution_count": null,
      "metadata": {
        "id": "O3DPvpFYXjnF"
      },
      "outputs": [],
      "source": []
    },
    {
      "cell_type": "code",
      "execution_count": null,
      "metadata": {
        "id": "gdYrFvjzXjnF"
      },
      "outputs": [],
      "source": []
    },
    {
      "cell_type": "code",
      "execution_count": null,
      "metadata": {
        "id": "znzRffN9XjnF"
      },
      "outputs": [],
      "source": []
    },
    {
      "cell_type": "code",
      "execution_count": null,
      "metadata": {
        "id": "0aDgfzwGXjnF"
      },
      "outputs": [],
      "source": []
    },
    {
      "cell_type": "code",
      "execution_count": null,
      "metadata": {
        "id": "8m8in2gkXjnF"
      },
      "outputs": [],
      "source": []
    }
  ],
  "metadata": {
    "kernelspec": {
      "display_name": "ASIM",
      "language": "python",
      "name": "python3"
    },
    "language_info": {
      "codemirror_mode": {
        "name": "ipython",
        "version": 3
      },
      "file_extension": ".py",
      "mimetype": "text/x-python",
      "name": "python",
      "nbconvert_exporter": "python",
      "pygments_lexer": "ipython3",
      "version": "3.10.12"
    },
    "colab": {
      "provenance": []
    }
  },
  "nbformat": 4,
  "nbformat_minor": 0
}